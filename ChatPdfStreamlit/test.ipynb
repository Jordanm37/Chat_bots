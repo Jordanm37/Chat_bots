{
 "cells": [
  {
   "cell_type": "code",
   "execution_count": null,
   "metadata": {},
   "outputs": [],
   "source": [
    "import openai\n",
    "import os\n",
    "from dotenv import load_dotenv\n",
    "\n",
    "load_dotenv('.env')\n",
    "\n",
    "\n",
    "openai.api_key = os.getenv('OPENAI_API_KEY')"
   ]
  },
  {
   "cell_type": "code",
   "execution_count": null,
   "metadata": {},
   "outputs": [],
   "source": [
    "class ChatBot():\n",
    "    \n",
    "    def answer(self, user_content):\n",
    "        response = openai.ChatCompletion.create(\n",
    "            model=\"gpt-4\",\n",
    "            messages=[\n",
    "                {\"role\": \"system\", \"content\": \"You are a chatbot. Hold a conversation. Respond using markdown.\"},\n",
    "                {\"role\": \"user\", \"content\": user_content},\n",
    "            ],\n",
    "        )\n",
    "        return response[\"choices\"][0][\"message\"][\"content\"]"
   ]
  },
  {
   "cell_type": "code",
   "execution_count": null,
   "metadata": {},
   "outputs": [],
   "source": [
    "mes = 'what is your name?'\n",
    "chat = ChatBot()\n",
    "a = chat.answer(mes)\n"
   ]
  },
  {
   "attachments": {},
   "cell_type": "markdown",
   "metadata": {},
   "source": [
    "Test retrval with chroma"
   ]
  },
  {
   "cell_type": "code",
   "execution_count": null,
   "metadata": {},
   "outputs": [],
   "source": [
    "from chatbot import ChatBot \n",
    "\n",
    "# Instantiate the chatbot and layout\n",
    "chatbot = ChatBot()"
   ]
  },
  {
   "cell_type": "code",
   "execution_count": null,
   "metadata": {},
   "outputs": [],
   "source": [
    "def parse_sources(sources):\n",
    "    # Create an empty list to store results\n",
    "    parsed_sources = []\n",
    "    # Iterate over all sources\n",
    "    for source in sources:\n",
    "        # Get the metadata from the source\n",
    "        metadata = source['metadata']\n",
    "        # Get the source name, or use a default if not found\n",
    "        source_name = metadata.get('source', 'Unknown Source')\n",
    "        # Get the page number, or use a default if not found\n",
    "        page_number = metadata.get('page', 'Unknown Page')\n",
    "        # Create the string and add it to the results\n",
    "        parsed_sources.append(f\"Source: {source_name}, Page: {page_number}\")\n",
    "    # Return the results\n",
    "    return parsed_sources\n"
   ]
  },
  {
   "cell_type": "code",
   "execution_count": null,
   "metadata": {},
   "outputs": [],
   "source": [
    "def parse_page_content(page_content):\n",
    "    lines = page_content.split('\\n')\n",
    "    parsed_content = \"\\n\".join(line for line in lines if line.strip())  # remove empty lines\n",
    "    return parsed_content\n"
   ]
  },
  {
   "cell_type": "code",
   "execution_count": null,
   "metadata": {},
   "outputs": [],
   "source": [
    "chat = chatbot.chat_bot_response('what is the law on gardeing?', [])"
   ]
  },
  {
   "cell_type": "code",
   "execution_count": null,
   "metadata": {},
   "outputs": [],
   "source": [
    "pc = chat['source_documents'][0].page_content"
   ]
  },
  {
   "cell_type": "code",
   "execution_count": null,
   "metadata": {},
   "outputs": [],
   "source": [
    "parse_page_content(pc)"
   ]
  },
  {
   "cell_type": "code",
   "execution_count": null,
   "metadata": {},
   "outputs": [],
   "source": [
    "query = \"Does pruning of a native tree trigger a permit requirement under the Significant landscape overlay schedule 2\"\n",
    "chat = chatbot.chat_bot_response(query, [])"
   ]
  },
  {
   "cell_type": "code",
   "execution_count": 6,
   "metadata": {},
   "outputs": [
    {
     "data": {
      "text/plain": [
       "{'question': 'Does pruning of a native tree trigger a permit requirement under the Significant landscape overlay schedule 2',\n",
       " 'chat_history': [],\n",
       " 'answer': 'Yes, pruning of a native tree does trigger a permit requirement under the Significant Landscape Overlay Schedule 2. This is stated in clause 42.03-2 of the Nillumbik Planning Scheme, which requires a permit to be obtained for the construction of a building or to carry out works, including the pruning or lopping of the trunk of a native tree, unless a schedule to the overlay specifically states that a permit is not required. Therefore, if the schedule to the overlay does not specifically state that a permit is not required for pruning of a native tree, then a permit must be obtained.\\n\\nThe relevant clause is:\\n\\nVC224 Permit requirement\\nA permit is required to:\\n- Construct a building or to carry out works. This does not apply:\\n- If a schedule to this overlay specifically states that a permit is not required.\\n- To the conduct of agricultural activities including ploughing and fencing (but not the construction of dams) unless a specific requirement for that activity is specified in a schedule to this overlay.\\n- Construct a fence if specified in the schedule to this overlay.\\n- Remove, destroy or lop any vegetation specified in a schedule to this overlay. This does not apply:\\n- Lopping or pruning native vegetation, for maintenance only, provided no more than 1/3 of the foliage of each individual plant is lopped or pruned. Lopping and pruning for maintenance.\\n- Native vegetation that is to be removed, destroyed or lopped to the minimum extent necessary by the holder of an exploration, mining, prospecting, or retention license issued under the Mineral Resources (Sustainable Development) Act 1990: Mineral exploration and extraction that is low impact exploration within the meaning of Schedule 4A of the Mineral Resources (Sustainable Development) Act 1990; or in accordance with a work plan approved under Part 3 of the Mineral Resources (Sustainable Development) Act 1990.\\n\\nIt is important to note that the exemption for lopping or pruning native vegetation for maintenance only does not apply to the pruning or lopping of the trunk of a native tree, as stated in the relevant documents provided.',\n",
       " 'source_documents': [Document(page_content='The requirement to obtain a permit does not apply to:\\nLopping or pruning native vegetation, for maintenance only, provided no more than\\n1/3 of the foliage of each individual plant is lopped or pruned.Lopping and\\npruning for\\nmaintenanceThis exemption does not apply to:\\nthe pruning or lopping of the trunk of a native tree; or\\nnative vegetation on a roadside or railway reservation.\\nNative vegetation that is to be removed, destroyed or lopped to the minimum extent\\nnecessary by the holder of an exploration, mining, prospecting, or retention license\\nissued under the Mineral Resources (Sustainable Development) Act 1990 :Mineral\\nexploration and\\nextraction\\nthat is low impact exploration within the meaning of Schedule 4A of the Mineral\\nResources (Sustainable Development) Act 1990 ; or\\nin accordance with a work plan approved under Part 3 of the Mineral Resources\\n(Sustainable Development) Act 1990 .\\nNote: Schedule 4A of the Mineral Resources (Sustainable Development) Act 1990', metadata={'source': 'docs\\\\Nillumbik PS All Ordinance 2.pdf', 'page': 687}),\n",
       "  Document(page_content='42.03\\n31/07/2018\\nVC148SIGNIFICANT LANDSCAPE OVERLAY\\nShownontheplanningschememapas SLOwithanumber.\\nPurpose\\nToimplementtheMunicipalPlanningStrategyandthePlanningPolicyFramework.\\nToidentifysignificantlandscapes.\\nToconserveandenhancethecharacterofsignificantlandscapes.\\n42.03-1\\n31/07/2018\\nVC148Landscape character and objectives\\nAscheduletothisoverlaymustcontain:\\nAstatementofthenatureandkeyelementsofthelandscape.\\nThelandscapecharacterobjectivestobeachieved.\\n42.03-2\\n28/10/2022\\nVC224Permit requirement\\nApermitisrequiredto:\\nConstructabuildingorconstructorcarryoutworks.Thisdoesnotapply:\\n–Ifascheduletothisoverlayspecificallystatesthatapermitisnotrequired.\\n–Totheconductofagriculturalactivitiesincludingploughingandfencing(butnotthe\\nconstructionofdams)unlessaspecificrequirementforthatactivityisspecifiedinaschedule\\ntothisoverlay.\\nConstructafenceifspecifiedinthescheduletothisoverlay.\\nRemove,destroyorlopanyvegetationspecifiedinascheduletothisoverlay.Thisdoesnot\\napply:', metadata={'source': 'docs\\\\Nillumbik PS All Ordinance 2.pdf', 'page': 440}),\n",
       "  Document(page_content='VC138Permit requirement\\nApermitisrequiredtoremove,destroyorlopnativevegetation,includingdeadnativevegetation.\\nThisdoesnotapply:\\nIfthetabletoClause52.17-7specificallystatesthatapermitisnotrequired.\\nIfanativevegetationprecinctplancorrespondingtothelandisincorporatedintothisscheme\\nandlistedinthescheduletoClause52.16.\\nTotheremoval,destructionorloppingofnativevegetationspecifiedinthescheduletothis\\nclause.\\n52.17-2\\n14/07/2022\\nVC213Application requirements\\nAnapplicationtoremove,destroyorlopnativevegetationmustcomplywiththeapplication\\nrequirementsspecifiedintheGuidelines.\\n52.17-3\\n12/12/2017\\nVC138Property vegetation plans\\nApermitgrantedtoremove,destroyorlopnativevegetationinaccordancewithaproperty\\nvegetationplanmustincludethefollowingcondition:\\n“Thispermitwillexpireifoneofthefollowingcircumstancesapplies:\\nTheremoval,destructionorloppingofnativevegetationdoesnotstartwithintwoyearsofthe\\ndateofthispermit.\\nTheremoval,destructionorloppingofnativevegetationisnotcompletedwithintenyearsof', metadata={'source': 'docs\\\\Nillumbik PS All Ordinance 2.pdf', 'page': 683}),\n",
       "  Document(page_content='terrain,servicesandanyexistingvegetation.\\nToensurethatthehealthofexistingtreesisnotjeopardisedbynewdevelopment.\\n3.0\\n07/07/2022\\nC118nillPermit requirement\\nApermitisrequired:\\nToremove,destroyorlopanysubstantialtree.Thisdoesnotapplytothepruningofatreefor\\nregenerationorornamentalshapingortheremovalofdeadtreesordeadlimbsorthepartial\\nremovaloflimbsandbranchesdirectlyoverhangingdwellings,garagesandoutbuildingsor\\ntheremovalofKunzealeptospermoides(YarraBurgan)forfirepreventionpurposes.\\nToconstructafrontfence.\\nApermitisnotrequiredtoconstructabuildingorcarryoutworksprovidedthebuildingorworks\\naremorethan5metresfromthebaseofanysubstantialtree.\\nForthepurposeofthisclauseasubstantialtreeisdefinedasvegetationthathasatrunk\\ncircumferencegreaterthan0.5metreatonemetreabovegroundlevel.\\n4.0\\n07/07/2022\\nC118nillApplication requirements\\nNonespecified.\\nPage451of1122NILLUMBIK PLANNING SCHEME', metadata={'source': 'docs\\\\Nillumbik PS All Ordinance 2.pdf', 'page': 450})]}"
      ]
     },
     "execution_count": 6,
     "metadata": {},
     "output_type": "execute_result"
    }
   ],
   "source": [
    "chat"
   ]
  },
  {
   "cell_type": "code",
   "execution_count": null,
   "metadata": {},
   "outputs": [],
   "source": [
    "query = \"What are the laws relating to development of outdoor areas\"\n",
    "chat = chatbot.chat_bot_response(query, [])"
   ]
  },
  {
   "attachments": {},
   "cell_type": "markdown",
   "metadata": {},
   "source": [
    "test qdrant"
   ]
  },
  {
   "cell_type": "code",
   "execution_count": 2,
   "metadata": {},
   "outputs": [],
   "source": [
    "from langchain.vectorstores import Qdrant\n",
    "from langchain.embeddings import OpenAIEmbeddings\n",
    "from langchain.text_splitter import RecursiveCharacterTextSplitter\n",
    "from langchain.document_loaders import PyPDFDirectoryLoader\n",
    "from dotenv import load_dotenv\n",
    "import os"
   ]
  },
  {
   "cell_type": "code",
   "execution_count": 3,
   "metadata": {},
   "outputs": [],
   "source": [
    "\n",
    "\n",
    "load_dotenv()\n",
    "\n",
    "# load the API key from the .env file\n",
    "os.environ[\"OPENAI_API_KEY\"] = os.getenv(\"OPENAI_API_KEY\")\n",
    "\n",
    "# user_input = input(\"User: \")\n",
    "# load the documents from the docs directory\n",
    "loader = PyPDFDirectoryLoader(\"docs/\")\n",
    "docs = loader.load()\n",
    "\n",
    "#split the documents into chunks\n",
    "text_splitter = RecursiveCharacterTextSplitter(chunk_size=1000, chunk_overlap=200)\n",
    "texts = text_splitter.split_documents(docs)\n",
    "\n",
    "embedding = OpenAIEmbeddings()"
   ]
  },
  {
   "cell_type": "code",
   "execution_count": 4,
   "metadata": {},
   "outputs": [],
   "source": [
    "qdrant = Qdrant.from_documents(\n",
    "    docs,\n",
    "    embedding,\n",
    "    path=\"/tmp/local_qdrant\",\n",
    "    collection_name=\"my_documents\",\n",
    ")"
   ]
  },
  {
   "cell_type": "code",
   "execution_count": 7,
   "metadata": {},
   "outputs": [],
   "source": [
    "query = \"What are the laws relating to development of outdoor areas\""
   ]
  },
  {
   "cell_type": "code",
   "execution_count": 3,
   "metadata": {},
   "outputs": [
    {
     "ename": "NameError",
     "evalue": "name 'qdrant' is not defined",
     "output_type": "error",
     "traceback": [
      "\u001b[1;31m---------------------------------------------------------------------------\u001b[0m",
      "\u001b[1;31mNameError\u001b[0m                                 Traceback (most recent call last)",
      "Cell \u001b[1;32mIn[3], line 1\u001b[0m\n\u001b[1;32m----> 1\u001b[0m qdrant\u001b[39m.\u001b[39msimilarity_search(query)\n",
      "\u001b[1;31mNameError\u001b[0m: name 'qdrant' is not defined"
     ]
    }
   ],
   "source": [
    "qdrant.similarity_search(query)"
   ]
  },
  {
   "cell_type": "code",
   "execution_count": 8,
   "metadata": {},
   "outputs": [],
   "source": [
    "url = \"https://860d241f-fef7-48ab-ba8f-f81d6c2973b1.us-east-1-0.aws.cloud.qdrant.io\"\n",
    "api_key = \"u-fxKHirhYZOqUkPTYUHa0vjF-eUhA-tPw_wB1rtZ74-Bg9WWQPgCQ\""
   ]
  },
  {
   "cell_type": "code",
   "execution_count": 9,
   "metadata": {},
   "outputs": [],
   "source": [
    "\n",
    "qdrant = Qdrant.from_documents(\n",
    "    docs,\n",
    "    embedding,\n",
    "    url=url,\n",
    "    prefer_grpc=True,\n",
    "    api_key=api_key,\n",
    "    collection_name=\"my_documents\",\n",
    ")"
   ]
  },
  {
   "cell_type": "code",
   "execution_count": 12,
   "metadata": {},
   "outputs": [
    {
     "ename": "NameError",
     "evalue": "name 'qdrant' is not defined",
     "output_type": "error",
     "traceback": [
      "\u001b[1;31m---------------------------------------------------------------------------\u001b[0m",
      "\u001b[1;31mNameError\u001b[0m                                 Traceback (most recent call last)",
      "Cell \u001b[1;32mIn[12], line 1\u001b[0m\n\u001b[1;32m----> 1\u001b[0m \u001b[39mdel\u001b[39;00m qdrant\n",
      "\u001b[1;31mNameError\u001b[0m: name 'qdrant' is not defined"
     ]
    }
   ],
   "source": [
    "del qdrant"
   ]
  },
  {
   "cell_type": "code",
   "execution_count": 5,
   "metadata": {},
   "outputs": [],
   "source": [
    "\n",
    "import qdrant_client\n",
    "\n",
    "client = qdrant_client.QdrantClient(url=url, prefer_grpc=True, api_key=api_key)\n",
    "qdrant = Qdrant(client=client, collection_name=\"my_documents\", embeddings=embedding)\n"
   ]
  },
  {
   "cell_type": "code",
   "execution_count": 9,
   "metadata": {},
   "outputs": [
    {
     "data": {
      "text/plain": [
       "[Document(page_content='52.20-7.2 Communal open space\\nAdevelopmentof10ormoredwellingsshouldprovideaminimumareaofcommunaloutdoor\\nopenspaceof30squaremetres.\\nIfadevelopmentcontains13ormoredwellings,thedevelopmentshouldalsoprovideanadditional\\nminimumareaofcommunalopenspaceof2.5squaremetresperdwellingor220squaremetres,\\nwhicheveristhelesser.Thisadditionalareamaybeindoorsoroutdoorsandconsistofmultiple\\nseparateareasofcommunalopenspace.\\nEachareaofcommunalopenspaceshouldbe:\\nAccessibletoallresidents.\\nAuseablesize,shapeanddimension.\\nCapableofefficientmanagement.\\nLocatedto:\\n–Providepassivesurveillanceopportunities,whereappropriate.\\n–Provideoutlookforasmanydwellingsaspracticable.\\n–Avoidoverlookingintohabitableroomsandprivateopenspaceofnewdwellings.\\n–Minimisenoiseimpactstonewandexistingdwellings.\\nAnyareaofcommunaloutdooropenspaceshouldbelandscapedandincludecanopycoverand\\ntrees.\\n52.20-7.3 Solar access to communal outdoor open space\\nThecommunaloutdooropenspaceshouldbelocatedonthenorthsideofabuilding,ifappropriate.\\nAtleast50percentor125squaremetres,whicheveristhelesser,oftheprimarycommunaloutdoor\\nopenspaceshouldreceiveaminimumoftwohoursofsunlightbetween9amand3pmon21June.\\n52.20-7.4 Landscaping\\nDevelopmentshouldretainexistingtreesandcanopycover.\\nDevelopmentshouldprovideforthereplacementofanysignificanttreesthathavebeenremoved\\ninthe12monthspriortotheapplicationbeingmade.\\nDevelopmentshould:\\nProvidethecanopycoveranddeepsoilareaspecifiedinTable5.Existingtreescanbeusedto\\nmeetthecanopycoverrequirementsofTable5.\\nProvidecanopycoverthroughcanopytreesthatare:\\n–LocatedinanareaofdeepsoilspecifiedinTable6.Wheredeepsoilcannotbeprovided,\\ntreesshouldbeprovidedinplantersspecifiedinTable6.\\n–ConsistentwiththecanopydiameterandheightatmaturityspecifiedinTable7.\\n–Locatedincommunaloutdooropenspaceorcommonareasorstreetfrontages.\\nComprisesmallertrees,shrubsandgroundcover,includingfloweringnativespecies.\\nIncludelandscaping,suchasclimbingplantsorsmallerplantinplanters,inthestreetfrontage\\nandinoutdoorareas,includingcommunaloutdooropenspace.\\nShadeoutdoorareasexposedtosummersunthroughlandscapingorshadestructuresanduse\\npavingandsurfacematerialsthatlowersurfacetemperaturesandreduceheatabsorption.\\nPage714of1122NILLUMBIK PLANNING SCHEME', metadata={'page': 713, 'source': 'docs\\\\Nillumbik PS All Ordinance 2.pdf'}),\n",
       " Document(page_content='Standard B37\\nThecommunaloutdooropenspaceshouldbelocatedonthenorthsideofabuilding,ifappropriate.\\nAtleast50percentor125squaremetres,whicheveristhelesser,oftheprimarycommunaloutdoor\\nopenspaceshouldreceiveaminimumoftwohoursofsunlightbetween9amand3pmon21June.\\nDecision guidelines\\nBeforedecidingonanapplication,theresponsibleauthoritymustconsider:\\nThedesignresponse.\\nTheuseabilityandamenityoftheprimarycommunaloutdooropenspaceareasbasedonthe\\nurbancontext,theorientationofthebuilding,thelayoutofdwellingsandthesunlightitwill\\nreceive.\\n55.07-4\\n20/12/2021\\nVC174Landscaping objective\\nToprovidelandscapingthatsupportstheexistingorpreferredurbancontextoftheareaandreduces\\nthevisualimpactofbuildingsonthestreetscape.\\nTopreserveexistingcanopycoverandsupporttheprovisionofnewcanopycover.\\nToensurelandscapingisclimateresponsive,supportsbiodiversity,wellbeingandamenityand\\nreducesurbanheat.\\nStandard B38\\nDevelopmentshouldretainexistingtreesandcanopycover.\\nDevelopmentshouldprovideforthereplacementofanysignificanttreesthathavebeenremoved\\ninthe12monthspriortotheapplicationbeingmade.\\nDevelopmentshould:\\nProvidethecanopycoveranddeepsoilareasspecifiedinTableB5.Existingtreescanbeused\\ntomeetthecanopycoverrequirementsofTableB5.\\nProvidecanopycoverthroughcanopytreesthatare:\\n–LocatedinanareaofdeepsoilspecifiedinTableB6.Wheredeepsoilcannotbeprovided\\ntreesshouldbeprovidedinplantersspecifiedinTableB6.\\n–ConsistentwiththecanopydiameterandheightatmaturityspecifiedinTableB7.\\n–Locatedincommunaloutdooropenspaceorcommonareasorstreetfrontages.\\nComprisesmallertrees,shrubsandgroundcover,includingfloweringnativespecies.\\nIncludelandscaping,suchasclimbingplantsorsmallerplantsinplanters,inthestreetfrontage\\nandinoutdoorareas,includingcommunaloutdooropenspace.\\nShadeoutdoorareasexposedtosummersunthroughlandscapingorshadestructuresanduse\\npavingandsurfacematerialsthatlowersurfacetemperaturesandreduceheatabsorption.\\nBesupportedbyirrigationsystemswhichutilisealternativewatersourcessuchasrainwater,\\nstormwaterandrecycledwater.\\nProtectanypredominantlandscapefeaturesofthearea.\\nTakeintoaccountthesoiltypeanddrainagepatternsofthesite.\\nProvideasafe,attractiveandfunctionalenvironmentforresidents.\\nSpecifylandscapethemes,vegetation(locationandspecies),irrigationsystems,pavingand\\nlighting.\\nPage891of1122NILLUMBIK PLANNING SCHEME', metadata={'page': 890, 'source': 'docs\\\\Nillumbik PS All Ordinance 2.pdf'}),\n",
       " Document(page_content='Theuseabilityandamenityoftheprimarycommunaloutdooropenspaceareasbasedonthe\\nurbancontext,theorientationofthebuilding,thelayoutofdwellingsandthesunlightitwill\\nreceive.\\n58.03-4\\n13/04/2017\\nVC136Safety objective\\nToensurethelayoutofdevelopmentprovidesforthesafetyandsecurityofresidentsandproperty.\\nStandard D9\\nEntrancestodwellingsshouldnotbeobscuredorisolatedfromthestreetandinternalaccessways.\\nPlantingwhichcreatesunsafespacesalongstreetsandaccesswaysshouldbeavoided.\\nDevelopmentsshouldbedesignedtoprovidegoodlighting,visibilityandsurveillanceofcarparks\\nandinternalaccessways.\\nPrivatespaceswithindevelopmentsshouldbeprotectedfrominappropriateuseaspublic\\nthoroughfares.\\nDecision guideline\\nBeforedecidingonanapplication,theresponsibleauthoritymustconsiderthedesignresponse.\\n58.03-5\\n04/05/2022\\nVC210Landscaping objectives\\nToprovidelandscapingthatsupportstheexistingorpreferredurbancontextoftheareaandreduces\\nthevisualimpactofbuildingsonthestreetscape.\\nTopreserveexistingcanopycoverandsupporttheprovisionofnewcanopycover.\\nToensurelandscapingisclimateresponsive,supportsbiodiversity,wellbeingandamenityand\\nreducesurbanheat.\\nStandard D10\\nDevelopmentshouldretainexistingtreesandcanopycover.\\nDevelopmentshouldprovideforthereplacementofanysignificanttreesthathavebeenremoved\\ninthe12monthspriortotheapplicationbeingmade.\\nDevelopmentshould:\\nProvidethecanopycoveranddeepsoilareasspecifiedinTableD2.Existingtreescanbeused\\ntomeetthecanopycoverrequirementsofTableD2.\\nProvidecanopycoverthroughcanopytreesthatare:\\n–LocatedinanareaofdeepsoilspecifiedinTableD3.Wheredeepsoilcannotbeprovided\\ntreesshouldbeprovidedinplantersspecifiedinTableD3.\\n–ConsistentwiththecanopydiameterandheightatmaturityspecifiedinTableD4.\\n–Locatedincommunaloutdooropenspaceorcommonareasorstreetfrontages.\\nComprisesmallertrees,shrubsandgroundcover,includingfloweringnativespecies.\\nIncludelandscaping,suchasclimbingplantsorsmallerplantsinplanters,inthestreetfrontage\\nandinoutdoorareas,includingcommunaloutdooropenspace.\\nShadeoutdoorareasexposedtosummersunthroughlandscapingorshadestructuresanduse\\npavingandsurfacematerialsthatlowersurfacetemperaturesandreduceheatabsorption.\\nBesupportedbyirrigationsystemswhichutilisealternativewatersourcessuchasrainwater,\\nstormwaterandrecycledwater.\\nProtectanypredominantlandscapefeaturesofthearea.\\nPage939of1122NILLUMBIK PLANNING SCHEME', metadata={'page': 938, 'source': 'docs\\\\Nillumbik PS All Ordinance 2.pdf'}),\n",
       " Document(page_content='53.20-6.22 Common property\\nDevelopments should clearly delineate public, communal and private areas.\\nCommon property, where provided, should be functional and capable of efficient management.\\n53.20-6.23 Site services\\nDevelopment should provide space (including easements where required) for site services to\\nbe installed and maintained efficiently and economically.\\nMeters and utility services should be designed as an integrated component of the building\\nor landscape.\\nBin and recycling enclosures, mailboxes and other site facilities should be adequate in size,\\ndurable, waterproof and blend in with the development.\\nMailboxes and other site facilities should be adequate in size, durable, weather-protected,\\nlocated for convenient access and integrated into the overall design of the development.\\n53.20-7\\n04/05/2022\\nVC210Development standards for apartments\\n53.20-7.1 Energy efficiency\\nBuildingsshouldbe:\\nOrientedtomakeappropriateuseofsolarenergy.\\nSitedanddesignedtoensurethattheenergyefficiencyofexistingdwellingsonadjoininglots\\nisnotunreasonablyreduced.\\nSitedanddesignedtoensurethattheperformanceofexistingrooftopsolarenergysystemson\\ndwellingsonadjoininglotsinaGeneralResidentialZone,NeighbourhoodResidentialZone\\norTownshipZonearenotunreasonablyreduced.Theexistingrooftopsolarenergysystem\\nmustexistatthedatetheapplicationislodged.\\nLivingareasandprivateopenspaceshouldbelocatedonthenorthsideofthedevelopment,if\\npracticable.\\nDevelopmentsshouldbedesignedsothatsolaraccesstonorth-facingwindowsisoptimised.\\nDwellingslocatedinaclimatezoneidentifiedinTable4shouldnotexceedthemaximumNatHERS\\nannualcoolingload.\\nTable 4 Cooling load\\nNatHERS maximum cooling load NatHERS climate zone\\nMJ/M2per annum\\n30 Climate zone 21 Melbourne\\n22 Climate zone 22 East Sale\\n69 Climate zone 27 Mildura\\n22 Climate zone 60 Tullamarine\\n21 Climate zone 62 Moorabbin\\n21 Climate zone 63 Warrnambool\\nPage836of1122NILLUMBIK PLANNING SCHEME', metadata={'page': 835, 'source': 'docs\\\\Nillumbik PS All Ordinance 2.pdf'})]"
      ]
     },
     "execution_count": 9,
     "metadata": {},
     "output_type": "execute_result"
    }
   ],
   "source": [
    "qdrant.similarity_search(query)\n"
   ]
  },
  {
   "cell_type": "code",
   "execution_count": 6,
   "metadata": {},
   "outputs": [],
   "source": [
    "from langchain.vectorstores import Chroma\n",
    "from langchain.embeddings import OpenAIEmbeddings\n",
    "from langchain.chat_models import ChatOpenAI\n",
    "from langchain.chains import ConversationalRetrievalChain\n",
    "from langchain.chains.llm import LLMChain\n",
    "from langchain import PromptTemplate\n",
    "from langchain.vectorstores import Qdrant\n",
    "from langchain.chains.qa_with_sources import load_qa_with_sources_chain\n",
    "import concurrent.futures\n",
    "from dotenv import load_dotenv\n",
    "\n",
    "import qdrant_client\n",
    "\n",
    "import os\n",
    "import openai\n",
    "\n",
    "from dotenv import load_dotenv\n",
    "\n",
    "load_dotenv('.env')\n",
    "# openai.api_key = os.getenv('OPENAI_API_KEY')\n",
    "os.environ[\"OPENAI_API_KEY\"] = os.getenv(\"OPENAI_API_KEY\")\n",
    "openai.api_key = os.getenv('OPENAI_API_KEY')\n",
    "QDRANT_API_KEY = os.getenv(\"QDRANT_API_KEY\")\n",
    "QDRANT_API_URL = os.getenv(\"QDRANT_API_URL\")\n",
    "\n",
    "### For testing ###\n",
    "# class ChatBot():\n",
    "    \n",
    "    # def chat_bot_response(self, user_content):\n",
    "    #     response = openai.ChatCompletion.create(\n",
    "    #         model=\"gpt-4\",\n",
    "    #         messages=[\n",
    "    #             {\"role\": \"system\", \"content\": \"You are a chatbot. Hold a conversation. Respond using markdown.\"},\n",
    "    #             {\"role\": \"user\", \"content\": user_content},\n",
    "    #         ],\n",
    "    #     )\n",
    "    #     return response[\"choices\"][0][\"message\"][\"content\"]\n",
    "\n",
    "\n",
    "class ChatBot:\n",
    "    def __init__(self):\n",
    "        # load vector db from disk\n",
    "        # self.persist_directory = './db'\n",
    "        # Get the absolute path to the directory of the current file\n",
    "        # current_file_directory = os.path.dirname(os.path.abspath(__file__))\n",
    "\n",
    "        # # Construct a path to the database\n",
    "        # self.persist_directory = os.path.join(current_file_directory, 'db')\n",
    "\n",
    "        self.embedding = OpenAIEmbeddings()\n",
    "\n",
    "        # self.vectordb = Chroma(persist_directory=self.persist_directory, \n",
    "        #                     embedding_function=self.embedding)\n",
    "        client = qdrant_client.QdrantClient(url=QDRANT_API_URL, prefer_grpc=True, api_key=QDRANT_API_KEY)\n",
    "        self.vectordb = Qdrant(client=client, collection_name=\"my_documents\", embeddings=self.embedding)\n",
    "\n",
    "        # custom prompts\n",
    "        self.CONDENSE_PROMPT = \"\"\"Given the following conversation and a follow up question, rephrase the follow up question to be a standalone question.\n",
    "\n",
    "        Chat History:\n",
    "        {chat_history}\n",
    "        Follow Up Input: {question}\n",
    "        Standalone question:\"\"\"\n",
    "\n",
    "        self.QA_PROMPT = \"\"\"You will act as an AI Assistant expert in the Nillumbik Planning Scheme that I am having a conversation with. You have the expertise of a lawer with 10 years of experience in local town planning regulation for Nillumbik in Melbourne, Australia. You will provide answers and guidance from your extensive knowledge and will always provide answer when requested with exact reference and outline from the source documents. Additionally, you will ask follow-up questions to clarify the last response and provide more accurate and personalized answers. If the answer is not included in your knowledge base, you will say \"Hmm, This may be the answer, but you should double check.\" and continue to answer normally using the context given. Your response should be detailed and use as much of the relevant documents as possible. Your goal is to provide the best possible guidance and support to help me with my queries and problems related to your expertise.  \n",
    "\n",
    "        Example:      \n",
    "        \n",
    "        Question: Does pruning of a native tree trigger a permit requirement under the Significant landscape overlay schedule 2?\n",
    "        \n",
    "        Response:\n",
    "        Yes, pruning of a native tree does trigger a permit requirement under the Significant Landscape Overlay Schedule 2. This is stated in clause 42.03-2 of the Nillumbik Planning Scheme, which requires a permit to be obtained for the construction of a building or to carry out works, including the pruning or lopping of the trunk of a native tree, unless a schedule to the overlay specifically states that a permit is not required. Therefore, if the schedule to the overlay does not specifically state that a permit is not required for pruning of a native tree, then a permit must be obtained.\n",
    "\n",
    "        The relevant clause is:\n",
    "\n",
    "        VC224 Permit requirement\n",
    "        A permit is required to:\n",
    "        - Construct a building or to carry out works. This does not apply:\n",
    "        - If a schedule to this overlay specifically states that a permit is not required.\n",
    "        - To the conduct of agricultural activities including ploughing and fencing (but not the construction of dams) unless a specific requirement for that activity is specified in a schedule to this overlay.\n",
    "        - Construct a fence if specified in the schedule to this overlay.\n",
    "        - Remove, destroy or lop any vegetation specified in a schedule to this overlay. This does not apply:\n",
    "        - Lopping or pruning native vegetation, for maintenance only, provided no more than 1/3 of the foliage of each individual plant is lopped or pruned. Lopping and pruning for maintenance.\n",
    "        - Native vegetation that is to be removed, destroyed or lopped to the minimum extent necessary by the holder of an exploration, mining, prospecting, or retention license issued under the Mineral Resources (Sustainable Development) Act 1990: Mineral exploration and extraction that is low impact exploration within the meaning of Schedule 4A of the Mineral Resources (Sustainable Development) Act 1990; or in accordance with a work plan approved under Part 3 of the Mineral Resources (Sustainable Development) Act 1990.\n",
    "\n",
    "        Now answer the following question using the same format as above:\n",
    "        Relevant documents:\n",
    "        {summaries}\n",
    "\n",
    "        Question: {question}\n",
    "        Helpful answer in markdown or latex where equations are included:\"\"\"\n",
    "\n",
    "        # Create PromptTemplate instances\n",
    "        self.CONDENSE_QUESTION_PROMPT = PromptTemplate(\n",
    "            input_variables=[\"chat_history\", \"question\"], \n",
    "            template=self.CONDENSE_PROMPT\n",
    "        )\n",
    "\n",
    "        self.QA_PROMPT_TEMPLATE = PromptTemplate(\n",
    "            input_variables=[\"summaries\", \"question\"], \n",
    "            template=self.QA_PROMPT\n",
    "        )\n",
    "\n",
    "        # initialise llm instances and chains\n",
    "        self.gpt3 = ChatOpenAI(temperature=0, model_name = 'gpt-3.5-turbo')\n",
    "        self.gpt4 = ChatOpenAI(temperature=0, model_name = 'gpt-4')\n",
    "        self.question_generator = LLMChain(llm=self.gpt3, prompt=self.CONDENSE_QUESTION_PROMPT)\n",
    "        self.doc_chain = load_qa_with_sources_chain(self.gpt3, chain_type=\"stuff\", prompt=self.QA_PROMPT_TEMPLATE)\n",
    "\n",
    "        # declare main retrieval chain\n",
    "        self.chain = ConversationalRetrievalChain(\n",
    "            retriever=self.vectordb.as_retriever(),\n",
    "            question_generator=self.question_generator,\n",
    "            combine_docs_chain=self.doc_chain,\n",
    "            return_source_documents = True\n",
    "        )\n",
    "\n",
    "    def non_db_response(self,query, chat_history):\n",
    "        SYSTEM_MESSAGE = \"\"\"You will act as an AI Assistant expert in the Nillumbik Planning Scheme that I am having a conversation with. You have the expertise of a lawer with 10 years of experience in local town planning regulation for Nillumbik in Melbourne, Australia. You will provide answers and guidance from your extensive knowledge and will always provide answer when requested with exact reference and outline from the source documents. Your response should be detailed and use as much of the relevant documents as possible. Your goal is to provide the best possible guidance and support to help me with my queries and problems related to your expertise.  \n",
    "\n",
    "            Example:      \n",
    "            \n",
    "            Question: Does pruning of a native tree trigger a permit requirement under the Significant landscape overlay schedule 2?\n",
    "            \n",
    "            Response:\n",
    "            Yes, pruning of a native tree does trigger a permit requirement under the Significant Landscape Overlay Schedule 2. This is stated in clause 42.03-2 of the Nillumbik Planning Scheme, which requires a permit to be obtained for the construction of a building or to carry out works, including the pruning or lopping of the trunk of a native tree, unless a schedule to the overlay specifically states that a permit is not required. Therefore, if the schedule to the overlay does not specifically state that a permit is not required for pruning of a native tree, then a permit must be obtained.\n",
    "\n",
    "            The relevant clause is:\n",
    "\n",
    "            VC224 Permit requirement\n",
    "            A permit is required to:\n",
    "            - Construct a building or to carry out works. This does not apply:\n",
    "            - If a schedule to this overlay specifically states that a permit is not required.\n",
    "            - To the conduct of agricultural activities including ploughing and fencing (but not the construction of dams) unless a specific requirement for that activity is specified in a schedule to this overlay.\n",
    "            - Construct a fence if specified in the schedule to this overlay.\n",
    "            - Remove, destroy or lop any vegetation specified in a schedule to this overlay. This does not apply:\n",
    "            - Lopping or pruning native vegetation, for maintenance only, provided no more than 1/3 of the foliage of each individual plant is lopped or pruned. Lopping and pruning for maintenance.\n",
    "            - Native vegetation that is to be removed, destroyed or lopped to the minimum extent necessary by the holder of an exploration, mining, prospecting, or retention license issued under the Mineral Resources (Sustainable Development) Act 1990: Mineral exploration and extraction that is low impact exploration within the meaning of Schedule 4A of the Mineral Resources (Sustainable Development) Act 1990; or in accordance with a work plan approved under Part 3 of the Mineral Resources (Sustainable Development) Act 1990.\n",
    "        \"\"\"\n",
    "        \n",
    "        response = openai.ChatCompletion.create(\n",
    "            model=\"gpt-4\",\n",
    "            messages=[\n",
    "                {\"role\": \"system\", \"content\": SYSTEM_MESSAGE},\n",
    "                {\"role\": \"user\", \"content\": f\"Given this previous conversation: {chat_history} and in the context of the Nillumbik Planning Scheme: {query}\"},\n",
    "            ],\n",
    "        )\n",
    "        return response[\"choices\"][0][\"message\"][\"content\"]\n",
    "\n",
    "\n",
    "    def summarise(self, fist_response, second_response, query):\n",
    "        response = openai.ChatCompletion.create(\n",
    "            model=\"gpt-3.5-turbo\",\n",
    "            messages=[\n",
    "                {\"role\": \"system\", \"content\": \"You will be provided with two responses to a question concurrently. Your task is to merge these responses into a more comprehensive and thorough one. Begin with the details from the second response, then interweave the details from the first response without leaving out any information. Your aim is to generate a richer, more complete answer than either individual response could offer. Since it relates to legal content, all numbers and exact values must be inlcluded in the reponse. If you encounter contradictions between the two responses, please present both viewpoints to provide a balanced perspective. Remember, absolutely every detail is valuable and needs to be included in the final output.  Respond using markdown.\"},\n",
    "                {\"role\": \"user\", \"content\": f\"Response 1: {fist_response} Response 2: {second_response} Question: {query}\"},\n",
    "            ],\n",
    "        )\n",
    "        return response[\"choices\"][0][\"message\"][\"content\"]\n",
    "\n",
    "    def chat_bot_response(self, message, chat_history):\n",
    "        # chat_history.append(message)\n",
    "        response1 = self.chain({\"question\": message, \"chat_history\": chat_history})\n",
    "        response2 = self.non_db_response(message, chat_history)\n",
    "        summary = self.summarise(response1['answer'],response2, message)\n",
    "        return summary, response1['source_documents']\n",
    "    \n",
    "    ### Multithreaded version###\n",
    "    def chat_bot_response_simult(self, message, chat_history):\n",
    "        with concurrent.futures.ThreadPoolExecutor() as executor:\n",
    "            future1 = executor.submit(self.chain, {\"question\": message, \"chat_history\": chat_history})\n",
    "            future2 = executor.submit(self.non_db_response, message, chat_history)\n",
    "            response1 = future1.result()\n",
    "            response2 = future2.result()\n",
    "\n",
    "        summary = self.summarise(response1['answer'], response2, message)\n",
    "        return summary, response1['source_documents']"
   ]
  },
  {
   "cell_type": "code",
   "execution_count": 7,
   "metadata": {},
   "outputs": [],
   "source": [
    "chat = ChatBot()"
   ]
  },
  {
   "cell_type": "code",
   "execution_count": null,
   "metadata": {},
   "outputs": [],
   "source": [
    "\n",
    "response = chat.chat_bot_response('What are the regulations on landscaping or tree removal  in the Nillumbik Planning Scheme??', [])\n",
    "response"
   ]
  },
  {
   "cell_type": "code",
   "execution_count": 8,
   "metadata": {},
   "outputs": [
    {
     "data": {
      "text/plain": [
       "(\"The Nillumbik Planning Scheme contains several sections and clauses that govern landscaping and tree removal. Key provisions and permit requirements can be found in the following sections:\\n\\n1. Vegetation Protection Overlay (VPO): Found under Clause 42.02, this overlay aims to protect and conserve native vegetation throughout the municipality. Permit requirements and exemptions for removing, lopping, or destroying vegetation are specified.\\n\\n2. Significant Landscape Overlays (SLO): Clause 42.03 addresses areas with significant landscape values. Schedules 2, 3, and 4 (SLO2, SLO3, SLO4) focus on significant trees and vegetation. These schedules outline permit requirements and exemptions for certain types of tree and vegetation removal, as well as pruning or lopping. Key requirements and exemptions are as follows:\\n\\n   - SLO2: A permit is required to remove, destroy, or lop any native vegetation, unless it's for maintenance only and no more than 1/3 of the foliage of each individual plant is lopped or pruned. A permit is also needed to construct a front fence. However, no permit is required for constructing a building or carrying out works if they are more than 5 meters from the base of any substantial tree.\\n   \\n   - SLO3 and SLO4: A permit is required to remove, destroy, or lop any substantial tree, unless the lopping is for regeneration or ornamental shaping, or the removal is of dead trees or dead limbs, or for partial removal of limbs and branches directly overhanging dwellings, garages, and outbuildings, or for removal of Kunzea leptospermoides (Yarra Burgan) for fire prevention purposes. A permit is also needed to construct a front fence. However, no permit is required for constructing a building or carrying out works if the building is no more than 7.5 meters above the natural ground surface and at least 5 meters from the base of any substantial tree (SLO3) or if they are more than 5 meters from the base of any substantial tree (SLO4).\\n\\n3. Environmental Significance Overlay (ESO): Located in Clause 42.01, this overlay identifies areas with environmental significance and contains regulations regarding vegetation removal and landscaping. Different schedules (e.g., ESO1, ESO2, ESO3, etc.) apply to various parts of the municipality, with permit requirements and exemptions outlined according to the specific schedule affecting each property.\\n\\nGeneral regulations on tree removal and landscaping can also be found in:\\n\\n- Clause 52.17: Native Vegetation - Regulates removal, destruction, or lopping of native vegetation throughout the Nillumbik Planning Scheme, specifying permit requirements and exemptions.\\n- Clause 32.09 - Neighbourhood Residential Zone: Relevant for landscaping in residential contexts, with clauses 32.09-4 (subdivision) and 32.09-8 addressing landscaping requirements and landscape design principles.\\n\\nAs permit requirements and exemptions vary depending on the property's specific zone, overlay, and schedule, it is crucial to review the relevant sections for your situation. Please consult the Nillumbik Planning Scheme at https://planningschemes.dpcd.vic.gov.au/schemes/nillumbik for more information.\",\n",
       " [Document(page_content='5.0\\n07/07/2022\\nC118nillDecision guidelines\\nThefollowingdecisionguidelinesapplytoanapplicationforapermitunderClause42.03,in\\nadditiontothosespecifiedinClause42.03andelsewhereintheschemewhichmustbeconsidered,\\nasappropriate,bytheresponsibleauthority:\\nWhethertheproposeddevelopmentconformswiththepreferredcharacteroftheareaasstated\\nintherelevantShireofNillumbikNeighbourhoodCharacterStudybrochureforthearea.\\nThescale,shape,bulk,design(includingheightandsiting)andexternalfinishesofanybuildings\\nandworksandtheimpactsoftheseonthelandscapequalitiesofthearea.\\nWhethertheproposalretainsexistinghighcanopytrees,keepsbuildingsbelowthepredominant\\ntreecanopyheightandissitedbelowtheridgeline.\\nWhethertheproposeddevelopmentminimisesexcavation.\\nTheextenttowhichtheproposalmaintainsthevegetationdominatedstreetscapesandvistas,\\nincludingviewsacrossvalleys.\\nTheneedtoensurenewbuildingsandworks,includingdrivewaysfitwithinthelandscapeand\\ntopographyoftheland.\\nWhetherfrontfencesarecommonlyprovidedinthestreetandthestyleoffence.\\nTheneedforadditionallandscapingandscreenplantingtomaintaintheexistingandpreferred\\nlandscapequalitiesidentifiedintheNeighbourhoodCharacterStudy.\\nBackground documents\\nShireofNillumbikNeighbourhoodCharacterStudy,2000\\nNillumbikResidentialDesignGuidelines2001(Amended2003)\\nPage452of1122NILLUMBIK PLANNING SCHEME', metadata={'page': 451, 'source': 'docs\\\\Nillumbik PS All Ordinance 2.pdf'}),\n",
       "  Document(page_content='07/07/2022\\nC118nillSCHEDULE 3 TO CLAUSE 42.03 SIGNIFICANT LANDSCAPE OVERLAY\\nShownontheplanningschememapas SLO3.\\nBUSH GARDEN CHARACTER\\n1.0\\n19/01/2006\\nVC37Statement of nature and key elements of landscape\\nTheShireofNillumbikNeighbourhoodCharacterStudyidentifiestheimportanceofvegetation\\nandtherelationshipbetweenthebuildingsandthelandscapetothecharacterofanarea.Theareas\\ncoveredbythisoverlayhaveabushgardencharacterthatisdominatedbymaturenativeand\\nindigenoustreesandplantedbushstylegardens.Dwellingsintheseareasaresetamongthetrees\\nandaresitedsoastominimisedisruptiontothelandformandvegetation.Buildingsmaintainthe\\npatternsoforientationsandsetbacksofadjoiningpropertiesandthestreetscape.Thereisusually\\nlittleornodelineationoffrontpropertyboundaries.\\nThekeyelementsofthislandscapeare:\\nthevisualdominanceofvegetationincludinglargenativeandindigenoustreesandbushgarden\\nplanting.\\nthewayinwhichthemajorityofdevelopmentsitswithinthelandscapewithminimalexcavation,\\nanddwellingsarepartlyobscuredfromview\\nthehillsidesappeartobecoveredbytreesevenwhendevelopedwithhouses.\\ndwellingswithcoloursthatblendwiththelandscape.\\nagenerallackoffrontfencing.\\n2.0\\n07/07/2022\\nC118nillLandscape character objectives to be achieved\\nToretainthedominanceofvegetationcoverinkeepingwiththebushgardencharacter.\\nToensurethatdevelopmentiscompatiblewiththescale,setbacksandcharacterofexisting\\ndevelopment.\\nToensurethatdevelopmentissensitivetothenaturalcharacteristicsofthelandincludingslope,\\nterrain,servicesandanyexistingvegetation.\\nToensurethatdevelopmentdoesnotpenetratethetreecanopy.\\nToensurethatthehealthofexistingtreesisnotjeopardisedbynewdevelopment.\\n3.0\\n07/07/2022\\nC118nillPermit requirement\\nApermitisrequired:\\nToremove,destroyorlopanysubstantialtree.Thisdoesnotapplytothepruningofatreefor\\nregenerationorornamentalshapingortheremovalofdeadtreesordeadlimbsorthepartial\\nremovaloflimbsandbranchesdirectlyoverhangingdwellings,garagesandoutbuildingsor\\ntheremovalofKunzealeptospermoides(YarraBurgan)forfirepreventionpurposes.\\nToconstructafrontfence.\\nApermitisnotrequiredtoconstructabuildingorcarryoutworksprovidedallthefollowing\\nrequirementsaremet:\\nTheheightofanypartofabuildingisnomorethan7.5metresabovethenaturalsurfaceofthe\\ngrounddirectlybelowit.\\nThebuildingorworksareatleast5metresfromthebaseofanysubstantialtree.\\nForthepurposeofthisclauseasubstantialtreeisdefinedasvegetationthathasatrunk\\ncircumferencegreaterthan0.5metreatonemetreabovegroundlevel.\\nPage449of1122NILLUMBIK PLANNING SCHEME', metadata={'page': 448, 'source': 'docs\\\\Nillumbik PS All Ordinance 2.pdf'}),\n",
       "  Document(page_content='07/07/2022\\nC118nillSCHEDULE 2 TO CLAUSE 42.03 SIGNIFICANT LANDSCAPE OVERLAY\\nShownontheplanningschememapas SLO2.\\nBUSH AND SEMI-BUSH RESIDENTIAL AREAS\\n1.0\\n19/01/2006\\nVC37Statement of nature and key elements of landscape\\nTheShireofNillumbikNeighbourhoodCharacterStudyidentifiestheimportanceofvegetation\\nandtherelationshipbetweenbuildingsandthelandscapetothecharacterofanarea.Theareas\\ncoveredbythisoverlayhaveanaturalbushsetting,wherenativevegetationdominatestheskyline\\nandgardensaremostlyindigenousandnativeplantingscombinedwithremnantvegetation.There\\nislittleornoevidenceoftheboundarybetweenprivateandpublicpropertyandthegroundsof\\npropertiesareindistinguishablefromthecontinuousbushlandthatcharacterisesthearea.Buildings\\nintheseareasaresitedsoastominimisedisruptiontothelandformandtonativevegetationand\\naregenerallyobscuredfromthestreet.Thekeyelementsofthislandscapeare:\\nThevisualdominanceofnativevegetationincludingsubstantialindigenoustreesandunderstorey\\nspeciesthatcreatesabushlandcharacter.\\nBuildingsareobscuredfromviewfromthestreetandaresitedwithminimalexcavationand\\ndisturbancetothenaturallandform.\\nDwellingsandotherbuildingsaredesignedandcolouredtoblendinwiththebushlandlandscape.\\nGardensarecontinuouswithroadsideandsurroundingpropertyvegetationwherethereareno\\nsolidfencesandfencing,ifpresent,isusuallyofpostandwireconstruction.\\n2.0\\n07/07/2022\\nC118nillLandscape character objectives to be achieved\\nToprovideforhousinginaresidentiallocationinabushlandsetting.\\nToprovideforsensitivesitingofbuildingsandworks,accessandearthworksandbytherestoration\\nofnativevegetationwhereconsideredappropriate.\\nToprovideforconservationandenhancementoftheenvironmentalvaluesofthearea.\\nToensurethatthedevelopmentoflandandtheremovalofnativevegetationarenotdetrimental\\ntothenaturalenvironmentandcharacterofthearea.\\nTominimisethethreatstothenaturalenvironmentthroughtheunnecessaryremovalofvegetation\\nintheseareas.\\n3.0\\n07/07/2022\\nC118nillPermit requirement\\nApermitisrequiredtoconstructafence.Thisdoesnotapply:\\nIfthefenceisofpostandwireconstruction;or\\nIfthefenceisatransparentsafetyfenceforaswimmingpoollocatedintheimmediatevicinity\\noftheswimmingpool.\\nApermitisrequiredtoremove,destroyorlopnativevegetation.Thisdoesnotapply:\\nIftheloppingofvegetationisundertakentoassistitsregeneration;or\\nIfthevegetationisdeador\\nTothepartialremovalofbranchesdirectlyoverhangingdwellings,garagesoroutbuildings;or\\nIfthevegetationisidentifiedasapestplantintheShireofNillumbikEnvironmentalWeed\\nList2009asincorporatedinthisscheme;or\\nIfthevegetationisKunzealeptospermoides(YarraBurgan)andisbeingremovedforfire\\npreventionpurposes.\\nPage447of1122NILLUMBIK PLANNING SCHEME', metadata={'page': 446, 'source': 'docs\\\\Nillumbik PS All Ordinance 2.pdf'}),\n",
       "  Document(page_content='07/07/2022\\nC118nillSCHEDULE 4 TO CLAUSE 42.03 SIGNIFICANT LANDSCAPE OVERLAY\\nShownontheplanningschememapas SLO4.\\nGARDEN COURT CHARACTER\\n1.0\\n07/07/2022\\nC118nillStatement of nature and key elements of landscape\\nTheShireofNillumbikNeighbourhoodCharacterStudyidentifiestheimportanceofvegetation\\nandtherelationshipbetweenthebuildingsandthelandscapetothecharacterofanarea.The\\nMunicipalPlanningStrategyandtheNeighbourhoodCharacterStudyestablishthatthecharacter\\noftheShireisheavilydependentupontheindigenousandnativevegetation,oftentoagreater\\nextentthantheformofbuildings.Theareascoveredbythisoverlayhaveagardencourtcharacter.\\nThefuturepreferredcharacteroftheseareasisidentifiedasbeingrelatedtothesettingofresidential\\ndevelopmentwithinthepredominantlynativevegetation.Itisintendedthatintypicalstreetscapes\\nsubstantialnativetreesdominatetheskylineandarecommoningardensandroadsidereservations.\\nItisalsoimportanttothecharacterthatthedelineationbetweenthepublicdomainandprivate\\nlandremainsindistinctandthatsolidfrontfencesarenotconstructed.\\nThekeyelementsofthislandscapeare:\\nThevisualdominanceofvegetationinlongdistanceviews,theskylineofstreetscapeviews\\nandfrontgardens.\\nThewayinwhichthemajorityofdevelopmentsitswithinthelandscapewithminimal\\nexcavation.\\nDwellingswithcoloursthatblendwiththelandscape.\\nAgenerallackoffrontfencing.\\n2.0\\n07/07/2022\\nC118nillLandscape character objectives to be achieved\\nToretainandencouragethedominanceoftreesinkeepingwiththecharacterofNillumbikand\\nthefuturepreferredcharacterofthegardencourtprecincts.\\nToensurethatdevelopmentissensitivetothenaturalcharacteristicsofthelandincludingslope,\\nterrain,servicesandanyexistingvegetation.\\nToensurethatthehealthofexistingtreesisnotjeopardisedbynewdevelopment.\\n3.0\\n07/07/2022\\nC118nillPermit requirement\\nApermitisrequired:\\nToremove,destroyorlopanysubstantialtree.Thisdoesnotapplytothepruningofatreefor\\nregenerationorornamentalshapingortheremovalofdeadtreesordeadlimbsorthepartial\\nremovaloflimbsandbranchesdirectlyoverhangingdwellings,garagesandoutbuildingsor\\ntheremovalofKunzealeptospermoides(YarraBurgan)forfirepreventionpurposes.\\nToconstructafrontfence.\\nApermitisnotrequiredtoconstructabuildingorcarryoutworksprovidedthebuildingorworks\\naremorethan5metresfromthebaseofanysubstantialtree.\\nForthepurposeofthisclauseasubstantialtreeisdefinedasvegetationthathasatrunk\\ncircumferencegreaterthan0.5metreatonemetreabovegroundlevel.\\n4.0\\n07/07/2022\\nC118nillApplication requirements\\nNonespecified.\\nPage451of1122NILLUMBIK PLANNING SCHEME', metadata={'page': 450, 'source': 'docs\\\\Nillumbik PS All Ordinance 2.pdf'})])"
      ]
     },
     "execution_count": 8,
     "metadata": {},
     "output_type": "execute_result"
    }
   ],
   "source": [
    "response2 = chat.chat_bot_response_simult('What are the regulations on landscaping or tree removal  in the Nillumbik Planning Scheme??', [])\n",
    "response2"
   ]
  },
  {
   "cell_type": "code",
   "execution_count": 3,
   "metadata": {},
   "outputs": [
    {
     "data": {
      "text/plain": [
       "('Under the Nillumbik Planning Scheme, there are various clauses, schedules, and overlays that regulate landscaping and tree removal, including the Vegetation Protection Overlay (VPO), Significant Landscape Overlay (SLO), Environmental Significance Overlay (ESO), and other clauses such as Clause 52.17 - Native Vegetation and Clause 52.12 - Bushfire Protection: Exemptions. These aim to protect and enhance the natural environment and landscape values of the region.\\n\\n1. **Vegetation Protection Overlay (VPO) - Clause 42.02**: The VPO identifies significant vegetation and controls the removal, destruction, or lopping of this vegetation. A permit is required to remove, destroy, or lop any vegetation specified in a schedule to the overlay, subject to some exemptions such as removing vegetation listed as a noxious weed, for emergency access, or as stated in a specific schedule (Schedule 1 to 6).\\n\\n2. **Significant Landscape Overlay (SLO) - Clause 42.03**: The SLO aims to conserve and enhance the character of significant landscapes. A permit is required to construct a building, carry out works, or remove/destroy/lop any vegetation per the relevant schedule to the overlay (Schedule 1 to 9). The rules under the SLO vary depending on the specific schedule:\\n\\n   - **SLO Schedule 2**: A permit is needed for removing, destroying, or lopping any native vegetation and constructing a front fence. A permit is not required for construction or works more than 5 meters from the base of any substantial tree.\\n   \\n   - **SLO Schedule 3 and 4**: A permit is needed for removing, destroying, or lopping any substantial tree, constructing a front fence, and exemptions exist for regeneration, ornamental shaping, or removal of dead trees/limbs. A permit is not required for construction or works more than 5 meters from the base of any substantial tree, or if the height of any part of the building is no more than 7.5 meters above the natural surface of the ground directly below it (SLO Schedule 3 only).\\n\\nIn addition, the Nillumbik Planning Scheme includes guidelines and objectives to ensure the dominance of vegetation cover, compatibility with existing development scale, setbacks, character, and to minimize threats from unnecessary removal of vegetation.\\n\\n3. **Environmental Significance Overlay (ESO) - Clause 42.01**: The ESO aims to protect areas with significant environmental, social, or aesthetic values. A permit may be required for tree removal or landscaping activities based on specific requirements outlined in the relevant schedule to the overlay.\\n\\n4. **Clause 52.17 - Native Vegetation**: This clause addresses the removal, destruction, or lopping of native vegetation throughout Victoria. A permit may be required for the removal of native vegetation, subject to certain exemptions.\\n\\n5. **Clause 52.12 - Bushfire Protection: Exemptions**: In areas with bushfire risk, there may be exemptions allowing for vegetation removal without a permit for bushfire protection measures.\\n\\nTo determine the specific regulations on landscaping or tree removal for your property, consult the Nillumbik Planning Scheme and seek professional advice if necessary. The relevant clauses and schedules can be accessed at https://planningschemes.dpcd.vic.gov.au/schemes/nillumbik.\\n\\nNote that these regulations may contradict each other in certain scenarios, so it is essential to refer to the relevant overlays and clauses and consider seeking professional advice to ensure compliance.',\n",
       " [Document(page_content='5.0\\n07/07/2022\\nC118nillDecision guidelines\\nThefollowingdecisionguidelinesapplytoanapplicationforapermitunderClause42.03,in\\nadditiontothosespecifiedinClause42.03andelsewhereintheschemewhichmustbeconsidered,\\nasappropriate,bytheresponsibleauthority:\\nWhethertheproposeddevelopmentconformswiththepreferredcharacteroftheareaasstated\\nintherelevantShireofNillumbikNeighbourhoodCharacterStudybrochureforthearea.\\nThescale,shape,bulk,design(includingheightandsiting)andexternalfinishesofanybuildings\\nandworksandtheimpactsoftheseonthelandscapequalitiesofthearea.\\nWhethertheproposalretainsexistinghighcanopytrees,keepsbuildingsbelowthepredominant\\ntreecanopyheightandissitedbelowtheridgeline.\\nWhethertheproposeddevelopmentminimisesexcavation.\\nTheextenttowhichtheproposalmaintainsthevegetationdominatedstreetscapesandvistas,\\nincludingviewsacrossvalleys.\\nTheneedtoensurenewbuildingsandworks,includingdrivewaysfitwithinthelandscapeand\\ntopographyoftheland.\\nWhetherfrontfencesarecommonlyprovidedinthestreetandthestyleoffence.\\nTheneedforadditionallandscapingandscreenplantingtomaintaintheexistingandpreferred\\nlandscapequalitiesidentifiedintheNeighbourhoodCharacterStudy.\\nBackground documents\\nShireofNillumbikNeighbourhoodCharacterStudy,2000\\nNillumbikResidentialDesignGuidelines2001(Amended2003)\\nPage452of1122NILLUMBIK PLANNING SCHEME', metadata={'page': 451, 'source': 'docs\\\\Nillumbik PS All Ordinance 2.pdf'}),\n",
       "  Document(page_content='07/07/2022\\nC118nillSCHEDULE 3 TO CLAUSE 42.03 SIGNIFICANT LANDSCAPE OVERLAY\\nShownontheplanningschememapas SLO3.\\nBUSH GARDEN CHARACTER\\n1.0\\n19/01/2006\\nVC37Statement of nature and key elements of landscape\\nTheShireofNillumbikNeighbourhoodCharacterStudyidentifiestheimportanceofvegetation\\nandtherelationshipbetweenthebuildingsandthelandscapetothecharacterofanarea.Theareas\\ncoveredbythisoverlayhaveabushgardencharacterthatisdominatedbymaturenativeand\\nindigenoustreesandplantedbushstylegardens.Dwellingsintheseareasaresetamongthetrees\\nandaresitedsoastominimisedisruptiontothelandformandvegetation.Buildingsmaintainthe\\npatternsoforientationsandsetbacksofadjoiningpropertiesandthestreetscape.Thereisusually\\nlittleornodelineationoffrontpropertyboundaries.\\nThekeyelementsofthislandscapeare:\\nthevisualdominanceofvegetationincludinglargenativeandindigenoustreesandbushgarden\\nplanting.\\nthewayinwhichthemajorityofdevelopmentsitswithinthelandscapewithminimalexcavation,\\nanddwellingsarepartlyobscuredfromview\\nthehillsidesappeartobecoveredbytreesevenwhendevelopedwithhouses.\\ndwellingswithcoloursthatblendwiththelandscape.\\nagenerallackoffrontfencing.\\n2.0\\n07/07/2022\\nC118nillLandscape character objectives to be achieved\\nToretainthedominanceofvegetationcoverinkeepingwiththebushgardencharacter.\\nToensurethatdevelopmentiscompatiblewiththescale,setbacksandcharacterofexisting\\ndevelopment.\\nToensurethatdevelopmentissensitivetothenaturalcharacteristicsofthelandincludingslope,\\nterrain,servicesandanyexistingvegetation.\\nToensurethatdevelopmentdoesnotpenetratethetreecanopy.\\nToensurethatthehealthofexistingtreesisnotjeopardisedbynewdevelopment.\\n3.0\\n07/07/2022\\nC118nillPermit requirement\\nApermitisrequired:\\nToremove,destroyorlopanysubstantialtree.Thisdoesnotapplytothepruningofatreefor\\nregenerationorornamentalshapingortheremovalofdeadtreesordeadlimbsorthepartial\\nremovaloflimbsandbranchesdirectlyoverhangingdwellings,garagesandoutbuildingsor\\ntheremovalofKunzealeptospermoides(YarraBurgan)forfirepreventionpurposes.\\nToconstructafrontfence.\\nApermitisnotrequiredtoconstructabuildingorcarryoutworksprovidedallthefollowing\\nrequirementsaremet:\\nTheheightofanypartofabuildingisnomorethan7.5metresabovethenaturalsurfaceofthe\\ngrounddirectlybelowit.\\nThebuildingorworksareatleast5metresfromthebaseofanysubstantialtree.\\nForthepurposeofthisclauseasubstantialtreeisdefinedasvegetationthathasatrunk\\ncircumferencegreaterthan0.5metreatonemetreabovegroundlevel.\\nPage449of1122NILLUMBIK PLANNING SCHEME', metadata={'page': 448, 'source': 'docs\\\\Nillumbik PS All Ordinance 2.pdf'}),\n",
       "  Document(page_content='07/07/2022\\nC118nillSCHEDULE 2 TO CLAUSE 42.03 SIGNIFICANT LANDSCAPE OVERLAY\\nShownontheplanningschememapas SLO2.\\nBUSH AND SEMI-BUSH RESIDENTIAL AREAS\\n1.0\\n19/01/2006\\nVC37Statement of nature and key elements of landscape\\nTheShireofNillumbikNeighbourhoodCharacterStudyidentifiestheimportanceofvegetation\\nandtherelationshipbetweenbuildingsandthelandscapetothecharacterofanarea.Theareas\\ncoveredbythisoverlayhaveanaturalbushsetting,wherenativevegetationdominatestheskyline\\nandgardensaremostlyindigenousandnativeplantingscombinedwithremnantvegetation.There\\nislittleornoevidenceoftheboundarybetweenprivateandpublicpropertyandthegroundsof\\npropertiesareindistinguishablefromthecontinuousbushlandthatcharacterisesthearea.Buildings\\nintheseareasaresitedsoastominimisedisruptiontothelandformandtonativevegetationand\\naregenerallyobscuredfromthestreet.Thekeyelementsofthislandscapeare:\\nThevisualdominanceofnativevegetationincludingsubstantialindigenoustreesandunderstorey\\nspeciesthatcreatesabushlandcharacter.\\nBuildingsareobscuredfromviewfromthestreetandaresitedwithminimalexcavationand\\ndisturbancetothenaturallandform.\\nDwellingsandotherbuildingsaredesignedandcolouredtoblendinwiththebushlandlandscape.\\nGardensarecontinuouswithroadsideandsurroundingpropertyvegetationwherethereareno\\nsolidfencesandfencing,ifpresent,isusuallyofpostandwireconstruction.\\n2.0\\n07/07/2022\\nC118nillLandscape character objectives to be achieved\\nToprovideforhousinginaresidentiallocationinabushlandsetting.\\nToprovideforsensitivesitingofbuildingsandworks,accessandearthworksandbytherestoration\\nofnativevegetationwhereconsideredappropriate.\\nToprovideforconservationandenhancementoftheenvironmentalvaluesofthearea.\\nToensurethatthedevelopmentoflandandtheremovalofnativevegetationarenotdetrimental\\ntothenaturalenvironmentandcharacterofthearea.\\nTominimisethethreatstothenaturalenvironmentthroughtheunnecessaryremovalofvegetation\\nintheseareas.\\n3.0\\n07/07/2022\\nC118nillPermit requirement\\nApermitisrequiredtoconstructafence.Thisdoesnotapply:\\nIfthefenceisofpostandwireconstruction;or\\nIfthefenceisatransparentsafetyfenceforaswimmingpoollocatedintheimmediatevicinity\\noftheswimmingpool.\\nApermitisrequiredtoremove,destroyorlopnativevegetation.Thisdoesnotapply:\\nIftheloppingofvegetationisundertakentoassistitsregeneration;or\\nIfthevegetationisdeador\\nTothepartialremovalofbranchesdirectlyoverhangingdwellings,garagesoroutbuildings;or\\nIfthevegetationisidentifiedasapestplantintheShireofNillumbikEnvironmentalWeed\\nList2009asincorporatedinthisscheme;or\\nIfthevegetationisKunzealeptospermoides(YarraBurgan)andisbeingremovedforfire\\npreventionpurposes.\\nPage447of1122NILLUMBIK PLANNING SCHEME', metadata={'page': 446, 'source': 'docs\\\\Nillumbik PS All Ordinance 2.pdf'}),\n",
       "  Document(page_content='07/07/2022\\nC118nillSCHEDULE 4 TO CLAUSE 42.03 SIGNIFICANT LANDSCAPE OVERLAY\\nShownontheplanningschememapas SLO4.\\nGARDEN COURT CHARACTER\\n1.0\\n07/07/2022\\nC118nillStatement of nature and key elements of landscape\\nTheShireofNillumbikNeighbourhoodCharacterStudyidentifiestheimportanceofvegetation\\nandtherelationshipbetweenthebuildingsandthelandscapetothecharacterofanarea.The\\nMunicipalPlanningStrategyandtheNeighbourhoodCharacterStudyestablishthatthecharacter\\noftheShireisheavilydependentupontheindigenousandnativevegetation,oftentoagreater\\nextentthantheformofbuildings.Theareascoveredbythisoverlayhaveagardencourtcharacter.\\nThefuturepreferredcharacteroftheseareasisidentifiedasbeingrelatedtothesettingofresidential\\ndevelopmentwithinthepredominantlynativevegetation.Itisintendedthatintypicalstreetscapes\\nsubstantialnativetreesdominatetheskylineandarecommoningardensandroadsidereservations.\\nItisalsoimportanttothecharacterthatthedelineationbetweenthepublicdomainandprivate\\nlandremainsindistinctandthatsolidfrontfencesarenotconstructed.\\nThekeyelementsofthislandscapeare:\\nThevisualdominanceofvegetationinlongdistanceviews,theskylineofstreetscapeviews\\nandfrontgardens.\\nThewayinwhichthemajorityofdevelopmentsitswithinthelandscapewithminimal\\nexcavation.\\nDwellingswithcoloursthatblendwiththelandscape.\\nAgenerallackoffrontfencing.\\n2.0\\n07/07/2022\\nC118nillLandscape character objectives to be achieved\\nToretainandencouragethedominanceoftreesinkeepingwiththecharacterofNillumbikand\\nthefuturepreferredcharacterofthegardencourtprecincts.\\nToensurethatdevelopmentissensitivetothenaturalcharacteristicsofthelandincludingslope,\\nterrain,servicesandanyexistingvegetation.\\nToensurethatthehealthofexistingtreesisnotjeopardisedbynewdevelopment.\\n3.0\\n07/07/2022\\nC118nillPermit requirement\\nApermitisrequired:\\nToremove,destroyorlopanysubstantialtree.Thisdoesnotapplytothepruningofatreefor\\nregenerationorornamentalshapingortheremovalofdeadtreesordeadlimbsorthepartial\\nremovaloflimbsandbranchesdirectlyoverhangingdwellings,garagesandoutbuildingsor\\ntheremovalofKunzealeptospermoides(YarraBurgan)forfirepreventionpurposes.\\nToconstructafrontfence.\\nApermitisnotrequiredtoconstructabuildingorcarryoutworksprovidedthebuildingorworks\\naremorethan5metresfromthebaseofanysubstantialtree.\\nForthepurposeofthisclauseasubstantialtreeisdefinedasvegetationthathasatrunk\\ncircumferencegreaterthan0.5metreatonemetreabovegroundlevel.\\n4.0\\n07/07/2022\\nC118nillApplication requirements\\nNonespecified.\\nPage451of1122NILLUMBIK PLANNING SCHEME', metadata={'page': 450, 'source': 'docs\\\\Nillumbik PS All Ordinance 2.pdf'})])"
      ]
     },
     "execution_count": 3,
     "metadata": {},
     "output_type": "execute_result"
    }
   ],
   "source": [
    "response"
   ]
  },
  {
   "cell_type": "code",
   "execution_count": 27,
   "metadata": {},
   "outputs": [
    {
     "data": {
      "text/plain": [
       "{'question': 'What are the regulations on landscaping or tree removal  in the Nillumbik Planning Scheme??',\n",
       " 'chat_history': [],\n",
       " 'answer': 'The Nillumbik Planning Scheme has several regulations on landscaping and tree removal, depending on the specific overlay schedule that applies to the area in question. \\n\\nUnder the Significant Landscape Overlay Schedule 2, which applies to bush and semi-bush residential areas, a permit is required to remove, destroy, or lop any native vegetation, including substantial trees, unless the lopping is for maintenance only and no more than 1/3 of the foliage of each individual plant is lopped or pruned. A permit is also required to construct a front fence. However, a permit is not required to construct a building or carry out works if the building or works are at least 5 meters from the base of any substantial tree.\\n\\nUnder the Significant Landscape Overlay Schedule 3, which applies to areas with a bush garden character, a permit is required to remove, destroy, or lop any substantial tree, unless the lopping is for regeneration or ornamental shaping, or the removal is of dead trees or dead limbs, or the partial removal of limbs and branches directly overhanging dwellings, garages, and outbuildings, or the removal of Kunzea leptospermoides (Yarra Burgan) for fire prevention purposes. A permit is also required to construct a front fence. However, a permit is not required to construct a building or carry out works if the height of any part of the building is no more than 7.5 meters above the natural surface of the ground directly below it, and the building or works are at least 5 meters from the base of any substantial tree.\\n\\nUnder the Significant Landscape Overlay Schedule 4, which applies to areas with a garden court character, a permit is required to remove, destroy, or lop any substantial tree, unless the lopping is for regeneration or ornamental shaping, or the removal is of dead trees or dead limbs, or the partial removal of limbs and branches directly overhanging dwellings, garages, and outbuildings, or the removal of Kunzea leptospermoides (Yarra Burgan) for fire prevention purposes. A permit is also required to construct a front fence. However, a permit is not required to construct a building or carry out works if the building or works are more than 5 meters from the base of any substantial tree.\\n\\nIt is important to note that these regulations are subject to additional decision guidelines and landscape character objectives, as well as the need to ensure that development is compatible with the scale, setbacks, and character of existing development, and that it is sensitive to the natural characteristics of the land, including slope, terrain, services, and any existing vegetation. Therefore, it is recommended to consult the relevant documents, including the Nillumbik Planning Scheme and the Shire of Nillumbik Neighbourhood Character Study brochure for the area, for more detailed information and guidance.',\n",
       " 'source_documents': [Document(page_content='5.0\\n07/07/2022\\nC118nillDecision guidelines\\nThefollowingdecisionguidelinesapplytoanapplicationforapermitunderClause42.03,in\\nadditiontothosespecifiedinClause42.03andelsewhereintheschemewhichmustbeconsidered,\\nasappropriate,bytheresponsibleauthority:\\nWhethertheproposeddevelopmentconformswiththepreferredcharacteroftheareaasstated\\nintherelevantShireofNillumbikNeighbourhoodCharacterStudybrochureforthearea.\\nThescale,shape,bulk,design(includingheightandsiting)andexternalfinishesofanybuildings\\nandworksandtheimpactsoftheseonthelandscapequalitiesofthearea.\\nWhethertheproposalretainsexistinghighcanopytrees,keepsbuildingsbelowthepredominant\\ntreecanopyheightandissitedbelowtheridgeline.\\nWhethertheproposeddevelopmentminimisesexcavation.\\nTheextenttowhichtheproposalmaintainsthevegetationdominatedstreetscapesandvistas,\\nincludingviewsacrossvalleys.\\nTheneedtoensurenewbuildingsandworks,includingdrivewaysfitwithinthelandscapeand\\ntopographyoftheland.\\nWhetherfrontfencesarecommonlyprovidedinthestreetandthestyleoffence.\\nTheneedforadditionallandscapingandscreenplantingtomaintaintheexistingandpreferred\\nlandscapequalitiesidentifiedintheNeighbourhoodCharacterStudy.\\nBackground documents\\nShireofNillumbikNeighbourhoodCharacterStudy,2000\\nNillumbikResidentialDesignGuidelines2001(Amended2003)\\nPage452of1122NILLUMBIK PLANNING SCHEME', metadata={'page': 451, 'source': 'docs\\\\Nillumbik PS All Ordinance 2.pdf'}),\n",
       "  Document(page_content='07/07/2022\\nC118nillSCHEDULE 3 TO CLAUSE 42.03 SIGNIFICANT LANDSCAPE OVERLAY\\nShownontheplanningschememapas SLO3.\\nBUSH GARDEN CHARACTER\\n1.0\\n19/01/2006\\nVC37Statement of nature and key elements of landscape\\nTheShireofNillumbikNeighbourhoodCharacterStudyidentifiestheimportanceofvegetation\\nandtherelationshipbetweenthebuildingsandthelandscapetothecharacterofanarea.Theareas\\ncoveredbythisoverlayhaveabushgardencharacterthatisdominatedbymaturenativeand\\nindigenoustreesandplantedbushstylegardens.Dwellingsintheseareasaresetamongthetrees\\nandaresitedsoastominimisedisruptiontothelandformandvegetation.Buildingsmaintainthe\\npatternsoforientationsandsetbacksofadjoiningpropertiesandthestreetscape.Thereisusually\\nlittleornodelineationoffrontpropertyboundaries.\\nThekeyelementsofthislandscapeare:\\nthevisualdominanceofvegetationincludinglargenativeandindigenoustreesandbushgarden\\nplanting.\\nthewayinwhichthemajorityofdevelopmentsitswithinthelandscapewithminimalexcavation,\\nanddwellingsarepartlyobscuredfromview\\nthehillsidesappeartobecoveredbytreesevenwhendevelopedwithhouses.\\ndwellingswithcoloursthatblendwiththelandscape.\\nagenerallackoffrontfencing.\\n2.0\\n07/07/2022\\nC118nillLandscape character objectives to be achieved\\nToretainthedominanceofvegetationcoverinkeepingwiththebushgardencharacter.\\nToensurethatdevelopmentiscompatiblewiththescale,setbacksandcharacterofexisting\\ndevelopment.\\nToensurethatdevelopmentissensitivetothenaturalcharacteristicsofthelandincludingslope,\\nterrain,servicesandanyexistingvegetation.\\nToensurethatdevelopmentdoesnotpenetratethetreecanopy.\\nToensurethatthehealthofexistingtreesisnotjeopardisedbynewdevelopment.\\n3.0\\n07/07/2022\\nC118nillPermit requirement\\nApermitisrequired:\\nToremove,destroyorlopanysubstantialtree.Thisdoesnotapplytothepruningofatreefor\\nregenerationorornamentalshapingortheremovalofdeadtreesordeadlimbsorthepartial\\nremovaloflimbsandbranchesdirectlyoverhangingdwellings,garagesandoutbuildingsor\\ntheremovalofKunzealeptospermoides(YarraBurgan)forfirepreventionpurposes.\\nToconstructafrontfence.\\nApermitisnotrequiredtoconstructabuildingorcarryoutworksprovidedallthefollowing\\nrequirementsaremet:\\nTheheightofanypartofabuildingisnomorethan7.5metresabovethenaturalsurfaceofthe\\ngrounddirectlybelowit.\\nThebuildingorworksareatleast5metresfromthebaseofanysubstantialtree.\\nForthepurposeofthisclauseasubstantialtreeisdefinedasvegetationthathasatrunk\\ncircumferencegreaterthan0.5metreatonemetreabovegroundlevel.\\nPage449of1122NILLUMBIK PLANNING SCHEME', metadata={'page': 448, 'source': 'docs\\\\Nillumbik PS All Ordinance 2.pdf'}),\n",
       "  Document(page_content='07/07/2022\\nC118nillSCHEDULE 2 TO CLAUSE 42.03 SIGNIFICANT LANDSCAPE OVERLAY\\nShownontheplanningschememapas SLO2.\\nBUSH AND SEMI-BUSH RESIDENTIAL AREAS\\n1.0\\n19/01/2006\\nVC37Statement of nature and key elements of landscape\\nTheShireofNillumbikNeighbourhoodCharacterStudyidentifiestheimportanceofvegetation\\nandtherelationshipbetweenbuildingsandthelandscapetothecharacterofanarea.Theareas\\ncoveredbythisoverlayhaveanaturalbushsetting,wherenativevegetationdominatestheskyline\\nandgardensaremostlyindigenousandnativeplantingscombinedwithremnantvegetation.There\\nislittleornoevidenceoftheboundarybetweenprivateandpublicpropertyandthegroundsof\\npropertiesareindistinguishablefromthecontinuousbushlandthatcharacterisesthearea.Buildings\\nintheseareasaresitedsoastominimisedisruptiontothelandformandtonativevegetationand\\naregenerallyobscuredfromthestreet.Thekeyelementsofthislandscapeare:\\nThevisualdominanceofnativevegetationincludingsubstantialindigenoustreesandunderstorey\\nspeciesthatcreatesabushlandcharacter.\\nBuildingsareobscuredfromviewfromthestreetandaresitedwithminimalexcavationand\\ndisturbancetothenaturallandform.\\nDwellingsandotherbuildingsaredesignedandcolouredtoblendinwiththebushlandlandscape.\\nGardensarecontinuouswithroadsideandsurroundingpropertyvegetationwherethereareno\\nsolidfencesandfencing,ifpresent,isusuallyofpostandwireconstruction.\\n2.0\\n07/07/2022\\nC118nillLandscape character objectives to be achieved\\nToprovideforhousinginaresidentiallocationinabushlandsetting.\\nToprovideforsensitivesitingofbuildingsandworks,accessandearthworksandbytherestoration\\nofnativevegetationwhereconsideredappropriate.\\nToprovideforconservationandenhancementoftheenvironmentalvaluesofthearea.\\nToensurethatthedevelopmentoflandandtheremovalofnativevegetationarenotdetrimental\\ntothenaturalenvironmentandcharacterofthearea.\\nTominimisethethreatstothenaturalenvironmentthroughtheunnecessaryremovalofvegetation\\nintheseareas.\\n3.0\\n07/07/2022\\nC118nillPermit requirement\\nApermitisrequiredtoconstructafence.Thisdoesnotapply:\\nIfthefenceisofpostandwireconstruction;or\\nIfthefenceisatransparentsafetyfenceforaswimmingpoollocatedintheimmediatevicinity\\noftheswimmingpool.\\nApermitisrequiredtoremove,destroyorlopnativevegetation.Thisdoesnotapply:\\nIftheloppingofvegetationisundertakentoassistitsregeneration;or\\nIfthevegetationisdeador\\nTothepartialremovalofbranchesdirectlyoverhangingdwellings,garagesoroutbuildings;or\\nIfthevegetationisidentifiedasapestplantintheShireofNillumbikEnvironmentalWeed\\nList2009asincorporatedinthisscheme;or\\nIfthevegetationisKunzealeptospermoides(YarraBurgan)andisbeingremovedforfire\\npreventionpurposes.\\nPage447of1122NILLUMBIK PLANNING SCHEME', metadata={'page': 446, 'source': 'docs\\\\Nillumbik PS All Ordinance 2.pdf'}),\n",
       "  Document(page_content='07/07/2022\\nC118nillSCHEDULE 4 TO CLAUSE 42.03 SIGNIFICANT LANDSCAPE OVERLAY\\nShownontheplanningschememapas SLO4.\\nGARDEN COURT CHARACTER\\n1.0\\n07/07/2022\\nC118nillStatement of nature and key elements of landscape\\nTheShireofNillumbikNeighbourhoodCharacterStudyidentifiestheimportanceofvegetation\\nandtherelationshipbetweenthebuildingsandthelandscapetothecharacterofanarea.The\\nMunicipalPlanningStrategyandtheNeighbourhoodCharacterStudyestablishthatthecharacter\\noftheShireisheavilydependentupontheindigenousandnativevegetation,oftentoagreater\\nextentthantheformofbuildings.Theareascoveredbythisoverlayhaveagardencourtcharacter.\\nThefuturepreferredcharacteroftheseareasisidentifiedasbeingrelatedtothesettingofresidential\\ndevelopmentwithinthepredominantlynativevegetation.Itisintendedthatintypicalstreetscapes\\nsubstantialnativetreesdominatetheskylineandarecommoningardensandroadsidereservations.\\nItisalsoimportanttothecharacterthatthedelineationbetweenthepublicdomainandprivate\\nlandremainsindistinctandthatsolidfrontfencesarenotconstructed.\\nThekeyelementsofthislandscapeare:\\nThevisualdominanceofvegetationinlongdistanceviews,theskylineofstreetscapeviews\\nandfrontgardens.\\nThewayinwhichthemajorityofdevelopmentsitswithinthelandscapewithminimal\\nexcavation.\\nDwellingswithcoloursthatblendwiththelandscape.\\nAgenerallackoffrontfencing.\\n2.0\\n07/07/2022\\nC118nillLandscape character objectives to be achieved\\nToretainandencouragethedominanceoftreesinkeepingwiththecharacterofNillumbikand\\nthefuturepreferredcharacterofthegardencourtprecincts.\\nToensurethatdevelopmentissensitivetothenaturalcharacteristicsofthelandincludingslope,\\nterrain,servicesandanyexistingvegetation.\\nToensurethatthehealthofexistingtreesisnotjeopardisedbynewdevelopment.\\n3.0\\n07/07/2022\\nC118nillPermit requirement\\nApermitisrequired:\\nToremove,destroyorlopanysubstantialtree.Thisdoesnotapplytothepruningofatreefor\\nregenerationorornamentalshapingortheremovalofdeadtreesordeadlimbsorthepartial\\nremovaloflimbsandbranchesdirectlyoverhangingdwellings,garagesandoutbuildingsor\\ntheremovalofKunzealeptospermoides(YarraBurgan)forfirepreventionpurposes.\\nToconstructafrontfence.\\nApermitisnotrequiredtoconstructabuildingorcarryoutworksprovidedthebuildingorworks\\naremorethan5metresfromthebaseofanysubstantialtree.\\nForthepurposeofthisclauseasubstantialtreeisdefinedasvegetationthathasatrunk\\ncircumferencegreaterthan0.5metreatonemetreabovegroundlevel.\\n4.0\\n07/07/2022\\nC118nillApplication requirements\\nNonespecified.\\nPage451of1122NILLUMBIK PLANNING SCHEME', metadata={'page': 450, 'source': 'docs\\\\Nillumbik PS All Ordinance 2.pdf'})]}"
      ]
     },
     "execution_count": 27,
     "metadata": {},
     "output_type": "execute_result"
    }
   ],
   "source": [
    "response"
   ]
  },
  {
   "cell_type": "code",
   "execution_count": 21,
   "metadata": {},
   "outputs": [],
   "source": [
    "## For testing ###\n",
    "def non_db_response(query, chat_history):\n",
    "    SYSTEM_MESSAGE = \"\"\"You will act as an AI Assistant expert in the Nillumbik Planning Scheme that I am having a conversation with. You have the expertise of a lawer with 10 years of experience in local town planning regulation for Nillumbik in Melbourne, Australia. You will provide answers and guidance from your extensive knowledge and will always provide answer when requested with exact reference and outline from the source documents. Your response should be detailed and use as much of the relevant documents as possible. Your goal is to provide the best possible guidance and support to help me with my queries and problems related to your expertise.  \n",
    "\n",
    "        Example:      \n",
    "        \n",
    "        Question: Does pruning of a native tree trigger a permit requirement under the Significant landscape overlay schedule 2?\n",
    "        \n",
    "        Response:\n",
    "        Yes, pruning of a native tree does trigger a permit requirement under the Significant Landscape Overlay Schedule 2. This is stated in clause 42.03-2 of the Nillumbik Planning Scheme, which requires a permit to be obtained for the construction of a building or to carry out works, including the pruning or lopping of the trunk of a native tree, unless a schedule to the overlay specifically states that a permit is not required. Therefore, if the schedule to the overlay does not specifically state that a permit is not required for pruning of a native tree, then a permit must be obtained.\n",
    "\n",
    "        The relevant clause is:\n",
    "\n",
    "        VC224 Permit requirement\n",
    "        A permit is required to:\n",
    "        - Construct a building or to carry out works. This does not apply:\n",
    "        - If a schedule to this overlay specifically states that a permit is not required.\n",
    "        - To the conduct of agricultural activities including ploughing and fencing (but not the construction of dams) unless a specific requirement for that activity is specified in a schedule to this overlay.\n",
    "        - Construct a fence if specified in the schedule to this overlay.\n",
    "        - Remove, destroy or lop any vegetation specified in a schedule to this overlay. This does not apply:\n",
    "        - Lopping or pruning native vegetation, for maintenance only, provided no more than 1/3 of the foliage of each individual plant is lopped or pruned. Lopping and pruning for maintenance.\n",
    "        - Native vegetation that is to be removed, destroyed or lopped to the minimum extent necessary by the holder of an exploration, mining, prospecting, or retention license issued under the Mineral Resources (Sustainable Development) Act 1990: Mineral exploration and extraction that is low impact exploration within the meaning of Schedule 4A of the Mineral Resources (Sustainable Development) Act 1990; or in accordance with a work plan approved under Part 3 of the Mineral Resources (Sustainable Development) Act 1990.\n",
    "    \"\"\"\n",
    "    \n",
    "    response = openai.ChatCompletion.create(\n",
    "        model=\"gpt-4\",\n",
    "        messages=[\n",
    "            {\"role\": \"system\", \"content\": SYSTEM_MESSAGE},\n",
    "            {\"role\": \"user\", \"content\": f\"Given this previous conversation: {chat_history} and in the context of the Nillumbik Planning Scheme: {query}\"},\n",
    "        ],\n",
    "    )\n",
    "    return response[\"choices\"][0][\"message\"][\"content\"]\n",
    "\n"
   ]
  },
  {
   "cell_type": "code",
   "execution_count": 22,
   "metadata": {},
   "outputs": [
    {
     "data": {
      "text/plain": [
       "\"In the Nillumbik Planning Scheme, there are multiple regulations concerning landscaping and tree removal, which are mainly found in Clause 42.03 Significant Landscape Overlay and Clause 52.17 Native Vegetation. The specific requirements and exemptions are subject to the particular schedule and zoning of your property. Let's outline the key regulations:\\n\\n1. Clause 42.03 Significant Landscape Overlay (SLO):\\nThis clause provides an overlay designed to protect significant landscapes and conserve native trees. Depending on the schedule and zoning of your property, you may be subject to different requirements and exemptions. For example, Schedule 2 to the SLO (SLO2) focuses on tree conservation, which can trigger a permit requirement for removing, destroying, or lopping native vegetation, including pruning native trees.\\n\\n2. Clause 52.17 Native Vegetation:\\nThis clause deals with the removal, destruction, or lopping of native vegetation, aiming to achieve a net gain in the quality and extent of native vegetation. A permit is generally required to remove, destroy, or lop native vegetation, including to remove dead native vegetation. However, there are some exemptions listed in Clause 52.17-6, which include, but are not limited to, removing vegetation for specific public infrastructure works, wildfire management, or to maintain utility services.\\n\\n3. Vegetation Protection Overlay (VPO) (if applicable):\\nSome properties in Nillumbik may also be subject to a Vegetation Protection Overlay, which provides further regulations to protect significant vegetation, such as remnant indigenous vegetation or native vegetation with high habitat value. The specific requirements and exemptions depend on the schedule to the VPO.\\n\\nPlease be aware that this is not an exhaustive list of all potential planning provisions in the Nillumbik Planning Scheme related to landscaping and tree removal. To obtain comprehensive guidance on your specific property and circumstances, I recommend contacting the Nillumbik Shire Council to discuss your plans. You can find their contact information here: https://www.nillumbik.vic.gov.au/Contact-us\""
      ]
     },
     "execution_count": 22,
     "metadata": {},
     "output_type": "execute_result"
    }
   ],
   "source": [
    "query ='What are the regulations on landscaping or tree removal  in the Nillumbik Planning Scheme?'\n",
    "response2 = non_db_response(query, [])\n",
    "response2"
   ]
  },
  {
   "cell_type": "code",
   "execution_count": 26,
   "metadata": {},
   "outputs": [],
   "source": [
    "def summarise(fist_response, second_response, query):\n",
    "    response = openai.ChatCompletion.create(\n",
    "        model=\"gpt-4\",\n",
    "        messages=[\n",
    "            {\"role\": \"system\", \"content\": \"You will be provided with two responses to a question concurrently. Your task is to merge these responses into a more comprehensive and thorough one. Begin with the details from the second response, then interweave the details from the first response without leaving out any information. Your aim is to generate a richer, more complete answer than either individual response could offer. Since it relates to legal content, all numbers and exact values must be inlcluded in the reponse. If you encounter contradictions between the two responses, please present both viewpoints to provide a balanced perspective. Remember, absolutely every detail is valuable and needs to be included in the final output.  Respond using markdown.\"},\n",
    "            {\"role\": \"user\", \"content\": f\"Response 1: {fist_response} Response 2: {second_response} Question: {query}\"},\n",
    "        ],\n",
    "    )\n",
    "    return response[\"choices\"][0][\"message\"][\"content\"]"
   ]
  },
  {
   "cell_type": "code",
   "execution_count": 24,
   "metadata": {},
   "outputs": [],
   "source": [
    "summary = summarise(response['answer'],response2, query)"
   ]
  },
  {
   "cell_type": "code",
   "execution_count": 25,
   "metadata": {},
   "outputs": [
    {
     "data": {
      "text/plain": [
       "\"In the Nillumbik Planning Scheme, there are multiple regulations concerning landscaping and tree removal, which are mainly found in Clause 42.03 Significant Landscape Overlay (SLO) and Clause 52.17 Native Vegetation. There are also Vegetation Protection Overlays (VPO) that may apply to some properties. The specific requirements and exemptions are subject to the particular schedule and zoning of your property. Let's outline the key regulations:\\n\\n1. **Clause 42.03 Significant Landscape Overlay (SLO)**: This clause provides an overlay designed to protect significant landscapes and conserve native trees. Depending on the schedule and zoning of your property, you may be subject to different requirements and exemptions.\\n\\n   - **SLO Schedule 2 (SLO2)**: Applies to bush and semi-bush residential areas. A permit is required to remove, destroy, or lop any native vegetation, including substantial trees, unless the lopping is for maintenance only and no more than 1/3 of the foliage of each individual plant is lopped or pruned. A permit is also required to construct a front fence. However, a permit is not required to construct a building or carry out works if the building or works are at least 5 meters from the base of any substantial tree.\\n\\n   - **SLO Schedule 3 (SLO3)**: Applies to areas with a bush garden character. A permit is required to remove, destroy, or lop any substantial tree, unless the lopping is for regeneration or ornamental shaping, or the removal is of dead trees or dead limbs, or the partial removal of limbs and branches directly overhanging dwellings, garages, and outbuildings, or the removal of Kunzea leptospermoides (Yarra Burgan) for fire prevention purposes. A permit is also required to construct a front fence. However, a permit is not required to construct a building or carry out works if the height of any part of the building is no more than 7.5 meters above the natural surface of the ground directly below it, and the building or works are at least 5 meters from the base of any substantial tree.\\n\\n   - **SLO Schedule 4 (SLO4)**: Applies to areas with a garden court character. A permit is required to remove, destroy, or lop any substantial tree, unless the lopping is for regeneration or ornamental shaping, or the removal is of dead trees or dead limbs, or the partial removal of limbs and branches directly overhanging dwellings, garages, and outbuildings, or the removal of Kunzea leptospermoides (Yarra Burgan) for fire prevention purposes. A permit is also required to construct a front fence. However, a permit is not required to construct a building or carry out works if the building or works are more than 5 meters from the base of any substantial tree.\\n\\n   These regulations are subject to additional decision guidelines and landscape character objectives, as well as the need to ensure that development is compatible with the scale, setbacks, and character of existing development, and that it is sensitive to the natural characteristics of the land, including slope, terrain, services, and any existing vegetation.\\n\\n2. **Clause 52.17 Native Vegetation**: This clause deals with the removal, destruction, or lopping of native vegetation, aiming to achieve a net gain in the quality and extent of native vegetation. A permit is generally required to remove, destroy, or lop native vegetation, including to remove dead native vegetation. However, there are some exemptions listed in Clause 52.17-6, which include, but are not limited to, removing vegetation for specific public infrastructure works, wildfire management, or to maintain utility services.\\n\\n3. **Vegetation Protection Overlay (VPO)** (if applicable): Some properties in Nillumbik may also be subject to a Vegetation Protection Overlay, which provides further regulations to protect significant vegetation, such as remnant indigenous vegetation or native vegetation with high habitat value. The specific requirements and exemptions depend on the schedule to the VPO.\\n\\nPlease be aware that this is not an exhaustive list of all potential planning provisions in the Nillumbik Planning Scheme related to landscaping and tree removal. It is recommended to consult the relevant documents, including the Nillumbik Planning Scheme and the Shire of Nillumbik Neighbourhood Character Study brochure for the area, for more detailed information and guidance. To obtain comprehensive guidance on your specific property and circumstances, contact the Nillumbik Shire Council to discuss your plans. You can find their contact information here: https://www.nillumbik.vic.gov.au/Contact-us\""
      ]
     },
     "execution_count": 25,
     "metadata": {},
     "output_type": "execute_result"
    }
   ],
   "source": [
    "summary"
   ]
  },
  {
   "cell_type": "code",
   "execution_count": null,
   "metadata": {},
   "outputs": [],
   "source": []
  }
 ],
 "metadata": {
  "kernelspec": {
   "display_name": "Python 3",
   "language": "python",
   "name": "python3"
  },
  "language_info": {
   "codemirror_mode": {
    "name": "ipython",
    "version": 3
   },
   "file_extension": ".py",
   "mimetype": "text/x-python",
   "name": "python",
   "nbconvert_exporter": "python",
   "pygments_lexer": "ipython3",
   "version": "3.11.0"
  },
  "orig_nbformat": 4
 },
 "nbformat": 4,
 "nbformat_minor": 2
}
