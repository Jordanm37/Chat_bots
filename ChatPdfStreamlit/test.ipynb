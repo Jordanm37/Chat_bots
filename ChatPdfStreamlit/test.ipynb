{
 "cells": [
  {
   "cell_type": "code",
   "execution_count": null,
   "metadata": {},
   "outputs": [],
   "source": [
    "import openai\n",
    "import os\n",
    "from dotenv import load_dotenv\n",
    "\n",
    "load_dotenv('.env')\n",
    "\n",
    "\n",
    "openai.api_key = os.getenv('OPENAI_API_KEY')\n",
    "\n",
    "\n"
   ]
  },
  {
   "cell_type": "code",
   "execution_count": null,
   "metadata": {},
   "outputs": [],
   "source": [
    "class ChatBot():\n",
    "    \n",
    "    def answer(self, user_content):\n",
    "        response = openai.ChatCompletion.create(\n",
    "            model=\"gpt-4\",\n",
    "            messages=[\n",
    "                {\"role\": \"system\", \"content\": \"You are a chatbot. Hold a conversation. Respond using markdown.\"},\n",
    "                {\"role\": \"user\", \"content\": user_content},\n",
    "            ],\n",
    "        )\n",
    "        return response[\"choices\"][0][\"message\"][\"content\"]"
   ]
  },
  {
   "cell_type": "code",
   "execution_count": null,
   "metadata": {},
   "outputs": [],
   "source": [
    "mes = 'what is your name?'\n",
    "chat = ChatBot()\n",
    "a = chat.answer(mes)\n"
   ]
  },
  {
   "cell_type": "code",
   "execution_count": null,
   "metadata": {},
   "outputs": [],
   "source": [
    "a"
   ]
  },
  {
   "cell_type": "code",
   "execution_count": null,
   "metadata": {},
   "outputs": [],
   "source": [
    "type(a)"
   ]
  },
  {
   "cell_type": "code",
   "execution_count": null,
   "metadata": {},
   "outputs": [],
   "source": [
    "from chatbot import ChatBot \n",
    "\n",
    "# Instantiate the chatbot and layout\n",
    "chatbot = ChatBot()"
   ]
  },
  {
   "cell_type": "code",
   "execution_count": null,
   "metadata": {},
   "outputs": [],
   "source": [
    "def parse_sources(sources):\n",
    "    # Create an empty list to store results\n",
    "    parsed_sources = []\n",
    "    # Iterate over all sources\n",
    "    for source in sources:\n",
    "        # Get the metadata from the source\n",
    "        metadata = source['metadata']\n",
    "        # Get the source name, or use a default if not found\n",
    "        source_name = metadata.get('source', 'Unknown Source')\n",
    "        # Get the page number, or use a default if not found\n",
    "        page_number = metadata.get('page', 'Unknown Page')\n",
    "        # Create the string and add it to the results\n",
    "        parsed_sources.append(f\"Source: {source_name}, Page: {page_number}\")\n",
    "    # Return the results\n",
    "    return parsed_sources\n"
   ]
  },
  {
   "cell_type": "code",
   "execution_count": null,
   "metadata": {},
   "outputs": [],
   "source": [
    "def parse_page_content(page_content):\n",
    "    lines = page_content.split('\\n')\n",
    "    parsed_content = \"\\n\".join(line for line in lines if line.strip())  # remove empty lines\n",
    "    return parsed_content\n"
   ]
  },
  {
   "cell_type": "code",
   "execution_count": null,
   "metadata": {},
   "outputs": [],
   "source": [
    "chat = chatbot.chat_bot_response('what is the law on gardeing?', [])"
   ]
  },
  {
   "cell_type": "code",
   "execution_count": null,
   "metadata": {},
   "outputs": [],
   "source": [
    "pc = chat['source_documents'][0].page_content"
   ]
  },
  {
   "cell_type": "code",
   "execution_count": null,
   "metadata": {},
   "outputs": [],
   "source": [
    "parse_page_content(pc)"
   ]
  },
  {
   "cell_type": "code",
   "execution_count": null,
   "metadata": {},
   "outputs": [],
   "source": [
    "query = \"Does pruning of a native tree trigger a permit requirement under the Significant landscape overlay schedule 2\"\n",
    "chat = chatbot.chat_bot_response(query, [])"
   ]
  },
  {
   "cell_type": "code",
   "execution_count": 6,
   "metadata": {},
   "outputs": [
    {
     "data": {
      "text/plain": [
       "{'question': 'Does pruning of a native tree trigger a permit requirement under the Significant landscape overlay schedule 2',\n",
       " 'chat_history': [],\n",
       " 'answer': 'Yes, pruning of a native tree does trigger a permit requirement under the Significant Landscape Overlay Schedule 2. This is stated in clause 42.03-2 of the Nillumbik Planning Scheme, which requires a permit to be obtained for the construction of a building or to carry out works, including the pruning or lopping of the trunk of a native tree, unless a schedule to the overlay specifically states that a permit is not required. Therefore, if the schedule to the overlay does not specifically state that a permit is not required for pruning of a native tree, then a permit must be obtained.\\n\\nThe relevant clause is:\\n\\nVC224 Permit requirement\\nA permit is required to:\\n- Construct a building or to carry out works. This does not apply:\\n- If a schedule to this overlay specifically states that a permit is not required.\\n- To the conduct of agricultural activities including ploughing and fencing (but not the construction of dams) unless a specific requirement for that activity is specified in a schedule to this overlay.\\n- Construct a fence if specified in the schedule to this overlay.\\n- Remove, destroy or lop any vegetation specified in a schedule to this overlay. This does not apply:\\n- Lopping or pruning native vegetation, for maintenance only, provided no more than 1/3 of the foliage of each individual plant is lopped or pruned. Lopping and pruning for maintenance.\\n- Native vegetation that is to be removed, destroyed or lopped to the minimum extent necessary by the holder of an exploration, mining, prospecting, or retention license issued under the Mineral Resources (Sustainable Development) Act 1990: Mineral exploration and extraction that is low impact exploration within the meaning of Schedule 4A of the Mineral Resources (Sustainable Development) Act 1990; or in accordance with a work plan approved under Part 3 of the Mineral Resources (Sustainable Development) Act 1990.\\n\\nIt is important to note that the exemption for lopping or pruning native vegetation for maintenance only does not apply to the pruning or lopping of the trunk of a native tree, as stated in the relevant documents provided.',\n",
       " 'source_documents': [Document(page_content='The requirement to obtain a permit does not apply to:\\nLopping or pruning native vegetation, for maintenance only, provided no more than\\n1/3 of the foliage of each individual plant is lopped or pruned.Lopping and\\npruning for\\nmaintenanceThis exemption does not apply to:\\nthe pruning or lopping of the trunk of a native tree; or\\nnative vegetation on a roadside or railway reservation.\\nNative vegetation that is to be removed, destroyed or lopped to the minimum extent\\nnecessary by the holder of an exploration, mining, prospecting, or retention license\\nissued under the Mineral Resources (Sustainable Development) Act 1990 :Mineral\\nexploration and\\nextraction\\nthat is low impact exploration within the meaning of Schedule 4A of the Mineral\\nResources (Sustainable Development) Act 1990 ; or\\nin accordance with a work plan approved under Part 3 of the Mineral Resources\\n(Sustainable Development) Act 1990 .\\nNote: Schedule 4A of the Mineral Resources (Sustainable Development) Act 1990', metadata={'source': 'docs\\\\Nillumbik PS All Ordinance 2.pdf', 'page': 687}),\n",
       "  Document(page_content='42.03\\n31/07/2018\\nVC148SIGNIFICANT LANDSCAPE OVERLAY\\nShownontheplanningschememapas SLOwithanumber.\\nPurpose\\nToimplementtheMunicipalPlanningStrategyandthePlanningPolicyFramework.\\nToidentifysignificantlandscapes.\\nToconserveandenhancethecharacterofsignificantlandscapes.\\n42.03-1\\n31/07/2018\\nVC148Landscape character and objectives\\nAscheduletothisoverlaymustcontain:\\nAstatementofthenatureandkeyelementsofthelandscape.\\nThelandscapecharacterobjectivestobeachieved.\\n42.03-2\\n28/10/2022\\nVC224Permit requirement\\nApermitisrequiredto:\\nConstructabuildingorconstructorcarryoutworks.Thisdoesnotapply:\\n–Ifascheduletothisoverlayspecificallystatesthatapermitisnotrequired.\\n–Totheconductofagriculturalactivitiesincludingploughingandfencing(butnotthe\\nconstructionofdams)unlessaspecificrequirementforthatactivityisspecifiedinaschedule\\ntothisoverlay.\\nConstructafenceifspecifiedinthescheduletothisoverlay.\\nRemove,destroyorlopanyvegetationspecifiedinascheduletothisoverlay.Thisdoesnot\\napply:', metadata={'source': 'docs\\\\Nillumbik PS All Ordinance 2.pdf', 'page': 440}),\n",
       "  Document(page_content='VC138Permit requirement\\nApermitisrequiredtoremove,destroyorlopnativevegetation,includingdeadnativevegetation.\\nThisdoesnotapply:\\nIfthetabletoClause52.17-7specificallystatesthatapermitisnotrequired.\\nIfanativevegetationprecinctplancorrespondingtothelandisincorporatedintothisscheme\\nandlistedinthescheduletoClause52.16.\\nTotheremoval,destructionorloppingofnativevegetationspecifiedinthescheduletothis\\nclause.\\n52.17-2\\n14/07/2022\\nVC213Application requirements\\nAnapplicationtoremove,destroyorlopnativevegetationmustcomplywiththeapplication\\nrequirementsspecifiedintheGuidelines.\\n52.17-3\\n12/12/2017\\nVC138Property vegetation plans\\nApermitgrantedtoremove,destroyorlopnativevegetationinaccordancewithaproperty\\nvegetationplanmustincludethefollowingcondition:\\n“Thispermitwillexpireifoneofthefollowingcircumstancesapplies:\\nTheremoval,destructionorloppingofnativevegetationdoesnotstartwithintwoyearsofthe\\ndateofthispermit.\\nTheremoval,destructionorloppingofnativevegetationisnotcompletedwithintenyearsof', metadata={'source': 'docs\\\\Nillumbik PS All Ordinance 2.pdf', 'page': 683}),\n",
       "  Document(page_content='terrain,servicesandanyexistingvegetation.\\nToensurethatthehealthofexistingtreesisnotjeopardisedbynewdevelopment.\\n3.0\\n07/07/2022\\nC118nillPermit requirement\\nApermitisrequired:\\nToremove,destroyorlopanysubstantialtree.Thisdoesnotapplytothepruningofatreefor\\nregenerationorornamentalshapingortheremovalofdeadtreesordeadlimbsorthepartial\\nremovaloflimbsandbranchesdirectlyoverhangingdwellings,garagesandoutbuildingsor\\ntheremovalofKunzealeptospermoides(YarraBurgan)forfirepreventionpurposes.\\nToconstructafrontfence.\\nApermitisnotrequiredtoconstructabuildingorcarryoutworksprovidedthebuildingorworks\\naremorethan5metresfromthebaseofanysubstantialtree.\\nForthepurposeofthisclauseasubstantialtreeisdefinedasvegetationthathasatrunk\\ncircumferencegreaterthan0.5metreatonemetreabovegroundlevel.\\n4.0\\n07/07/2022\\nC118nillApplication requirements\\nNonespecified.\\nPage451of1122NILLUMBIK PLANNING SCHEME', metadata={'source': 'docs\\\\Nillumbik PS All Ordinance 2.pdf', 'page': 450})]}"
      ]
     },
     "execution_count": 6,
     "metadata": {},
     "output_type": "execute_result"
    }
   ],
   "source": [
    "chat"
   ]
  },
  {
   "cell_type": "code",
   "execution_count": null,
   "metadata": {},
   "outputs": [],
   "source": [
    "query = \"What are the laws relating to development of outdoor areas\"\n",
    "chat = chatbot.chat_bot_response(query, [])"
   ]
  },
  {
   "cell_type": "code",
   "execution_count": null,
   "metadata": {},
   "outputs": [],
   "source": [
    "chat\n"
   ]
  },
  {
   "cell_type": "code",
   "execution_count": null,
   "metadata": {},
   "outputs": [],
   "source": [
    "# load the documents from the docs directory\n",
    "loader = PyPDFDirectoryLoader(\"docs/\")\n",
    "docs = loader.load()\n",
    "\n",
    "#split the documents into chunks\n",
    "text_splitter = RecursiveCharacterTextSplitter(chunk_size=1000, chunk_overlap=200)\n",
    "texts = text_splitter.split_documents(docs)\n",
    "\n",
    "## here we are using OpenAI embeddings but in future we will swap out to local embeddings\n",
    "embedding = OpenAIEmbeddings()"
   ]
  },
  {
   "cell_type": "code",
   "execution_count": null,
   "metadata": {},
   "outputs": [],
   "source": [
    "url = \"<---qdrant cloud cluster url here --->\"\n",
    "api_key = \"<---api key here--->\"\n",
    "qdrant = Qdrant.from_documents(\n",
    "    docs, embeddings, \n",
    "    url, prefer_grpc=True, api_key=api_key, \n",
    "    collection_name=\"my_documents\",\n",
    ")"
   ]
  }
 ],
 "metadata": {
  "kernelspec": {
   "display_name": "Python 3",
   "language": "python",
   "name": "python3"
  },
  "language_info": {
   "codemirror_mode": {
    "name": "ipython",
    "version": 3
   },
   "file_extension": ".py",
   "mimetype": "text/x-python",
   "name": "python",
   "nbconvert_exporter": "python",
   "pygments_lexer": "ipython3",
   "version": "3.11.0"
  },
  "orig_nbformat": 4
 },
 "nbformat": 4,
 "nbformat_minor": 2
}
