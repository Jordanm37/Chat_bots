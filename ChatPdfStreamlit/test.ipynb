{
 "cells": [
  {
   "cell_type": "code",
   "execution_count": 1,
   "metadata": {},
   "outputs": [],
   "source": [
    "import openai\n",
    "import os\n",
    "from dotenv import load_dotenv\n",
    "\n",
    "load_dotenv('.env')\n",
    "\n",
    "\n",
    "openai.api_key = os.getenv('OPENAI_API_KEY')\n",
    "\n",
    "\n"
   ]
  },
  {
   "cell_type": "code",
   "execution_count": null,
   "metadata": {},
   "outputs": [],
   "source": [
    "class ChatBot():\n",
    "    \n",
    "    def answer(self, user_content):\n",
    "        response = openai.ChatCompletion.create(\n",
    "            model=\"gpt-4\",\n",
    "            messages=[\n",
    "                {\"role\": \"system\", \"content\": \"You are a chatbot. Hold a conversation. Respond using markdown.\"},\n",
    "                {\"role\": \"user\", \"content\": user_content},\n",
    "            ],\n",
    "        )\n",
    "        return response[\"choices\"][0][\"message\"][\"content\"]"
   ]
  },
  {
   "cell_type": "code",
   "execution_count": null,
   "metadata": {},
   "outputs": [],
   "source": [
    "mes = 'what is your name?'\n",
    "chat = ChatBot()\n",
    "a = chat.answer(mes)\n"
   ]
  },
  {
   "cell_type": "code",
   "execution_count": null,
   "metadata": {},
   "outputs": [],
   "source": [
    "a"
   ]
  },
  {
   "cell_type": "code",
   "execution_count": null,
   "metadata": {},
   "outputs": [],
   "source": [
    "type(a)"
   ]
  },
  {
   "cell_type": "code",
   "execution_count": 2,
   "metadata": {},
   "outputs": [],
   "source": [
    "from chatbot import ChatBot \n",
    "\n",
    "# Instantiate the chatbot and layout\n",
    "chatbot = ChatBot()"
   ]
  },
  {
   "cell_type": "code",
   "execution_count": 3,
   "metadata": {},
   "outputs": [],
   "source": [
    "def parse_sources(sources):\n",
    "    parsed_sources = []\n",
    "    for source in sources:\n",
    "        metadata = source['metadata']\n",
    "        source_name = metadata.get('source', 'Unknown Source')\n",
    "        page_number = metadata.get('page', 'Unknown Page')\n",
    "        parsed_sources.append(f\"Source: {source_name}, Page: {page_number}\")\n",
    "    return parsed_sources\n"
   ]
  },
  {
   "cell_type": "code",
   "execution_count": 4,
   "metadata": {},
   "outputs": [],
   "source": [
    "def parse_page_content(page_content):\n",
    "    lines = page_content.split('\\n')\n",
    "    parsed_content = \"\\n\".join(line for line in lines if line.strip())  # remove empty lines\n",
    "    return parsed_content\n"
   ]
  },
  {
   "cell_type": "code",
   "execution_count": 5,
   "metadata": {},
   "outputs": [],
   "source": [
    "chat = chatbot.chat_bot_response('what is the law on gardeing?', [])"
   ]
  },
  {
   "cell_type": "code",
   "execution_count": 6,
   "metadata": {},
   "outputs": [],
   "source": [
    "pc = chat['source_documents'][0].page_content"
   ]
  },
  {
   "cell_type": "code",
   "execution_count": 7,
   "metadata": {},
   "outputs": [
    {
     "data": {
      "text/plain": [
       "'Sitegaragesadjacenttoorbehindthedwelling.\\nAvoidfrontfencingorsolidsidefencingvisiblefromthestreetwherethisisafeatureofthe\\nstreetscape.\\nGarden Court precincts policy guidelines\\nConsiderasrelevant:\\nRetainingorplantinghighcanopynativetreeswithsubstantialexotictreesatadensityofone\\ntreetoevery200squaremetres.\\nMaintainingthe:\\nPredominantfrontsetbacksof7-8metres.\\nVariedorientationofdwellingsthatisoftennotparalleltothestreet.\\nSidesetbacksof1-3metres.\\nAllowingdevelopmenttovarytheorientationandsetbacksofadjoiningpropertiesandthe\\nstreetscape,whereitisintheDiamondCreekGardenCourt3and4Precinctsandinalocation\\nthatissuitableforhigherdensityhousing.\\nPage129of1122NILLUMBIK PLANNING SCHEME'"
      ]
     },
     "execution_count": 7,
     "metadata": {},
     "output_type": "execute_result"
    }
   ],
   "source": [
    "parse_page_content(pc)"
   ]
  },
  {
   "cell_type": "code",
   "execution_count": 8,
   "metadata": {},
   "outputs": [],
   "source": [
    "query = \"Does pruning of a native tree trigger a permit requirement under the Significant landscape overlay schedule 2\"\n",
    "chat = chatbot.chat_bot_response(query, [])"
   ]
  },
  {
   "cell_type": "code",
   "execution_count": 9,
   "metadata": {},
   "outputs": [
    {
     "data": {
      "text/plain": [
       "{'question': 'Does pruning of a native tree trigger a permit requirement under the Significant landscape overlay schedule 2',\n",
       " 'chat_history': [],\n",
       " 'answer': 'According to the Significant Landscape Overlay schedule 2, the pruning of a native tree does trigger a permit requirement. This means that you would need to obtain a permit before pruning a native tree under this overlay.',\n",
       " 'source_documents': [Document(page_content='The requirement to obtain a permit does not apply to:\\nLopping or pruning native vegetation, for maintenance only, provided no more than\\n1/3 of the foliage of each individual plant is lopped or pruned.Lopping and\\npruning for\\nmaintenanceThis exemption does not apply to:\\nthe pruning or lopping of the trunk of a native tree; or\\nnative vegetation on a roadside or railway reservation.\\nNative vegetation that is to be removed, destroyed or lopped to the minimum extent\\nnecessary by the holder of an exploration, mining, prospecting, or retention license\\nissued under the Mineral Resources (Sustainable Development) Act 1990 :Mineral\\nexploration and\\nextraction\\nthat is low impact exploration within the meaning of Schedule 4A of the Mineral\\nResources (Sustainable Development) Act 1990 ; or\\nin accordance with a work plan approved under Part 3 of the Mineral Resources\\n(Sustainable Development) Act 1990 .\\nNote: Schedule 4A of the Mineral Resources (Sustainable Development) Act 1990', metadata={'source': 'docs\\\\Nillumbik PS All Ordinance 2.pdf', 'page': 687}),\n",
       "  Document(page_content='42.03\\n31/07/2018\\nVC148SIGNIFICANT LANDSCAPE OVERLAY\\nShownontheplanningschememapas SLOwithanumber.\\nPurpose\\nToimplementtheMunicipalPlanningStrategyandthePlanningPolicyFramework.\\nToidentifysignificantlandscapes.\\nToconserveandenhancethecharacterofsignificantlandscapes.\\n42.03-1\\n31/07/2018\\nVC148Landscape character and objectives\\nAscheduletothisoverlaymustcontain:\\nAstatementofthenatureandkeyelementsofthelandscape.\\nThelandscapecharacterobjectivestobeachieved.\\n42.03-2\\n28/10/2022\\nVC224Permit requirement\\nApermitisrequiredto:\\nConstructabuildingorconstructorcarryoutworks.Thisdoesnotapply:\\n–Ifascheduletothisoverlayspecificallystatesthatapermitisnotrequired.\\n–Totheconductofagriculturalactivitiesincludingploughingandfencing(butnotthe\\nconstructionofdams)unlessaspecificrequirementforthatactivityisspecifiedinaschedule\\ntothisoverlay.\\nConstructafenceifspecifiedinthescheduletothisoverlay.\\nRemove,destroyorlopanyvegetationspecifiedinascheduletothisoverlay.Thisdoesnot\\napply:', metadata={'source': 'docs\\\\Nillumbik PS All Ordinance 2.pdf', 'page': 440}),\n",
       "  Document(page_content='VC138Permit requirement\\nApermitisrequiredtoremove,destroyorlopnativevegetation,includingdeadnativevegetation.\\nThisdoesnotapply:\\nIfthetabletoClause52.17-7specificallystatesthatapermitisnotrequired.\\nIfanativevegetationprecinctplancorrespondingtothelandisincorporatedintothisscheme\\nandlistedinthescheduletoClause52.16.\\nTotheremoval,destructionorloppingofnativevegetationspecifiedinthescheduletothis\\nclause.\\n52.17-2\\n14/07/2022\\nVC213Application requirements\\nAnapplicationtoremove,destroyorlopnativevegetationmustcomplywiththeapplication\\nrequirementsspecifiedintheGuidelines.\\n52.17-3\\n12/12/2017\\nVC138Property vegetation plans\\nApermitgrantedtoremove,destroyorlopnativevegetationinaccordancewithaproperty\\nvegetationplanmustincludethefollowingcondition:\\n“Thispermitwillexpireifoneofthefollowingcircumstancesapplies:\\nTheremoval,destructionorloppingofnativevegetationdoesnotstartwithintwoyearsofthe\\ndateofthispermit.\\nTheremoval,destructionorloppingofnativevegetationisnotcompletedwithintenyearsof', metadata={'source': 'docs\\\\Nillumbik PS All Ordinance 2.pdf', 'page': 683}),\n",
       "  Document(page_content='terrain,servicesandanyexistingvegetation.\\nToensurethatthehealthofexistingtreesisnotjeopardisedbynewdevelopment.\\n3.0\\n07/07/2022\\nC118nillPermit requirement\\nApermitisrequired:\\nToremove,destroyorlopanysubstantialtree.Thisdoesnotapplytothepruningofatreefor\\nregenerationorornamentalshapingortheremovalofdeadtreesordeadlimbsorthepartial\\nremovaloflimbsandbranchesdirectlyoverhangingdwellings,garagesandoutbuildingsor\\ntheremovalofKunzealeptospermoides(YarraBurgan)forfirepreventionpurposes.\\nToconstructafrontfence.\\nApermitisnotrequiredtoconstructabuildingorcarryoutworksprovidedthebuildingorworks\\naremorethan5metresfromthebaseofanysubstantialtree.\\nForthepurposeofthisclauseasubstantialtreeisdefinedasvegetationthathasatrunk\\ncircumferencegreaterthan0.5metreatonemetreabovegroundlevel.\\n4.0\\n07/07/2022\\nC118nillApplication requirements\\nNonespecified.\\nPage451of1122NILLUMBIK PLANNING SCHEME', metadata={'source': 'docs\\\\Nillumbik PS All Ordinance 2.pdf', 'page': 450})]}"
      ]
     },
     "execution_count": 9,
     "metadata": {},
     "output_type": "execute_result"
    }
   ],
   "source": [
    "chat"
   ]
  },
  {
   "cell_type": "code",
   "execution_count": null,
   "metadata": {},
   "outputs": [],
   "source": []
  },
  {
   "cell_type": "code",
   "execution_count": null,
   "metadata": {},
   "outputs": [],
   "source": []
  }
 ],
 "metadata": {
  "kernelspec": {
   "display_name": "Python 3",
   "language": "python",
   "name": "python3"
  },
  "language_info": {
   "codemirror_mode": {
    "name": "ipython",
    "version": 3
   },
   "file_extension": ".py",
   "mimetype": "text/x-python",
   "name": "python",
   "nbconvert_exporter": "python",
   "pygments_lexer": "ipython3",
   "version": "3.11.0"
  },
  "orig_nbformat": 4
 },
 "nbformat": 4,
 "nbformat_minor": 2
}
