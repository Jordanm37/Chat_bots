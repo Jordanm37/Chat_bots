{
 "cells": [
  {
   "cell_type": "code",
   "execution_count": 1,
   "metadata": {},
   "outputs": [],
   "source": [
    "import openai\n",
    "import os\n",
    "from dotenv import load_dotenv\n",
    "\n",
    "load_dotenv('.env')\n",
    "\n",
    "\n",
    "openai.api_key = os.getenv('OPENAI_API_KEY')\n",
    "\n",
    "\n"
   ]
  },
  {
   "cell_type": "code",
   "execution_count": null,
   "metadata": {},
   "outputs": [],
   "source": [
    "class ChatBot():\n",
    "    \n",
    "    def answer(self, user_content):\n",
    "        response = openai.ChatCompletion.create(\n",
    "            model=\"gpt-4\",\n",
    "            messages=[\n",
    "                {\"role\": \"system\", \"content\": \"You are a chatbot. Hold a conversation. Respond using markdown.\"},\n",
    "                {\"role\": \"user\", \"content\": user_content},\n",
    "            ],\n",
    "        )\n",
    "        return response[\"choices\"][0][\"message\"][\"content\"]"
   ]
  },
  {
   "cell_type": "code",
   "execution_count": null,
   "metadata": {},
   "outputs": [],
   "source": [
    "mes = 'what is your name?'\n",
    "chat = ChatBot()\n",
    "a = chat.answer(mes)\n"
   ]
  },
  {
   "cell_type": "code",
   "execution_count": null,
   "metadata": {},
   "outputs": [],
   "source": [
    "a"
   ]
  },
  {
   "cell_type": "code",
   "execution_count": null,
   "metadata": {},
   "outputs": [],
   "source": [
    "type(a)"
   ]
  },
  {
   "cell_type": "code",
   "execution_count": 2,
   "metadata": {},
   "outputs": [],
   "source": [
    "from chatbot import ChatBot \n",
    "\n",
    "# Instantiate the chatbot and layout\n",
    "chatbot = ChatBot()"
   ]
  },
  {
   "cell_type": "code",
   "execution_count": 3,
   "metadata": {},
   "outputs": [],
   "source": [
    "def parse_sources(sources):\n",
    "    parsed_sources = []\n",
    "    for source in sources:\n",
    "        metadata = source['metadata']\n",
    "        source_name = metadata.get('source', 'Unknown Source')\n",
    "        page_number = metadata.get('page', 'Unknown Page')\n",
    "        parsed_sources.append(f\"Source: {source_name}, Page: {page_number}\")\n",
    "    return parsed_sources\n"
   ]
  },
  {
   "cell_type": "code",
   "execution_count": 4,
   "metadata": {},
   "outputs": [],
   "source": [
    "def parse_page_content(page_content):\n",
    "    lines = page_content.split('\\n')\n",
    "    parsed_content = \"\\n\".join(line for line in lines if line.strip())  # remove empty lines\n",
    "    return parsed_content\n"
   ]
  },
  {
   "cell_type": "code",
   "execution_count": 5,
   "metadata": {},
   "outputs": [],
   "source": [
    "chat = chatbot.chat_bot_response('what is the law on gardeing?', [])"
   ]
  },
  {
   "cell_type": "code",
   "execution_count": 6,
   "metadata": {},
   "outputs": [],
   "source": [
    "pc = chat['source_documents'][0].page_content"
   ]
  },
  {
   "cell_type": "code",
   "execution_count": 7,
   "metadata": {},
   "outputs": [
    {
     "data": {
      "text/plain": [
       "'Sitegaragesadjacenttoorbehindthedwelling.\\nAvoidfrontfencingorsolidsidefencingvisiblefromthestreetwherethisisafeatureofthe\\nstreetscape.\\nGarden Court precincts policy guidelines\\nConsiderasrelevant:\\nRetainingorplantinghighcanopynativetreeswithsubstantialexotictreesatadensityofone\\ntreetoevery200squaremetres.\\nMaintainingthe:\\nPredominantfrontsetbacksof7-8metres.\\nVariedorientationofdwellingsthatisoftennotparalleltothestreet.\\nSidesetbacksof1-3metres.\\nAllowingdevelopmenttovarytheorientationandsetbacksofadjoiningpropertiesandthe\\nstreetscape,whereitisintheDiamondCreekGardenCourt3and4Precinctsandinalocation\\nthatissuitableforhigherdensityhousing.\\nPage129of1122NILLUMBIK PLANNING SCHEME'"
      ]
     },
     "execution_count": 7,
     "metadata": {},
     "output_type": "execute_result"
    }
   ],
   "source": [
    "parse_page_content(pc)"
   ]
  },
  {
   "cell_type": "code",
   "execution_count": 5,
   "metadata": {},
   "outputs": [],
   "source": [
    "query = \"Does pruning of a native tree trigger a permit requirement under the Significant landscape overlay schedule 2\"\n",
    "chat = chatbot.chat_bot_response(query, [])"
   ]
  },
  {
   "cell_type": "code",
   "execution_count": 6,
   "metadata": {},
   "outputs": [
    {
     "data": {
      "text/plain": [
       "{'question': 'Does pruning of a native tree trigger a permit requirement under the Significant landscape overlay schedule 2',\n",
       " 'chat_history': [],\n",
       " 'answer': 'Yes, pruning of a native tree does trigger a permit requirement under the Significant Landscape Overlay Schedule 2. This is stated in clause 42.03-2 of the Nillumbik Planning Scheme, which requires a permit to be obtained for the construction of a building or to carry out works, including the pruning or lopping of the trunk of a native tree, unless a schedule to the overlay specifically states that a permit is not required. Therefore, if the schedule to the overlay does not specifically state that a permit is not required for pruning of a native tree, then a permit must be obtained.\\n\\nThe relevant clause is:\\n\\nVC224 Permit requirement\\nA permit is required to:\\n- Construct a building or to carry out works. This does not apply:\\n- If a schedule to this overlay specifically states that a permit is not required.\\n- To the conduct of agricultural activities including ploughing and fencing (but not the construction of dams) unless a specific requirement for that activity is specified in a schedule to this overlay.\\n- Construct a fence if specified in the schedule to this overlay.\\n- Remove, destroy or lop any vegetation specified in a schedule to this overlay. This does not apply:\\n- Lopping or pruning native vegetation, for maintenance only, provided no more than 1/3 of the foliage of each individual plant is lopped or pruned. Lopping and pruning for maintenance.\\n- Native vegetation that is to be removed, destroyed or lopped to the minimum extent necessary by the holder of an exploration, mining, prospecting, or retention license issued under the Mineral Resources (Sustainable Development) Act 1990: Mineral exploration and extraction that is low impact exploration within the meaning of Schedule 4A of the Mineral Resources (Sustainable Development) Act 1990; or in accordance with a work plan approved under Part 3 of the Mineral Resources (Sustainable Development) Act 1990.\\n\\nIt is important to note that the exemption for lopping or pruning native vegetation for maintenance only does not apply to the pruning or lopping of the trunk of a native tree, as stated in the relevant documents provided.',\n",
       " 'source_documents': [Document(page_content='The requirement to obtain a permit does not apply to:\\nLopping or pruning native vegetation, for maintenance only, provided no more than\\n1/3 of the foliage of each individual plant is lopped or pruned.Lopping and\\npruning for\\nmaintenanceThis exemption does not apply to:\\nthe pruning or lopping of the trunk of a native tree; or\\nnative vegetation on a roadside or railway reservation.\\nNative vegetation that is to be removed, destroyed or lopped to the minimum extent\\nnecessary by the holder of an exploration, mining, prospecting, or retention license\\nissued under the Mineral Resources (Sustainable Development) Act 1990 :Mineral\\nexploration and\\nextraction\\nthat is low impact exploration within the meaning of Schedule 4A of the Mineral\\nResources (Sustainable Development) Act 1990 ; or\\nin accordance with a work plan approved under Part 3 of the Mineral Resources\\n(Sustainable Development) Act 1990 .\\nNote: Schedule 4A of the Mineral Resources (Sustainable Development) Act 1990', metadata={'source': 'docs\\\\Nillumbik PS All Ordinance 2.pdf', 'page': 687}),\n",
       "  Document(page_content='42.03\\n31/07/2018\\nVC148SIGNIFICANT LANDSCAPE OVERLAY\\nShownontheplanningschememapas SLOwithanumber.\\nPurpose\\nToimplementtheMunicipalPlanningStrategyandthePlanningPolicyFramework.\\nToidentifysignificantlandscapes.\\nToconserveandenhancethecharacterofsignificantlandscapes.\\n42.03-1\\n31/07/2018\\nVC148Landscape character and objectives\\nAscheduletothisoverlaymustcontain:\\nAstatementofthenatureandkeyelementsofthelandscape.\\nThelandscapecharacterobjectivestobeachieved.\\n42.03-2\\n28/10/2022\\nVC224Permit requirement\\nApermitisrequiredto:\\nConstructabuildingorconstructorcarryoutworks.Thisdoesnotapply:\\n–Ifascheduletothisoverlayspecificallystatesthatapermitisnotrequired.\\n–Totheconductofagriculturalactivitiesincludingploughingandfencing(butnotthe\\nconstructionofdams)unlessaspecificrequirementforthatactivityisspecifiedinaschedule\\ntothisoverlay.\\nConstructafenceifspecifiedinthescheduletothisoverlay.\\nRemove,destroyorlopanyvegetationspecifiedinascheduletothisoverlay.Thisdoesnot\\napply:', metadata={'source': 'docs\\\\Nillumbik PS All Ordinance 2.pdf', 'page': 440}),\n",
       "  Document(page_content='VC138Permit requirement\\nApermitisrequiredtoremove,destroyorlopnativevegetation,includingdeadnativevegetation.\\nThisdoesnotapply:\\nIfthetabletoClause52.17-7specificallystatesthatapermitisnotrequired.\\nIfanativevegetationprecinctplancorrespondingtothelandisincorporatedintothisscheme\\nandlistedinthescheduletoClause52.16.\\nTotheremoval,destructionorloppingofnativevegetationspecifiedinthescheduletothis\\nclause.\\n52.17-2\\n14/07/2022\\nVC213Application requirements\\nAnapplicationtoremove,destroyorlopnativevegetationmustcomplywiththeapplication\\nrequirementsspecifiedintheGuidelines.\\n52.17-3\\n12/12/2017\\nVC138Property vegetation plans\\nApermitgrantedtoremove,destroyorlopnativevegetationinaccordancewithaproperty\\nvegetationplanmustincludethefollowingcondition:\\n“Thispermitwillexpireifoneofthefollowingcircumstancesapplies:\\nTheremoval,destructionorloppingofnativevegetationdoesnotstartwithintwoyearsofthe\\ndateofthispermit.\\nTheremoval,destructionorloppingofnativevegetationisnotcompletedwithintenyearsof', metadata={'source': 'docs\\\\Nillumbik PS All Ordinance 2.pdf', 'page': 683}),\n",
       "  Document(page_content='terrain,servicesandanyexistingvegetation.\\nToensurethatthehealthofexistingtreesisnotjeopardisedbynewdevelopment.\\n3.0\\n07/07/2022\\nC118nillPermit requirement\\nApermitisrequired:\\nToremove,destroyorlopanysubstantialtree.Thisdoesnotapplytothepruningofatreefor\\nregenerationorornamentalshapingortheremovalofdeadtreesordeadlimbsorthepartial\\nremovaloflimbsandbranchesdirectlyoverhangingdwellings,garagesandoutbuildingsor\\ntheremovalofKunzealeptospermoides(YarraBurgan)forfirepreventionpurposes.\\nToconstructafrontfence.\\nApermitisnotrequiredtoconstructabuildingorcarryoutworksprovidedthebuildingorworks\\naremorethan5metresfromthebaseofanysubstantialtree.\\nForthepurposeofthisclauseasubstantialtreeisdefinedasvegetationthathasatrunk\\ncircumferencegreaterthan0.5metreatonemetreabovegroundlevel.\\n4.0\\n07/07/2022\\nC118nillApplication requirements\\nNonespecified.\\nPage451of1122NILLUMBIK PLANNING SCHEME', metadata={'source': 'docs\\\\Nillumbik PS All Ordinance 2.pdf', 'page': 450})]}"
      ]
     },
     "execution_count": 6,
     "metadata": {},
     "output_type": "execute_result"
    }
   ],
   "source": [
    "chat"
   ]
  },
  {
   "cell_type": "code",
   "execution_count": 12,
   "metadata": {},
   "outputs": [],
   "source": [
    "query = \"What are the laws relating to development of outdoor areas\"\n",
    "chat = chatbot.chat_bot_response(query, [])"
   ]
  },
  {
   "cell_type": "code",
   "execution_count": 11,
   "metadata": {},
   "outputs": [
    {
     "data": {
      "text/plain": [
       "{'question': 'What are the laws relating to development of outdoor areas',\n",
       " 'chat_history': [],\n",
       " 'answer': \"The laws relating to the development of outdoor areas are outlined in the Nillumbik Planning Scheme, specifically in the Nillumbik PS All Ordinance 2. According to Section 52.20-7.2 of the ordinance, a development of 10 or more dwellings should provide a minimum area of communal outdoor open space of 30 square meters. If the development contains 13 or more dwellings, an additional minimum area of communal open space should be provided, which is either 2.5 square meters per dwelling or 220 square meters, whichever is lesser. This additional area can be indoors or outdoors and consist of multiple separate areas of communal open space.\\n\\nEach area of communal open space should meet the following criteria:\\n1. Accessible to all residents.\\n2. A usable size, shape, and dimension.\\n3. Capable of efficient management.\\n\\nIn terms of location, the communal open spaces should be designed to:\\n- Provide passive surveillance opportunities, where appropriate.\\n- Provide outlook for as many dwellings as practicable.\\n- Avoid overlooking into habitable rooms and private open space of new dwellings.\\n- Minimize noise impacts to new and existing dwellings.\\n\\nFurthermore, any communal outdoor open spaces should be landscaped and include canopy cover and trees, as stated in Section 52.20-7.4 of the ordinance.\\n\\nPlease note that the information provided is based on the Nillumbik PS All Ordinance 2. It's always a good idea to consult the specific regulations and guidelines applicable to your local area to ensure compliance.\",\n",
       " 'source_documents': [Document(page_content='Standard B36\\nAdevelopmentof10ormoredwellingsshouldprovideaminimumareaofcommunaloutdoor\\nopenspaceof30squaremetres.\\nIfadevelopmentcontains13ormoredwellings,thedevelopmentshouldalsoprovideanadditional\\nminimumareaofcommunalopenspaceof2.5squaremetresperdwellingor220squaremetres,\\nwhicheveristhelesser.Thisadditionalareamaybeindoorsoroutdoorsandconsistofmultiple\\nseparateareasofcommunalopenspace.\\nEachareaofcommunalopenspaceshouldbe:\\nAccessibletoallresidents.\\nAuseablesize,shapeanddimension.\\nCapableofefficientmanagement.\\nBelocatedto:\\n–Providepassivesurveillanceopportunities,whereappropriate.\\n–Provideoutlookforasmanydwellingsaspracticable.\\n–Avoidoverlookingintohabitableroomsandprivateopenspaceofnewdwellings.\\n–Minimisenoiseimpactstonewandexistingdwellings.\\nAnyareaofcommunaloutdooropenspaceshouldbelandscapedandincludecanopycoverand\\ntrees.\\nDecision guidelines\\nBeforedecidingonanapplication,theresponsibleauthoritymustconsider:\\nAnyrelevanturbandesignobjective,policyorstatementsetoutinthisscheme.', metadata={'source': 'docs\\\\Nillumbik PS All Ordinance 2.pdf', 'page': 889}),\n",
       "  Document(page_content='trees.\\n52.20-7.3 Solar access to communal outdoor open space\\nThecommunaloutdooropenspaceshouldbelocatedonthenorthsideofabuilding,ifappropriate.\\nAtleast50percentor125squaremetres,whicheveristhelesser,oftheprimarycommunaloutdoor\\nopenspaceshouldreceiveaminimumoftwohoursofsunlightbetween9amand3pmon21June.\\n52.20-7.4 Landscaping\\nDevelopmentshouldretainexistingtreesandcanopycover.\\nDevelopmentshouldprovideforthereplacementofanysignificanttreesthathavebeenremoved\\ninthe12monthspriortotheapplicationbeingmade.\\nDevelopmentshould:\\nProvidethecanopycoveranddeepsoilareaspecifiedinTable5.Existingtreescanbeusedto\\nmeetthecanopycoverrequirementsofTable5.\\nProvidecanopycoverthroughcanopytreesthatare:\\n–LocatedinanareaofdeepsoilspecifiedinTable6.Wheredeepsoilcannotbeprovided,\\ntreesshouldbeprovidedinplantersspecifiedinTable6.\\n–ConsistentwiththecanopydiameterandheightatmaturityspecifiedinTable7.\\n–Locatedincommunaloutdooropenspaceorcommonareasorstreetfrontages.', metadata={'source': 'docs\\\\Nillumbik PS All Ordinance 2.pdf', 'page': 713}),\n",
       "  Document(page_content='52.20-7.2 Communal open space\\nAdevelopmentof10ormoredwellingsshouldprovideaminimumareaofcommunaloutdoor\\nopenspaceof30squaremetres.\\nIfadevelopmentcontains13ormoredwellings,thedevelopmentshouldalsoprovideanadditional\\nminimumareaofcommunalopenspaceof2.5squaremetresperdwellingor220squaremetres,\\nwhicheveristhelesser.Thisadditionalareamaybeindoorsoroutdoorsandconsistofmultiple\\nseparateareasofcommunalopenspace.\\nEachareaofcommunalopenspaceshouldbe:\\nAccessibletoallresidents.\\nAuseablesize,shapeanddimension.\\nCapableofefficientmanagement.\\nLocatedto:\\n–Providepassivesurveillanceopportunities,whereappropriate.\\n–Provideoutlookforasmanydwellingsaspracticable.\\n–Avoidoverlookingintohabitableroomsandprivateopenspaceofnewdwellings.\\n–Minimisenoiseimpactstonewandexistingdwellings.\\nAnyareaofcommunaloutdooropenspaceshouldbelandscapedandincludecanopycoverand\\ntrees.\\n52.20-7.3 Solar access to communal outdoor open space\\nThecommunaloutdooropenspaceshouldbelocatedonthenorthsideofabuilding,ifappropriate.', metadata={'source': 'docs\\\\Nillumbik PS All Ordinance 2.pdf', 'page': 713}),\n",
       "  Document(page_content='Access.\\nLandscaping.\\nPublicrealm.\\nAnyotherrequirementsorguidelinesrelatingtothedesignorbuiltformofnewdevelopment.\\nApermitmaybegrantedtoconstructabuildingorconstructorcarryoutworkswhichisnotin\\naccordancewithanydesignanddevelopmentrequirementinthescheduletothiszoneunlessthe\\nscheduletothiszonespecifiesotherwise.\\n37.08-7\\n01/07/2021\\nVC203Application requirements\\nUse\\nAnapplicationtouselandmustbeaccompaniedbythefollowinginformation,asappropriate:\\nAdescriptionoftheproposeduseandthetypesofactivitieswhichwillbecarriedoutandany\\nproposedstagingofuseandactivitiesontheland.\\nPlansdrawntoscaleanddimensionedwhichshow:\\n–Thesitinganduseofbuildings.\\n–Areasnotrequiredforimmediateuse.\\n–Adjacentbuildingsanduses.\\nThelikelyeffects,ifany,onadjoiningland,includingnoiselevels,traffic,thehoursofdelivery\\nanddespatchofgoodsandmaterials,hoursofoperationandlightspill,solaraccess,glare,\\nair-borneemissionsandemissionstolandandwater.\\nIfanindustryorwarehouse:\\n–Thetypeandquantityofgoodstobestored,processedorproduced.', metadata={'source': 'docs\\\\Nillumbik PS All Ordinance 2.pdf', 'page': 377})]}"
      ]
     },
     "execution_count": 11,
     "metadata": {},
     "output_type": "execute_result"
    }
   ],
   "source": [
    "chat\n"
   ]
  },
  {
   "cell_type": "code",
   "execution_count": null,
   "metadata": {},
   "outputs": [],
   "source": []
  }
 ],
 "metadata": {
  "kernelspec": {
   "display_name": "Python 3",
   "language": "python",
   "name": "python3"
  },
  "language_info": {
   "codemirror_mode": {
    "name": "ipython",
    "version": 3
   },
   "file_extension": ".py",
   "mimetype": "text/x-python",
   "name": "python",
   "nbconvert_exporter": "python",
   "pygments_lexer": "ipython3",
   "version": "3.11.0"
  },
  "orig_nbformat": 4
 },
 "nbformat": 4,
 "nbformat_minor": 2
}
