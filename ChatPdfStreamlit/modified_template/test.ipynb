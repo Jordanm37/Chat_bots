{
 "cells": [
  {
   "cell_type": "code",
   "execution_count": 1,
   "metadata": {},
   "outputs": [],
   "source": [
    "import openai\n",
    "import os\n",
    "from dotenv import load_dotenv\n",
    "\n",
    "load_dotenv('.env')\n",
    "\n",
    "\n",
    "openai.api_key = os.getenv('OPENAI_API_KEY')\n",
    "\n",
    "\n",
    "class ChatBot():\n",
    "    \n",
    "    def answer(self, user_content):\n",
    "        response = openai.ChatCompletion.create(\n",
    "            model=\"gpt-4\",\n",
    "            messages=[\n",
    "                {\"role\": \"system\", \"content\": \"You are a chatbot. Hold a conversation. Respond using markdown.\"},\n",
    "                {\"role\": \"user\", \"content\": user_content},\n",
    "            ],\n",
    "        )\n",
    "        return response[\"choices\"][0][\"message\"][\"content\"]"
   ]
  },
  {
   "cell_type": "code",
   "execution_count": 5,
   "metadata": {},
   "outputs": [],
   "source": [
    "mes = 'what is your name?'\n",
    "chat = ChatBot()\n",
    "a = chat.answer(mes)\n"
   ]
  },
  {
   "cell_type": "code",
   "execution_count": 6,
   "metadata": {},
   "outputs": [
    {
     "data": {
      "text/plain": [
       "str"
      ]
     },
     "execution_count": 6,
     "metadata": {},
     "output_type": "execute_result"
    }
   ],
   "source": [
    "type(a)"
   ]
  },
  {
   "cell_type": "code",
   "execution_count": 1,
   "metadata": {},
   "outputs": [],
   "source": [
    "from chatbot import ChatBot \n",
    "\n",
    "# Instantiate the chatbot and layout\n",
    "chatbot = ChatBot()"
   ]
  },
  {
   "cell_type": "code",
   "execution_count": 4,
   "metadata": {},
   "outputs": [],
   "source": [
    "def parse_sources(sources):\n",
    "    parsed_sources = []\n",
    "    for source in sources:\n",
    "        metadata = source['metadata']\n",
    "        source_name = metadata.get('source', 'Unknown Source')\n",
    "        page_number = metadata.get('page', 'Unknown Page')\n",
    "        parsed_sources.append(f\"Source: {source_name}, Page: {page_number}\")\n",
    "    return parsed_sources\n"
   ]
  },
  {
   "cell_type": "code",
   "execution_count": 11,
   "metadata": {},
   "outputs": [],
   "source": [
    "def parse_page_content(page_content):\n",
    "    lines = page_content.split('\\n')\n",
    "    parsed_content = \"\\n\".join(line for line in lines if line.strip())  # remove empty lines\n",
    "    return parsed_content\n"
   ]
  },
  {
   "cell_type": "code",
   "execution_count": 12,
   "metadata": {},
   "outputs": [],
   "source": [
    "chat = chatbot.chat_bot_response('what is the law on gardeing?', [])"
   ]
  },
  {
   "cell_type": "code",
   "execution_count": 13,
   "metadata": {},
   "outputs": [],
   "source": [
    "pc = chat['source_documents'][0].page_content"
   ]
  },
  {
   "cell_type": "code",
   "execution_count": 14,
   "metadata": {},
   "outputs": [
    {
     "data": {
      "text/plain": [
       "'scheme and the permit has not expired.\\n–Has started lawfully.\\nThe subdivision does not create a vacant lot.\\n32.09-4\\n15/05/2018\\nVC143Construction or extension of a dwelling or residential building\\nMinimum garden area requirement\\nAnapplicationtoconstructorextendadwellingorresidentialbuildingonalotmustprovidea\\nminimumgardenareaassetoutinthefollowingtable:\\nMinimum percentage of a lot set aside as garden area Lot size\\n25% 400 - 500 sqm\\n30% Above 500 - 650 sqm\\n35% Above 650 sqm\\nThisdoesnotapplyto:\\nAnapplicationtoconstructorextendadwellingorresidentialbuildingonalotif:\\n–Thelotisdesignatedasamediumdensityhousingsiteinanapprovedprecinctstructure\\nplanoranapprovedequivalentstrategicplan;\\n–Thelotisdesignatedasamediumdensityhousingsiteinanincorporatedplanorapproved\\ndevelopmentplan;or\\nAnapplicationtoalterorextendanexistingbuildingthatdidnotcomplywiththeminimum\\ngardenarearequirementofClause32.09-4ontheapprovaldateofAmendmentVC110.\\n32.09-5\\n31/07/2018'"
      ]
     },
     "execution_count": 14,
     "metadata": {},
     "output_type": "execute_result"
    }
   ],
   "source": [
    "parse_page_content(pc)"
   ]
  },
  {
   "cell_type": "code",
   "execution_count": null,
   "metadata": {},
   "outputs": [],
   "source": []
  }
 ],
 "metadata": {
  "kernelspec": {
   "display_name": "Python 3",
   "language": "python",
   "name": "python3"
  },
  "language_info": {
   "codemirror_mode": {
    "name": "ipython",
    "version": 3
   },
   "file_extension": ".py",
   "mimetype": "text/x-python",
   "name": "python",
   "nbconvert_exporter": "python",
   "pygments_lexer": "ipython3",
   "version": "3.11.0"
  },
  "orig_nbformat": 4
 },
 "nbformat": 4,
 "nbformat_minor": 2
}
