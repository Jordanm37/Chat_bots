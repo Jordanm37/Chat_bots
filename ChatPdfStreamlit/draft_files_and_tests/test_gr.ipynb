{
 "cells": [
  {
   "cell_type": "code",
   "execution_count": 13,
   "metadata": {},
   "outputs": [],
   "source": [
    "import gradio as gr\n",
    "# from pdf_chat_bot import chat_bot_response\n",
    "import time\n",
    "import openai\n",
    "\n",
    "def chat_bot_response(user_content):\n",
    "    response = openai.ChatCompletion.create(\n",
    "        model=\"gpt-4\",\n",
    "        messages=[\n",
    "            {\"role\": \"system\", \"content\": \"You are an expert Greek translator and transcription agent. Your role is to carefully examine the given text in Greek, identify semantic errors resulting from transcription, and then correct these errors. Use your knowledge of Greek language and syntax to ensure the accuracy and coherence of the transcriptions. Your task is crucial for the quality and usefulness of the transcriptions. You will be given Greek text that has been transcribed but may contain errors. Your job is to fix these errors to the best of your ability. You always responsd with the corrects accents. Respond using markdown.\"},\n",
    "            {\"role\": \"user\", \"content\": user_content},\n",
    "        ],\n",
    "    )\n",
    "    return response[\"choices\"][0][\"message\"][\"content\"]\n",
    "\n",
    "\n",
    "\n",
    "def main():\n",
    "\n",
    "    with gr.Blocks() as demo:\n",
    "        chatbot = gr.Chatbot([], elem_id=\"chatbot\").style(height=250)\n",
    "        msg = gr.Textbox()\n",
    "        clear = gr.Button(\"Clear\")\n",
    "\n",
    "        def respond(message, chat_history):\n",
    "            # process the message and chat history in the shortened chat_bot_response function\n",
    "            # if the shortned chat bot response is not empty, return the shortned chat bot response\n",
    "            # else return the original chat bot response\n",
    "            # pass the message and chat history to chat_bot_response\n",
    "            # appened the repsonse to the chat history\n",
    "            # appened the repsonse to teh shortened chat history\n",
    "            bot_message = chat_bot_response(message)  # Use your chatbot_completition function here\n",
    "            chat_history.append((message, bot_message))\n",
    "            return \"\", chat_history\n",
    "\n",
    "        msg.submit(respond, [msg, chatbot], [msg, chatbot])\n",
    "        clear.click(lambda: None, None, chatbot, queue=False)\n",
    "        \n",
    "        demo.launch()\n",
    "\n"
   ]
  },
  {
   "cell_type": "code",
   "execution_count": 14,
   "metadata": {},
   "outputs": [
    {
     "name": "stdout",
     "output_type": "stream",
     "text": [
      "Running on local URL:  http://127.0.0.1:7864\n",
      "\n",
      "To create a public link, set `share=True` in `launch()`.\n"
     ]
    },
    {
     "data": {
      "text/html": [
       "<div><iframe src=\"http://127.0.0.1:7864/\" width=\"100%\" height=\"500\" allow=\"autoplay; camera; microphone; clipboard-read; clipboard-write;\" frameborder=\"0\" allowfullscreen></iframe></div>"
      ],
      "text/plain": [
       "<IPython.core.display.HTML object>"
      ]
     },
     "metadata": {},
     "output_type": "display_data"
    }
   ],
   "source": [
    "if __name__ == '__main__':\n",
    "    main()\n",
    "    "
   ]
  },
  {
   "cell_type": "code",
   "execution_count": null,
   "metadata": {},
   "outputs": [],
   "source": []
  }
 ],
 "metadata": {
  "kernelspec": {
   "display_name": "Python 3",
   "language": "python",
   "name": "python3"
  },
  "language_info": {
   "codemirror_mode": {
    "name": "ipython",
    "version": 3
   },
   "file_extension": ".py",
   "mimetype": "text/x-python",
   "name": "python",
   "nbconvert_exporter": "python",
   "pygments_lexer": "ipython3",
   "version": "3.11.0"
  },
  "orig_nbformat": 4
 },
 "nbformat": 4,
 "nbformat_minor": 2
}
