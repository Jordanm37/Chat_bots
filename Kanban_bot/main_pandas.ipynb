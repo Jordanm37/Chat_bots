{
 "cells": [
  {
   "cell_type": "code",
   "execution_count": 4,
   "metadata": {},
   "outputs": [],
   "source": [
    "import pandas as pd\n",
    "from datetime import datetime\n",
    "\n",
    "def read_csv_file(file_path):\n",
    "    tasks_df = pd.read_csv(file_path)\n",
    "    tasks_df['due_date'] = pd.to_datetime(tasks_df['due_date'], dayfirst=True)  # Convert due_date to datetime objects\n",
    "    return tasks_df\n"
   ]
  },
  {
   "cell_type": "code",
   "execution_count": 14,
   "metadata": {},
   "outputs": [],
   "source": [
    "def separate_completed_tasks(tasks_df):\n",
    "    completed_tasks = tasks_df[tasks_df['status'] == 'Done']\n",
    "    remaining_tasks = tasks_df[tasks_df['status'] != 'Done']\n",
    "    return completed_tasks, remaining_tasks\n",
    "\n",
    "def save_completed_tasks(completed_tasks, file_path):\n",
    "    try:\n",
    "        existing_tasks = pd.read_csv(file_path)\n",
    "        completed_tasks = pd.concat([existing_tasks, completed_tasks])\n",
    "    except FileNotFoundError:\n",
    "        pass  # If the file doesn't exist, we just write the completed_tasks to a new file\n",
    "    completed_tasks.to_csv(file_path, index=False)\n",
    "\n",
    "def prioritize_tasks(remaining_tasks):\n",
    "    # priority_scores = {'low': 1, 'medium': 2, 'high': 3}\n",
    "    remaining_tasks['priority_score'] = remaining_tasks['priority']\n",
    " \n",
    "    # For 'due_date_score', the sooner the due date, the higher the score\n",
    "    latest_due_date = remaining_tasks['due_date'].max()\n",
    "    remaining_tasks['due_date_score'] = (latest_due_date - remaining_tasks['due_date']).dt.days\n",
    "\n",
    "    remaining_tasks['total_score'] = remaining_tasks['priority_score'] + remaining_tasks['due_date_score']\n",
    "    prioritized_tasks = remaining_tasks.sort_values('total_score', ascending=False)\n",
    "    \n",
    "    # Combine the 'title' and 'description' columns\n",
    "    prioritized_tasks['title'] = prioritized_tasks.apply(lambda row: f\"{row['title']} - {row['description']}\", axis=1)\n",
    "\n",
    "    prioritized_tasks['due_date'] = prioritized_tasks['due_date'].dt.strftime('%d-%m-%y')\n",
    "\n",
    "    # Remove the 'description' column\n",
    "    prioritized_tasks = prioritized_tasks.drop(columns=['description'])\n",
    "    print(prioritized_tasks)\n",
    "    # Remove the score columns before returning the sorted dataframe\n",
    "    prioritized_tasks = prioritized_tasks.drop(columns=['priority_score', 'due_date_score', 'total_score'])\n",
    "\n",
    "    return prioritized_tasks\n",
    "\n",
    "\n",
    "def save_prioritized_tasks(prioritized_tasks, file_path):\n",
    "    prioritized_tasks.to_csv(file_path, index=False)\n"
   ]
  },
  {
   "cell_type": "code",
   "execution_count": 15,
   "metadata": {},
   "outputs": [],
   "source": [
    "def main(input_file_path, completed_file_path, output_file_path):\n",
    "    tasks_df = read_csv_file(input_file_path)\n",
    "    completed_tasks, remaining_tasks = separate_completed_tasks(tasks_df)\n",
    "    save_completed_tasks(completed_tasks, completed_file_path)\n",
    "    prioritized_tasks = prioritize_tasks(remaining_tasks)\n",
    "    save_prioritized_tasks(prioritized_tasks, output_file_path)\n"
   ]
  },
  {
   "cell_type": "code",
   "execution_count": 17,
   "metadata": {},
   "outputs": [
    {
     "name": "stdout",
     "output_type": "stream",
     "text": [
      "                                              title      status  due_date  \\\n",
      "1                              Admin - Chris letter  incomplete  21-05-23   \n",
      "4                           MT App - write up notes  incomplete  21-05-23   \n",
      "5                           MT App - redo flow char  incomplete  21-05-23   \n",
      "0                      Admin - Juan/Dan/Abhay/Reiss  incomplete  22-05-23   \n",
      "6                  MT App - code modules:WA/QA/QUES  incomplete  22-05-23   \n",
      "2                    D class - oganise lesson plan   incomplete  22-05-23   \n",
      "22                          Danny - Beanstalk notes  incomplete  23-05-23   \n",
      "7                             Project - Youtube app  incomplete  22-05-23   \n",
      "14                       Greek App - write up notes  incomplete  22-05-23   \n",
      "12                   Matthieu - Case study refactor  incomplete  24-05-23   \n",
      "3                   D class - Send pano dance lists  incomplete  22-05-23   \n",
      "13                            Greek App - send repo  incomplete  22-05-23   \n",
      "8                        Project - George Legal app  incomplete  25-05-23   \n",
      "10                                   Gregor - notes  incomplete  26-05-23   \n",
      "11                                 Gregor - reading  incomplete  26-05-23   \n",
      "9                                    Gregor - HQ qs  incomplete  26-05-23   \n",
      "16                             Project - MaxMara DB  incomplete  26-05-23   \n",
      "17                         Admin - Buy semax/selank  incomplete  26-05-23   \n",
      "18                            Admin - Buy dhea/deer  incomplete  26-05-23   \n",
      "19                       Admin - Buy phenyl/nvm/nmr  incomplete  26-05-23   \n",
      "20  Admin - write new study plan and resource sheet  incomplete  28-05-23   \n",
      "21                       Admin - Write new schedule  incomplete  28-05-23   \n",
      "23                   Admin - Upload thesis and code  incomplete  28-05-23   \n",
      "15               Greek App - v1 app: tranlsation/kb  incomplete  02-06-23   \n",
      "\n",
      "    priority  priority_score  due_date_score  total_score  \n",
      "1          4               4              12           16  \n",
      "4          4               4              12           16  \n",
      "5          4               4              12           16  \n",
      "0          4               4              11           15  \n",
      "6          4               4              11           15  \n",
      "2          3               3              11           14  \n",
      "22         4               4              10           14  \n",
      "7          3               3              11           14  \n",
      "14         2               2              11           13  \n",
      "12         4               4               9           13  \n",
      "3          2               2              11           13  \n",
      "13         1               1              11           12  \n",
      "8          2               2               8           10  \n",
      "10         2               2               7            9  \n",
      "11         2               2               7            9  \n",
      "9          2               2               7            9  \n",
      "16         2               2               7            9  \n",
      "17         1               1               7            8  \n",
      "18         1               1               7            8  \n",
      "19         1               1               7            8  \n",
      "20         3               3               5            8  \n",
      "21         3               3               5            8  \n",
      "23         1               1               5            6  \n",
      "15         3               3               0            3  \n"
     ]
    }
   ],
   "source": [
    "main(\"task_list.csv\", \"completed_tasks.csv\", \"prioritized_tasks.csv\")"
   ]
  },
  {
   "cell_type": "code",
   "execution_count": 17,
   "metadata": {},
   "outputs": [],
   "source": [
    "\n",
    "read_csv_file(\"task_list.csv\")"
   ]
  },
  {
   "cell_type": "code",
   "execution_count": null,
   "metadata": {},
   "outputs": [],
   "source": []
  }
 ],
 "metadata": {
  "kernelspec": {
   "display_name": "Python 3",
   "language": "python",
   "name": "python3"
  },
  "language_info": {
   "codemirror_mode": {
    "name": "ipython",
    "version": 3
   },
   "file_extension": ".py",
   "mimetype": "text/x-python",
   "name": "python",
   "nbconvert_exporter": "python",
   "pygments_lexer": "ipython3",
   "version": "3.11.0"
  },
  "orig_nbformat": 4
 },
 "nbformat": 4,
 "nbformat_minor": 2
}
