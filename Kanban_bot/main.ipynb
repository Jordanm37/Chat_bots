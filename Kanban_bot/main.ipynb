{
 "cells": [
  {
   "cell_type": "code",
   "execution_count": 2,
   "metadata": {},
   "outputs": [],
   "source": [
    "import openai\n",
    "import csv\n",
    "from typing import List\n",
    "\n"
   ]
  },
  {
   "cell_type": "code",
   "execution_count": null,
   "metadata": {},
   "outputs": [],
   "source": [
    "class KanbanBoard:\n",
    "    def __init__(self, csv_filepath: str):\n",
    "        self.tasks: List[Task] = []\n",
    "        with open(csv_filepath, newline='') as file:\n",
    "            reader = csv.reader(file)\n",
    "            next(reader)  # skip header\n",
    "            for row in reader:\n",
    "                task = Task(*row)\n",
    "                self.tasks.append(task)\n",
    "\n",
    "    def save_to_csv(self, csv_filepath: str):\n",
    "        with open(csv_filepath, 'w', newline='') as file:\n",
    "            writer = csv.writer(file)\n",
    "            writer.writerow([\"title\", \"description\", \"status\", \"due_date\", \"priority\"])  # header\n",
    "            for task in self.tasks:\n",
    "                writer.writerow([task.title, task.description, task.status, task.due_date, task.priority])\n",
    "\n",
    "class Task:\n",
    "    def __init__(self, title: str, description: str, status: str, due_date: str, priority: str):\n",
    "        self.title = title\n",
    "        self.description = description\n",
    "        self.status = status\n",
    "        self.due_date = due_date\n",
    "        self.priority = priority\n",
    "        \n",
    "class ChatGPTAgent:\n",
    "    def __init__(self, api_key: str, csv_filepath: str):\n",
    "        self.kanban_board = KanbanBoard(csv_filepath)\n",
    "        self.gpt = openai.GPT(\"gpt-4\", api_key=api_key)\n",
    "\n",
    "    def interact(self, user_input: str):\n",
    "        # Create a conversation history string including the task list and user input\n",
    "        conversation_history = self.format_tasks() + f\"\\nUser: {user_input}\"\n",
    "        \n",
    "        # Pass the conversation history to the model and get the response\n",
    "        response = self.gpt.generate(conversation_history)  # replace this with actual API call\n",
    "        \n",
    "        # Parse the response to get the updated task list\n",
    "        updated_tasks = self.parse_response(response)\n",
    "        \n",
    "        # Update the client-side task list\n",
    "        self.kanban_board.tasks = updated_tasks\n",
    "        \n",
    "        # Save the updated task list to a CSV file\n",
    "        self.kanban_board.save_to_csv('updated_tasks.csv')\n",
    "\n",
    "    def format_tasks(self):\n",
    "        # Convert the task list to a string in a format that the model can understand\n",
    "        pass\n",
    "\n",
    "    def parse_response(self, response: str):\n",
    "        # Parse the model's response to get the updated task list\n",
    "        pass\n"
   ]
  },
  {
   "cell_type": "code",
   "execution_count": null,
   "metadata": {},
   "outputs": [],
   "source": [
    "def get_gpt_response(user_content: str):    \n",
    "    response = openai.ChatCompletion.create(\n",
    "        model=\"gpt-3.5-turbo\",\n",
    "        messages=[\n",
    "            {\"role\": \"system\", \"content\": \"You are a helpful assistant.Follow the user's instructions carefully. Respond using markdown.\"},\n",
    "            {\"role\": \"user\", \"content\": user_content},\n",
    "        ],\n",
    "    )\n",
    "    return response[\"choices\"][0][\"message\"][\"content\"]"
   ]
  },
  {
   "cell_type": "code",
   "execution_count": null,
   "metadata": {},
   "outputs": [],
   "source": [
    "\n",
    "\n"
   ]
  }
 ],
 "metadata": {
  "kernelspec": {
   "display_name": "Python 3",
   "language": "python",
   "name": "python3"
  },
  "language_info": {
   "codemirror_mode": {
    "name": "ipython",
    "version": 3
   },
   "file_extension": ".py",
   "mimetype": "text/x-python",
   "name": "python",
   "nbconvert_exporter": "python",
   "pygments_lexer": "ipython3",
   "version": "3.11.0"
  },
  "orig_nbformat": 4
 },
 "nbformat": 4,
 "nbformat_minor": 2
}
