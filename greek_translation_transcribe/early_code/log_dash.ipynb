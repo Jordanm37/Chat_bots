{
 "cells": [
  {
   "cell_type": "code",
   "execution_count": 3,
   "metadata": {},
   "outputs": [
    {
     "data": {
      "text/html": [
       "\n",
       "        <iframe\n",
       "            width=\"100%\"\n",
       "            height=\"650\"\n",
       "            src=\"http://127.0.0.1:8050/\"\n",
       "            frameborder=\"0\"\n",
       "            allowfullscreen\n",
       "            \n",
       "        ></iframe>\n",
       "        "
      ],
      "text/plain": [
       "<IPython.lib.display.IFrame at 0x1896c608e90>"
      ]
     },
     "metadata": {},
     "output_type": "display_data"
    }
   ],
   "source": [
    "import pandas as pd\n",
    "import re\n",
    "import dash\n",
    "from dash import dash_table, dcc, html\n",
    "from dash.dependencies import Input, Output\n",
    "\n",
    "# Read the log file\n",
    "with open(\"example2.log\", \"r\") as file:\n",
    "    log_lines = file.readlines()\n",
    "\n",
    "# Prepare lists to store the extracted information\n",
    "actions = []\n",
    "prompt_tokens = []\n",
    "completion_tokens = []\n",
    "costs = []\n",
    "\n",
    "# Parse the log file\n",
    "for line in log_lines:\n",
    "    if \"INFO:__main__:\" in line:\n",
    "        action = line.split(\":\")[2]\n",
    "        actions.append(action)\n",
    "\n",
    "    if \"tokens\" in line:\n",
    "        prompt_token = int(re.search(r'Prompt tokens: (\\d+)', line).group(1))\n",
    "        completion_token = int(re.search(r'Completion tokens: (\\d+)', line).group(1))\n",
    "        cost = float(re.search(r'Cost: (\\d+.\\d+)', line).group(1))\n",
    "        \n",
    "        prompt_tokens.append(prompt_token)\n",
    "        completion_tokens.append(completion_token)\n",
    "        costs.append(cost)\n",
    "\n",
    "# Make sure all lists are of same length\n",
    "min_len = min(len(actions), len(prompt_tokens), len(completion_tokens), len(costs))\n",
    "\n",
    "actions = actions[:min_len]\n",
    "prompt_tokens = prompt_tokens[:min_len]\n",
    "completion_tokens = completion_tokens[:min_len]\n",
    "costs = costs[:min_len]\n",
    "\n",
    "# Create a DataFrame\n",
    "df = pd.DataFrame({\"Action\": actions, \"Prompt Tokens\": prompt_tokens, \n",
    "                   \"Completion Tokens\": completion_tokens, \"Cost\": costs})\n",
    "\n",
    "# Create a Dash app\n",
    "app = dash.Dash(__name__)\n",
    "\n",
    "# Define the app layout\n",
    "app.layout = html.Div([\n",
    "    dash_table.DataTable(\n",
    "        id='table',\n",
    "        columns=[{\"name\": i, \"id\": i} for i in df.columns],\n",
    "        data=df.to_dict('records'),\n",
    "    )\n",
    "])\n",
    "\n",
    "# Run the app\n",
    "if __name__ == '__main__':\n",
    "    app.run_server(debug=True)\n"
   ]
  },
  {
   "cell_type": "code",
   "execution_count": 5,
   "metadata": {},
   "outputs": [
    {
     "data": {
      "text/html": [
       "\n",
       "        <iframe\n",
       "            width=\"100%\"\n",
       "            height=\"650\"\n",
       "            src=\"http://127.0.0.1:8050/\"\n",
       "            frameborder=\"0\"\n",
       "            allowfullscreen\n",
       "            \n",
       "        ></iframe>\n",
       "        "
      ],
      "text/plain": [
       "<IPython.lib.display.IFrame at 0x1896829de90>"
      ]
     },
     "metadata": {},
     "output_type": "display_data"
    }
   ],
   "source": [
    "import pandas as pd\n",
    "import re\n",
    "import dash\n",
    "from dash import dash_table, dcc, html\n",
    "\n",
    "# Read the log file\n",
    "with open(\"example2.log\", \"r\") as file:\n",
    "    log_lines = file.readlines()\n",
    "\n",
    "# Prepare lists to store the extracted information\n",
    "actions = []\n",
    "prompt_tokens = []\n",
    "completion_tokens = []\n",
    "costs = []\n",
    "\n",
    "# Parse the log file\n",
    "for line in log_lines:\n",
    "    if \"INFO:__main__:\" in line:\n",
    "        action = line.split(\":\")[2].strip()\n",
    "        actions.append(action)\n",
    "\n",
    "    if \"tokens\" in line:\n",
    "        prompt_token = int(re.search(r'Prompt tokens: (\\d+)', line).group(1))\n",
    "        completion_token = int(re.search(r'Completion tokens: (\\d+)', line).group(1))\n",
    "        cost = float(re.search(r'Cost: (\\d+.\\d+)', line).group(1))\n",
    "\n",
    "        prompt_tokens.append(prompt_token)\n",
    "        completion_tokens.append(completion_token)\n",
    "        costs.append(cost)\n",
    "\n",
    "# Make sure all lists are of same length\n",
    "min_len = min(len(actions), len(prompt_tokens), len(completion_tokens), len(costs))\n",
    "\n",
    "actions = actions[:min_len]\n",
    "prompt_tokens = prompt_tokens[:min_len]\n",
    "completion_tokens = completion_tokens[:min_len]\n",
    "costs = costs[:min_len]\n",
    "\n",
    "# Create a DataFrame\n",
    "df = pd.DataFrame({\"Action\": actions, \"Prompt Tokens\": prompt_tokens, \n",
    "                   \"Completion Tokens\": completion_tokens, \"Cost\": costs})\n",
    "\n",
    "# Group by 'Action', sum 'Cost', 'Prompt Tokens', and 'Completion Tokens'\n",
    "df_grouped = df.groupby('Action').sum().reset_index()\n",
    "\n",
    "# Create a Dash app\n",
    "app = dash.Dash(__name__)\n",
    "\n",
    "# Define the app layout\n",
    "app.layout = html.Div([\n",
    "    dash_table.DataTable(\n",
    "        id='table',\n",
    "        columns=[{\"name\": i, \"id\": i} for i in df_grouped.columns],\n",
    "        data=df_grouped.to_dict('records'),\n",
    "    )\n",
    "])\n",
    "\n",
    "# Run the app\n",
    "if __name__ == '__main__':\n",
    "    app.run_server(debug=True)\n"
   ]
  },
  {
   "cell_type": "code",
   "execution_count": null,
   "metadata": {},
   "outputs": [],
   "source": []
  }
 ],
 "metadata": {
  "kernelspec": {
   "display_name": "Python 3",
   "language": "python",
   "name": "python3"
  },
  "language_info": {
   "codemirror_mode": {
    "name": "ipython",
    "version": 3
   },
   "file_extension": ".py",
   "mimetype": "text/x-python",
   "name": "python",
   "nbconvert_exporter": "python",
   "pygments_lexer": "ipython3",
   "version": "3.11.0"
  },
  "orig_nbformat": 4
 },
 "nbformat": 4,
 "nbformat_minor": 2
}
