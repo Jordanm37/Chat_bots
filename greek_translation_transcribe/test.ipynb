{
 "cells": [
  {
   "cell_type": "code",
   "execution_count": 3,
   "metadata": {},
   "outputs": [],
   "source": [
    "import gradio as gr\n",
    "import whisper\n",
    "import os\n",
    "from dotenv import load_dotenv\n",
    "import openai\n",
    "\n",
    "load_dotenv(\".env\")\n",
    "openai.api_key = os.environ.get(\"OPENAI_API_KEY\")\n",
    "\n",
    "def transcribe_audio(audio_file):\n",
    "    model = whisper.load_model(\"small\")\n",
    "    result = model.transcribe(audio_file)\n",
    "    return result[\"text\"]\n",
    "\n",
    "def chatbot_completition(user_content):\n",
    "    response = openai.ChatCompletion.create(\n",
    "        model=\"gpt-4\",\n",
    "        messages=[\n",
    "            {\"role\": \"system\", \"content\": \"You are an expert Greek translator and transcription agent. Your role is to carefully examine the given text in Greek, identify semantic errors resulting from transcription, and then correct these errors. Use your knowledge of Greek language and syntax to ensure the accuracy and coherence of the transcriptions. Your task is crucial for the quality and usefulness of the transcriptions. You will be given Greek text that has been transcribed but may contain errors. Your job is to fix these errors to the best of your ability. Respond using markdown.\"},\n",
    "            {\"role\": \"user\", \"content\": user_content},\n",
    "        ],\n",
    "    )\n",
    "    return response[\"choices\"][0][\"message\"][\"content\"]\n",
    "\n",
    "def chatbot_completition_2(user_content):\n",
    "    response = openai.ChatCompletion.create(\n",
    "        model=\"gpt-4\",\n",
    "        messages=[\n",
    "            {\"role\": \"system\", \"content\": \"You are an expert Greek translator. Your role is to carefully examine the given text, which may be in different languages, and translate it accurately into Greek. Your translation work should account for not only literal translation but also cultural and contextual nuances. You'll be given text that has been translated into Greek, but it may contain errors due to literal or out-of-context translations. Your task is to correct these errors, ensuring the translated text preserves the original message while being grammatically correct and contextually appropriate in Greek.  Respond using markdown.\"},\n",
    "            {\"role\": \"user\", \"content\": user_content},\n",
    "        ],\n",
    "    )\n",
    "    return response[\"choices\"][0][\"message\"][\"content\"]\n",
    "\n",
    "def handle_audio_inputs(audio_upload, audio_microphone):\n",
    "    if audio_upload is not None:\n",
    "        return audio_upload\n",
    "    else:\n",
    "        return audio_microphone\n"
   ]
  },
  {
   "cell_type": "code",
   "execution_count": 4,
   "metadata": {},
   "outputs": [
    {
     "name": "stderr",
     "output_type": "stream",
     "text": [
      "c:\\Python311\\Lib\\site-packages\\gradio\\inputs.py:319: UserWarning: Usage of gradio.inputs is deprecated, and will not be supported in the future, please import your components from gradio.components\n",
      "  warnings.warn(\n",
      "c:\\Python311\\Lib\\site-packages\\gradio\\deprecation.py:40: UserWarning: `optional` parameter is deprecated, and it has no effect\n",
      "  warnings.warn(value)\n",
      "c:\\Python311\\Lib\\site-packages\\gradio\\outputs.py:22: UserWarning: Usage of gradio.outputs is deprecated, and will not be supported in the future, please import your components from gradio.components\n",
      "  warnings.warn(\n",
      "c:\\Python311\\Lib\\site-packages\\gradio\\blocks.py:255: UserWarning: api_name predict already exists, using predict_1\n",
      "  warnings.warn(f\"api_name {api_name} already exists, using {api_name_}\")\n"
     ]
    },
    {
     "name": "stdout",
     "output_type": "stream",
     "text": [
      "Running on local URL:  http://127.0.0.1:7862\n",
      "Running on public URL: https://243ad3db81b4c62de9.gradio.live\n",
      "\n",
      "This share link expires in 72 hours. For free permanent hosting and GPU upgrades (NEW!), check out Spaces: https://huggingface.co/spaces\n"
     ]
    },
    {
     "data": {
      "text/html": [
       "<div><iframe src=\"https://243ad3db81b4c62de9.gradio.live\" width=\"100%\" height=\"500\" allow=\"autoplay; camera; microphone; clipboard-read; clipboard-write;\" frameborder=\"0\" allowfullscreen></iframe></div>"
      ],
      "text/plain": [
       "<IPython.core.display.HTML object>"
      ]
     },
     "metadata": {},
     "output_type": "display_data"
    }
   ],
   "source": [
    "def main():\n",
    "    audio_input = gr.inputs.Audio(source=\"upload\", type=\"filepath\")\n",
    "    audio_input_microphone = gr.inputs.Audio(source=\"microphone\", type=\"filepath\")\n",
    "\n",
    "    output_text = gr.outputs.Textbox()\n",
    "\n",
    "    transcription_interface = gr.Interface(\n",
    "        fn=lambda audio_upload, audio_microphone: transcribe_audio(handle_audio_inputs(audio_upload, audio_microphone)),\n",
    "        inputs=[audio_input, audio_input_microphone],\n",
    "        outputs=output_text,\n",
    "        title=\"Audio Transcription\",\n",
    "        description=\"Upload an audio file or record audio using the microphone, and hit the 'Submit' button.\",\n",
    "        live=True\n",
    "    )\n",
    "\n",
    "    with gr.Blocks() as chatbot_demo:\n",
    "        chatbot = gr.Chatbot([], elem_id=\"chatbot\").style(height=250)\n",
    "        msg = gr.Textbox()\n",
    "        clear = gr.Button(\"Clear\")\n",
    "\n",
    "        def respond(message, chat_history):\n",
    "            bot_message = chatbot_completition(message)  # Use your chatbot_completition function here\n",
    "            chat_history.append((message, bot_message))\n",
    "            return \"\", chat_history\n",
    "\n",
    "        msg.submit(respond, [msg, chatbot], [msg, chatbot])\n",
    "        clear.click(lambda: None, None, chatbot, queue=False)\n",
    "\n",
    "    with gr.Blocks() as chatbot_demo2:\n",
    "        chatbot2 = gr.Chatbot([], elem_id=\"chatbot2\").style(height=250)\n",
    "        msg2 = gr.Textbox()\n",
    "        clear2 = gr.Button(\"Clear\")\n",
    "\n",
    "        def respond2(message, chat_history):\n",
    "            bot_message2 = chatbot_completition_2(message)  # Use your chatbot_completition function here\n",
    "            chat_history.append((message, bot_message2))\n",
    "            return \"\", chat_history\n",
    "\n",
    "        msg2.submit(respond2, [msg2, chatbot2], [msg2, chatbot2])\n",
    "        clear2.click(lambda: None, None, chatbot2, queue=False)\n",
    "\n",
    "    tabbed_interface = gr.TabbedInterface([transcription_interface, chatbot_demo, chatbot_demo2], [\"Transcription\", \"Chatbot transcription\", \"Chatbot translate\"])\n",
    "\n",
    "    tabbed_interface.launch(share=True)\n",
    "\n",
    "if __name__ == '__main__':\n",
    "    main()"
   ]
  },
  {
   "cell_type": "code",
   "execution_count": null,
   "metadata": {},
   "outputs": [],
   "source": []
  }
 ],
 "metadata": {
  "kernelspec": {
   "display_name": "Python 3",
   "language": "python",
   "name": "python3"
  },
  "language_info": {
   "codemirror_mode": {
    "name": "ipython",
    "version": 3
   },
   "file_extension": ".py",
   "mimetype": "text/x-python",
   "name": "python",
   "nbconvert_exporter": "python",
   "pygments_lexer": "ipython3",
   "version": "3.11.0"
  },
  "orig_nbformat": 4
 },
 "nbformat": 4,
 "nbformat_minor": 2
}
