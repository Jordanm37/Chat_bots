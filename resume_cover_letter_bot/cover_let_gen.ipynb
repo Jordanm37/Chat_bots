{
 "cells": [
  {
   "cell_type": "code",
   "execution_count": 1,
   "metadata": {},
   "outputs": [],
   "source": [
    "from langchain.document_loaders import SeleniumURLLoader\n",
    "import os\n",
    "from dotenv import load_dotenv\n",
    "import openai\n",
    "import logging\n",
    "from langchain.document_loaders import Docx2txtLoader\n",
    "\n",
    "\n",
    "load_dotenv(\".env\")\n",
    "openai.api_key = os.environ.get(\"OPENAI_API_KEY\")\n",
    "# Create a logger\n",
    "logging.basicConfig(filename='example.log',level=logging.INFO)\n",
    "logger = logging.getLogger(__name__)"
   ]
  },
  {
   "cell_type": "code",
   "execution_count": null,
   "metadata": {},
   "outputs": [],
   "source": [
    "# Flow\n",
    "# Extract key words from job description\n",
    "# Remove irrelevant key ords that are not relatable to resume\n",
    "# return key words and coresponding resume experience\n",
    "# combine and write into cover letter, extract position title\n",
    "\n",
    "# input job description link\n",
    "# resume upload\n",
    "# extra instructions"
   ]
  },
  {
   "cell_type": "code",
   "execution_count": 2,
   "metadata": {},
   "outputs": [],
   "source": [
    "def chatbot_completition(system_message, user_message, temp=None):\n",
    "    if temp is not None:\n",
    "        response = openai.ChatCompletion.create(\n",
    "            model = 'gpt-4',\n",
    "            messages=[\n",
    "                {\"role\": \"system\", \"content\": system_message},\n",
    "                {\"role\": \"user\", \"content\": user_message},\n",
    "            ],\n",
    "            temperature = temp,\n",
    "        )\n",
    "    else:\n",
    "        response = openai.ChatCompletion.create(\n",
    "            model = 'gpt-4',\n",
    "            messages=[\n",
    "                {\"role\": \"system\", \"content\": system_message},\n",
    "                {\"role\": \"user\", \"content\": user_message},\n",
    "            ],\n",
    "        )    \n",
    "    \n",
    "    prompt, reply = response['usage']['prompt_tokens'], response['usage']['completion_tokens']\n",
    "    cost = (0.03/1000)*prompt + (0.06/1000)*reply\n",
    "    ## calculate api costs and log it\n",
    "    logger.info(f\"Prompt tokens: {prompt}, Completion tokens: {reply}, Cost: {cost}\")\n",
    "\n",
    "    return response[\"choices\"][0][\"message\"][\"content\"]"
   ]
  },
  {
   "cell_type": "code",
   "execution_count": 3,
   "metadata": {},
   "outputs": [],
   "source": [
    "def extract_key_words_and_resp(text):\n",
    "    \"\"\"\n",
    "    Extracts key words from a text\n",
    "    \"\"\"\n",
    "    SYS = \"\"\"You are an expert career coach and hiring manager, responsible for extracting key aspects from a job posting. Your task includes identifying essential responsibilities, skills, and keywords. Do not introduce any additional information.\n",
    "\n",
    "    The following examples should be excluded from your extraction as they do not represent intangible or technical skills, competencies, or job responsibilities:\n",
    "\n",
    "    Location specific information (e.g., \"Melbourne\")\n",
    "    Citizenship requirements (e.g., \"Australian Citizen/Permanent Resident\")\n",
    "    Job perks and incentives (e.g., \"Uncapped commission\", \"Weekly bonuses and commissions\")\n",
    "    Specific company details or affiliations (e.g., \"Potential for a part of the global company\", \"Global blue-chip client\", \"American Express\")\n",
    "    Physical mobility and travel needs (e.g., \"Having a current valid driver's license and a reliable vehicle\", \"Regional/interstate travel\")\n",
    "    Provided equipment (e.g., \"Tools of the trade (tablet and phone) provided\")\n",
    "    Specific experience in certain industry other than sales or account management  (e.g., \"3+ years sales experience within the international freight industry\")\n",
    "    Employment type (e.g., \"Full time maximum term contract\")\n",
    "    Personal and career development opportunities (e.g., \"Career change\", \"Entry level sales\", \"Development program\", \"Job training\", \"Mentorship\", \"Personalised coaching\", \"High achievers\", \"Future leaders\")\n",
    "    Superannuation details (e.g., \"Super\")\n",
    "    Specific initiatives or programs (e.g., \"Microcredentials initiatives\", \"Learning and Leadership Enterprise (LLE)\")\n",
    "    Instructions to review documentation (e.g., \"Review the Position Description\")\n",
    "    Application process details (e.g., \"Responses to the Selection Criteria and Core Competencies\", \"Online responses to pre-screening employment questions\", \"Application process understanding\")\n",
    "    Job application preparation (e.g., \"Resume creation\", \"Cover letter writing\")\n",
    "    Support offered to candidates (e.g., \"Support for candidates requiring adjustments\", \"Business School support\")\n",
    "    Privacy concerns (e.g., \"Privacy of personal information\")\n",
    "    \n",
    "    ie DONT NOT EXTRACT things that are not intagible skills/competencies or techincal skills or competencies.Your task is to focus on the technical and intangible skills, competencies, and job responsibilities that are described in the job posting. \n",
    "            \n",
    "    Respond using markdown\"\"\"\n",
    "    \n",
    "    USER = \"\"\"Given the following job posting, extract keywords that would be relevant to include in the experiences of a resume. Think this through step by step. Look for the relevant detail and keywords from the job posting:\n",
    "                \\n\\n\"\"\"\n",
    "    words = chatbot_completition(SYS, USER + text)\n",
    "    \n",
    "    \n",
    "    return words\n",
    "\n"
   ]
  },
  {
   "cell_type": "code",
   "execution_count": 4,
   "metadata": {},
   "outputs": [],
   "source": [
    "def filter_key_words(key_words, resume):\n",
    "    \"\"\"\n",
    "    Extracts key words from a text\n",
    "    \"\"\"\n",
    "    SYS = \"\"\"You are an expert career coach and hiring manager, responsible for tailoring a resume perfectly for a job posting. Your task is to filter the given key words from a job posting  according to the resume you are provided with. Only remove key words that cannot be tailored to the resume or that the resume experience could not be tailored ot those key words.  Do not introduce any additional information.\n",
    "            \n",
    "    Format as a single list of key words. Respond using markdown\"\"\"\n",
    "    \n",
    "    USER = f\"\"\"Given the following keywords, extract those that would be relevant to include with the experiences of the provided resume. Think this through step by step.\n",
    "    \n",
    "    Key words to filter from job posting: {key_words}\n",
    "    Resume: {resume}\n",
    "                \\n\\n\"\"\"\n",
    "    output = chatbot_completition(SYS, USER)\n",
    "    \n",
    "    \n",
    "    return output"
   ]
  },
  {
   "cell_type": "code",
   "execution_count": 5,
   "metadata": {},
   "outputs": [],
   "source": [
    "def extract_resume_exp(key_words, resume):\n",
    "    \"\"\"\n",
    "    Extracts key words from a text\n",
    "    \"\"\"\n",
    "    SYS = \"\"\"You are an expert career coach and hiring manager, responsible for tailoring a resume perfectly for a job posting. Your task is to extract the experience from the given resume you are provided with that is related to the key words and job position provided. Only extract experience that can be tailored to the key words.  Do not introduce any additional information.\n",
    "            \n",
    "    Do not reduce the detail of the extracted experience. Respond using markdown\"\"\"\n",
    "    \n",
    "    USER = f\"\"\"Given the following resume, extract the experience that would be relevant to include according to the key words provided from the job posting. Think this through step by step.\n",
    "    \n",
    "    Key words from job posting: {key_words}\n",
    "    Resume: {resume}\n",
    "                \\n\\n\"\"\"\n",
    "    output = chatbot_completition(SYS, USER)\n",
    "    \n",
    "    \n",
    "    return output"
   ]
  },
  {
   "cell_type": "code",
   "execution_count": 6,
   "metadata": {},
   "outputs": [],
   "source": [
    "def write_coverletter(job_desc,key_words, experience, personal_dets, instructions):\n",
    "    \"\"\"\n",
    "    Extracts key words from a text\n",
    "    \"\"\"\n",
    "    SYS = f\"\"\"You are an expert hiring manager and cover letter writer, responsible for tailoring a cover letter perfectly for a job posting.{instructions}  Respond using markdown\"\"\"\n",
    "    \n",
    "    USER = f\"\"\" Given the below job description, relevant key words and resume experiences from the candidate, complete the template. \n",
    "            Job description:{job_desc}\n",
    "            Key words from job posting: {key_words}\n",
    "            Relevant experiences: {experience}\n",
    "            Personal details: {personal_dets}\n",
    "\n",
    "            Template:\n",
    "            Dear [Hiring Manager's Name],\n",
    "\n",
    "            I am writing to express my interest in the [Job Title] position at [Company Name] as advertised. I am a [Your Profession] with a background in [Relevant Fields or Industries] and believe that my unique skills and experiences make me a strong candidate for this position.\n",
    "            In my current/previous role as [Your Current/Previous Job Title] at [Your Current/Previous Company], I [describe a key accomplishment or responsibility that showcases relevant skills]. For example, I [specific example of a time you used a particular skill or demonstrated a particular achievement]. I believe these experiences align with the requirements you are seeking for the [Job Title] role.\n",
    "            What interests me about [Company Name] is [specific details about the company that have drawn your interest]. Your commitment to [specific aspect of the company's work or culture] particularly resonates with my own professional values.\n",
    "            I am particularly adept at [another skill or two that is mentioned in the job posting], as demonstrated by [another specific example]. My [mention a personal quality or qualities] will allow me to [explain how you would use your personal qualities to succeed in the job].\n",
    "            Thank you for considering my application. I am excited about the possibility of contributing to [Company Name] and look forward to the opportunity to further discuss how my background, skills, and experience can benefit your team.\n",
    "            Please feel free to contact me at your earliest convenience to arrange a time to discuss how I can make a meaningful contribution to your organization.\n",
    "\n",
    "            Sincerely,\n",
    "\n",
    "            [Your Full Name]\n",
    "            \"\"\"\n",
    "\n",
    "\n",
    "    output = chatbot_completition(SYS, USER)\n",
    "    \n",
    "    \n",
    "    return output"
   ]
  },
  {
   "cell_type": "code",
   "execution_count": 8,
   "metadata": {},
   "outputs": [],
   "source": [
    "#input variables\n",
    "# job_urls = [\n",
    "    # \"https://www.seek.com.au/job/68801342?type=standard#sol=e17d1421904e325347205c9167400bdd5c7a5d27\",\n",
    "#     \"https://www.seek.com.au/job/68982589?type=standout#sol=a9f3fa61762231385bd75a9da80a43d0600ea29c\",\n",
    "#     \"https://www.seek.com.au/job/68954499?type=standard#sol=107f2b3f1e1d99f08406205d42f254516cd97019\",\n",
    "    # \"https://www.seek.com.au/job/68766133?type=standout#sol=fcae9827342ce28d57852f76458bc407d827f490\",\n",
    "#     \"https://www.seek.com.au/job/68912013?type=standout#sol=f52041b683b7c944c9878364ef8e73962c495328\",\n",
    "    # \"https://www.seek.com.au/job/68937311?type=standout#sol=19b248d348659b4a305783437236a4a6420f82ab\"\n",
    "# ]\n",
    "job_urls = 'https://www.seek.com.au/job/68922342?type=standout#sol=3947ab745533e8751f51dfd6055c802d86c49572'\n",
    "resume_file = 'Patrick_Merola_Resume.docx'\n",
    "personal_details = \"Patrick Merola\"\n",
    "# personal_details = \"Eleni Halkias\"\n",
    "# receipient = \"HR Manager\"\n",
    "extra_instructions = \" \""
   ]
  },
  {
   "cell_type": "code",
   "execution_count": 9,
   "metadata": {},
   "outputs": [],
   "source": [
    "# Flow\n",
    "# Extract key words from job description\n",
    "# Remove irrelevant key ords that are not relatable to resume\n",
    "# return key words and coresponding resume experience\n",
    "# combine and write into cover letter, extract position title\n",
    "\n",
    "# input job description link\n",
    "# resume upload\n",
    "# extra instructions\n",
    "\n",
    "# url_loader = SeleniumURLLoader(urls=job_urls)\n",
    "from langchain.document_loaders import WebBaseLoader\n",
    "url_loader = WebBaseLoader(job_urls)\n",
    "postings = url_loader.load()\n",
    "# postings = url_loader.load()\n",
    "# job_descr = [i.page_content for i in postings]\n",
    "\n",
    "job_descr = postings[0].page_content\n",
    "\n",
    "resume_loader = Docx2txtLoader(resume_file)\n",
    "resume = resume_loader.load()[0].page_content\n"
   ]
  },
  {
   "cell_type": "code",
   "execution_count": 10,
   "metadata": {},
   "outputs": [
    {
     "name": "stdout",
     "output_type": "stream",
     "text": [
      "**Job Responsibilities:**\n",
      "- Responsible for the effective and efficient day-to-day operations of a range of projects\n",
      "- Provide support for major initiatives, commercial and government tenders, national and international outreach and engagement, and partner development\n",
      "- Provide administrative support for the implementation of projects, delivery of projects and initiatives, and support the processes and frameworks required to deliver on project and organisational objectives\n",
      "- Support the development and submission of tenders and proposals\n",
      "- Provide event coordination support for various events and learning programs\n",
      "- Stakeholder engagement with a variety of internal and external stakeholders\n",
      "- Support for strategic initiatives\n",
      "\n",
      "**Skills and Competencies:**\n",
      "- Excellent communication skills\n",
      "- Excellent organization skills\n",
      "- Ability to work in a fast-paced environment\n",
      "- Ability to negotiate with a variety of stakeholders\n",
      "- Project management\n",
      "- Event coordination\n",
      "- Stakeholder engagement\n",
      "- Strategic initiative support.\n",
      "\n",
      "**Keywords:**\n",
      "- Administrative support\n",
      "- Project implementation\n",
      "- Project delivery\n",
      "- Tender development\n",
      "- Proposal submission\n",
      "- Event coordination\n",
      "- Outreach programs\n",
      "- Stakeholder engagement\n",
      "- Strategic initiatives.\n"
     ]
    }
   ],
   "source": [
    "key_words = extract_key_words_and_resp(job_descr)\n",
    "print(key_words)"
   ]
  },
  {
   "cell_type": "code",
   "execution_count": null,
   "metadata": {},
   "outputs": [],
   "source": [
    "filtered_key_words = filter_key_words(key_words,resume)\n",
    "print(filtered_key_words)"
   ]
  },
  {
   "cell_type": "code",
   "execution_count": null,
   "metadata": {},
   "outputs": [],
   "source": [
    "relevant_exp = extract_resume_exp(filtered_key_words,resume)\n",
    "print(relevant_exp)"
   ]
  },
  {
   "cell_type": "code",
   "execution_count": null,
   "metadata": {},
   "outputs": [],
   "source": [
    "cover_letter = write_coverletter(job_descr, filtered_key_words,relevant_exp, personal_details, extra_instructions)"
   ]
  },
  {
   "cell_type": "code",
   "execution_count": null,
   "metadata": {},
   "outputs": [],
   "source": [
    "with open('cover_letter.txt', 'w') as f:\n",
    "    f.write(cover_letter)\n",
    "\n"
   ]
  },
  {
   "cell_type": "code",
   "execution_count": 57,
   "metadata": {},
   "outputs": [],
   "source": [
    "from docx import Document"
   ]
  },
  {
   "cell_type": "code",
   "execution_count": 66,
   "metadata": {},
   "outputs": [],
   "source": [
    "with open('cover_letter.txt', 'r') as f:\n",
    "    cover_letter_text = f.read()"
   ]
  },
  {
   "cell_type": "code",
   "execution_count": 69,
   "metadata": {},
   "outputs": [],
   "source": [
    "doc = Document()\n",
    "\n",
    "file_path = \"output.docx\"\n",
    "# Split the cover letter text into paragraphs by new lines\n",
    "paragraphs = cover_letter_text.split('\\n')\n",
    "\n",
    "# Iterate through the paragraphs and add them to the document\n",
    "for paragraph in paragraphs:\n",
    "    if paragraph:  # Ignore empty lines\n",
    "        doc.add_paragraph(paragraph)\n",
    "\n",
    "# Save the document\n",
    "doc.save(file_path)\n"
   ]
  },
  {
   "cell_type": "code",
   "execution_count": 5,
   "metadata": {},
   "outputs": [
    {
     "name": "stdout",
     "output_type": "stream",
     "text": [
      "Administrative Officer Job in Fitzroy, Melbourne VIC - SEEK\n"
     ]
    }
   ],
   "source": [
    "from selenium import webdriver\n",
    "job_url = 'https://www.seek.com.au/job/68922342?type=standout#sol=3947ab745533e8751f51dfd6055c802d86c49572'\n",
    "def test_url_loading(job_url):\n",
    "    options = webdriver.ChromeOptions()\n",
    "    options.add_argument('--headless')\n",
    "    driver = webdriver.Chrome(options=options)\n",
    "\n",
    "    try:\n",
    "        driver.get(job_url)\n",
    "        print(driver.title)  # Print the title of the page\n",
    "    except Exception as e:\n",
    "        print(f\"An error occurred: {str(e)}\")\n",
    "    finally:\n",
    "        driver.quit()\n",
    "test_url_loading(job_url)"
   ]
  },
  {
   "cell_type": "code",
   "execution_count": 2,
   "metadata": {},
   "outputs": [
    {
     "ename": "IndexError",
     "evalue": "list index out of range",
     "output_type": "error",
     "traceback": [
      "\u001b[1;31m---------------------------------------------------------------------------\u001b[0m",
      "\u001b[1;31mIndexError\u001b[0m                                Traceback (most recent call last)",
      "Cell \u001b[1;32mIn[2], line 25\u001b[0m\n\u001b[0;32m     23\u001b[0m postings \u001b[39m=\u001b[39m url_loader\u001b[39m.\u001b[39mload()\n\u001b[0;32m     24\u001b[0m \u001b[39m# job_descr = [i.page_content for i in postings]\u001b[39;00m\n\u001b[1;32m---> 25\u001b[0m job_description \u001b[39m=\u001b[39m postings[\u001b[39m0\u001b[39;49m]\u001b[39m.\u001b[39mpage_content\n",
      "\u001b[1;31mIndexError\u001b[0m: list index out of range"
     ]
    }
   ],
   "source": [
    "# def process_job_link(job_url):\n",
    "#     # Logging the URL to check if it's correct\n",
    "#     # logger.info(f\"Processing job URL: {job_url}\")\n",
    "\n",
    "#     # Basic validation to check if it's a string and starts with \"http\"\n",
    "#     if not isinstance(job_url, str) or not job_url.startswith(\"http\"):\n",
    "#         # logging.error(f\"Invalid job URL: {job_url}\")\n",
    "#         return None\n",
    "\n",
    "#     url_loader = SeleniumURLLoader(urls=job_url)\n",
    "#     postings = url_loader.load()\n",
    "#     # job_descr = [i.page_content for i in postings]\n",
    "#     job_description = postings[0].page_content\n",
    "\n",
    "\n",
    "#     return job_description\n",
    "\n",
    "# process_job_link('https://www.indeed.com/viewjob?jk=1b5b5b5b5b5b5b5b&tk=1f9b5b5b5b5b5b5b&from=serp&vjs=3')\n",
    "\n",
    "\n",
    "job_url = \"https://www.seek.com.au/job/68922342?type=standout#sol=3947ab745533e8751f51dfd6055c802d86c49572\"\n",
    "url_loader = SeleniumURLLoader(urls=job_url)\n",
    "postings = url_loader.load()\n",
    "# job_descr = [i.page_content for i in postings]\n",
    "job_description = postings[0].page_content\n"
   ]
  },
  {
   "cell_type": "code",
   "execution_count": 15,
   "metadata": {},
   "outputs": [
    {
     "data": {
      "text/plain": [
       "[Document(page_content=\"\\n\\n\\n\\n\\n\\n\\n\\n\\n\\n\\n\\n\\n\\n\\n\\n\\n\\n\\n\\n\\n\\n\\n\\n\\n\\n\\n\\n\\n\\n\\n\\nAdministrative Officer Job in Fitzroy, Melbourne VIC - SEEK\\n\\nAdministrative OfficerSkip to contentJobsCoursesBusinesses for saleVolunteeringSEEKJob searchProfileCareer adviceCompany reviewsSign inEmployer siteMenuJob searchProfileCareer adviceCompany reviewsSign inAustraliaAustraliaHong KongIndonesiaMalaysiaNew ZealandPhilippinesSingaporeThailandEmployer siteAll SEEK productsJobsCoursesBusinesses for saleVolunteeringJob searchProfileCareer adviceCompany reviewsEmailFacebookTwitterLinkedInAdministrative OfficerAustralian Catholic University Limited3.7·67 reviewsFitzroy, Melbourne VICAdministrative Assistants (Administration & Office Support)Other (Education & Training)Full time$78,048 – $84,489 plus 17% superPosted 13d agoMore jobs from this companyApply\\u2060SaveKey Administrative Support role in Learning and Leadership Enterprise (LLE)17% super, salary packaging, Staff Rewards Program and generous leave provisionsFixed term full time opportunity until 22 Dec 2023.About ACU:Australian Catholic University (ACU) is an inclusive community which welcomes students and staff of all beliefs. ACU has over 2,500 staff supporting more than 34,000 students across eight campuses - Ballarat, Brisbane, Canberra, Melbourne, North Sydney, Strathfield, Blacktown and Rome.ACU aspires to be a home for our staff, offer the care of a family and develop an academic and professional community. Whatever your faith or culture, and whether you are academic or professional staff, there are many opportunities both for learning and contributing at ACU.As valued members of our community, all staff members are expected to have an understanding of ACU's mission and values and to demonstrate an active contribution to them.About the role:As the Administrative Officer (Projects), you will be responsible for the effective and efficient day-to-day operations of a range of Learning and Leadership Enterprise (LLE) projects, providing support for our major microcredentials initiatives, commercial and government tenders, national and international outreach and engagement, and partner development.Working closely with the Partnerships Operations Manager, you will provide administrative support for the implementation of projects, delivery of projects and initiatives, and support the processes and frameworks required to deliver on project and organisational objectives. Excellent communication and organisation skills, a capacity to work in a fast-paced environment, and the ability to negotiate with a variety of stakeholders will be key to your success in this role.\\xa0More specifically the role entails:Support the development and submission of tenders and proposals.Provide event coordination support for a range of Learning and Leadership Enterprise events and national and international outreach and learning programs.Stakeholder engagement with a variety of internal and external stakeholders.Support for strategic initiatives.Contact:General enquiries can be sent to [email\\xa0protected]What we offer:The University pursues an excellence agenda and offers an environment where staff are welcomed and safe, and valued through development, participation and involvement.Total remuneration valued to $92,363 - $99,985 total rem (pro rata) pa, including salary component $78,048 - $84,489 (pro rata) pa (HEW 5), employer contribution to superannuation and annual leave loading.17% employer superannuation contributions to eligible continuing and fixed-term staff.Annual leave loading of an equivalent to 17.5% of four weeks' salary pro rata payable, dependent on your commencement date.As an ACU staff member, you will have access to generous benefits which include but not limited to: Staff Rewards; a variety of leave provisions and salary packaging. Find out more information about the benefits or working at ACU here.How to Apply:Step 1: Review the Position Description and become familiar with Our Mission and the Application processStep 2: Click the 'View Position Description and Apply' button, and populate your candidate application details, including your:resume (maximum 5 pages).responses to the Selection Criteria and Core Competencies in a cover letter (maximum 2 pages) or in the online Declaration and Criteria application page.brief online responses to any pre-screening employment questions.Candidates must hold Australian work rights to apply for this position. For permanent/ continuing roles, applicants must have permanent work rights. For further information visit Immigration and Citizenship(homeaffairs.gov.au)Acting in truth, ACU is dedicated to the dignity of the human person through equitable and respectful opportunities for everyone. ACU can offer support for candidates that may require adjustments through the recruitment process.Your Privacy of personal information is maintained in accordance with ACU policy. For more details visit: www.acu.edu.au/careersAdvertised: 26-JUL-2023Applications close: 09-AUG-2023 at 11:59pm AUS Eastern Standard TimeACU does not accept candidate applications submitted by external recruitment agencies through the ACU careers website.Report this job advertBe carefulDon’t provide your bank or credit card details when applying for jobs.Learn how to protect yourselfReport this job ad\\u2060Your email addressReason for reporting jobPlease selectUnable to applyFraudulentDiscriminationMisleadingOtherAdditional commentsReport jobCancel\\n\\n\\n\\n\\nSalary lookup\\n\\nWhat can I earn as an Administration Officer?\\n\\n        Find out the average salary for an Administration Officer across\\n        Australia\\n      \\n\\n\\n\\n\\nSee more detailed salary information\\n\\n\\n\\n\\n\\n\\n\\nApply\\u2060SaveJob seekersJob searchProfileRecommended jobsSaved searchesSaved jobsApplied jobsCareer adviceExplore careersExplore salariesCompany reviewsDownload appsAndroidiOSSEEK sitesEmployer siteSEEK NZCoursesBusinesses for saleVolunteeringEmployersRegister for freePost a job adProducts & pricesCustomer serviceHiring adviceMarket insightsRecruitment software partnersAbout SEEKAbout SEEKNewsroomInvestorsWork for SEEKInternational partnersBdjobs (Bangladesh)BrighterMonday (Kenya)Catho (Brazil)Jobberman (Nigeria)JobsDB (SE Asia)JobStreet (SE Asia)Jora (Australia)Jora (Worldwide)OCC Mundial (Mexico)Workana (Latin America)Zhaopin (China)Partner servicesCertsyGradConnectionJora LocalSidekickerGO1FutureLearnEmployment HeroJobAdderContactHelp centreContact usProduct & tech blogSEEK videosSocialFacebookInstagramTwitterYouTubeAustraliaAustraliaHong KongIndonesiaMalaysiaNew ZealandPhilippinesSingaporeThailandPrivacy policyTerms & conditionsProtect yourself online© SEEK. All rights reserved\\n\\n\\n\\n\\n\\n\\n\\n\\n\\n\\n\\n\\n\\n\\n\\n\\n\\n\", metadata={'source': 'https://www.seek.com.au/job/68922342?type=standout#sol=3947ab745533e8751f51dfd6055c802d86c49572', 'title': 'Administrative Officer Job in Fitzroy, Melbourne VIC - SEEK', 'description': \"Join the Faculty of Education & Arts 'Learning & Leadership Enterprise' in this fixed term full time opportunity until 22 Dec 2023. \", 'language': 'en'})]"
      ]
     },
     "execution_count": 15,
     "metadata": {},
     "output_type": "execute_result"
    }
   ],
   "source": [
    "\n",
    "postings"
   ]
  },
  {
   "cell_type": "code",
   "execution_count": 14,
   "metadata": {},
   "outputs": [
    {
     "data": {
      "text/plain": [
       "[Document(page_content=\"\\n\\n\\n\\n\\n\\n\\n\\n\\n\\n\\n\\n\\n\\n\\n\\n\\n\\n\\n\\n\\n\\n\\n\\n\\n\\n\\n\\n\\n\\n\\n\\nAdministrative Officer Job in Fitzroy, Melbourne VIC - SEEK\\n\\nAdministrative OfficerSkip to contentJobsCoursesBusinesses for saleVolunteeringSEEKJob searchProfileCareer adviceCompany reviewsSign inEmployer siteMenuJob searchProfileCareer adviceCompany reviewsSign inAustraliaAustraliaHong KongIndonesiaMalaysiaNew ZealandPhilippinesSingaporeThailandEmployer siteAll SEEK productsJobsCoursesBusinesses for saleVolunteeringJob searchProfileCareer adviceCompany reviewsEmailFacebookTwitterLinkedInAdministrative OfficerAustralian Catholic University Limited3.7·67 reviewsFitzroy, Melbourne VICAdministrative Assistants (Administration & Office Support)Other (Education & Training)Full time$78,048 – $84,489 plus 17% superPosted 13d agoMore jobs from this companyApply\\u2060SaveKey Administrative Support role in Learning and Leadership Enterprise (LLE)17% super, salary packaging, Staff Rewards Program and generous leave provisionsFixed term full time opportunity until 22 Dec 2023.About ACU:Australian Catholic University (ACU) is an inclusive community which welcomes students and staff of all beliefs. ACU has over 2,500 staff supporting more than 34,000 students across eight campuses - Ballarat, Brisbane, Canberra, Melbourne, North Sydney, Strathfield, Blacktown and Rome.ACU aspires to be a home for our staff, offer the care of a family and develop an academic and professional community. Whatever your faith or culture, and whether you are academic or professional staff, there are many opportunities both for learning and contributing at ACU.As valued members of our community, all staff members are expected to have an understanding of ACU's mission and values and to demonstrate an active contribution to them.About the role:As the Administrative Officer (Projects), you will be responsible for the effective and efficient day-to-day operations of a range of Learning and Leadership Enterprise (LLE) projects, providing support for our major microcredentials initiatives, commercial and government tenders, national and international outreach and engagement, and partner development.Working closely with the Partnerships Operations Manager, you will provide administrative support for the implementation of projects, delivery of projects and initiatives, and support the processes and frameworks required to deliver on project and organisational objectives. Excellent communication and organisation skills, a capacity to work in a fast-paced environment, and the ability to negotiate with a variety of stakeholders will be key to your success in this role.\\xa0More specifically the role entails:Support the development and submission of tenders and proposals.Provide event coordination support for a range of Learning and Leadership Enterprise events and national and international outreach and learning programs.Stakeholder engagement with a variety of internal and external stakeholders.Support for strategic initiatives.Contact:General enquiries can be sent to [email\\xa0protected]What we offer:The University pursues an excellence agenda and offers an environment where staff are welcomed and safe, and valued through development, participation and involvement.Total remuneration valued to $92,363 - $99,985 total rem (pro rata) pa, including salary component $78,048 - $84,489 (pro rata) pa (HEW 5), employer contribution to superannuation and annual leave loading.17% employer superannuation contributions to eligible continuing and fixed-term staff.Annual leave loading of an equivalent to 17.5% of four weeks' salary pro rata payable, dependent on your commencement date.As an ACU staff member, you will have access to generous benefits which include but not limited to: Staff Rewards; a variety of leave provisions and salary packaging. Find out more information about the benefits or working at ACU here.How to Apply:Step 1: Review the Position Description and become familiar with Our Mission and the Application processStep 2: Click the 'View Position Description and Apply' button, and populate your candidate application details, including your:resume (maximum 5 pages).responses to the Selection Criteria and Core Competencies in a cover letter (maximum 2 pages) or in the online Declaration and Criteria application page.brief online responses to any pre-screening employment questions.Candidates must hold Australian work rights to apply for this position. For permanent/ continuing roles, applicants must have permanent work rights. For further information visit Immigration and Citizenship(homeaffairs.gov.au)Acting in truth, ACU is dedicated to the dignity of the human person through equitable and respectful opportunities for everyone. ACU can offer support for candidates that may require adjustments through the recruitment process.Your Privacy of personal information is maintained in accordance with ACU policy. For more details visit: www.acu.edu.au/careersAdvertised: 26-JUL-2023Applications close: 09-AUG-2023 at 11:59pm AUS Eastern Standard TimeACU does not accept candidate applications submitted by external recruitment agencies through the ACU careers website.Report this job advertBe carefulDon’t provide your bank or credit card details when applying for jobs.Learn how to protect yourselfReport this job ad\\u2060Your email addressReason for reporting jobPlease selectUnable to applyFraudulentDiscriminationMisleadingOtherAdditional commentsReport jobCancel\\n\\n\\n\\n\\nSalary lookup\\n\\nWhat can I earn as an Administration Officer?\\n\\n        Find out the average salary for an Administration Officer across\\n        Australia\\n      \\n\\n\\n\\n\\nSee more detailed salary information\\n\\n\\n\\n\\n\\n\\n\\nApply\\u2060SaveJob seekersJob searchProfileRecommended jobsSaved searchesSaved jobsApplied jobsCareer adviceExplore careersExplore salariesCompany reviewsDownload appsAndroidiOSSEEK sitesEmployer siteSEEK NZCoursesBusinesses for saleVolunteeringEmployersRegister for freePost a job adProducts & pricesCustomer serviceHiring adviceMarket insightsRecruitment software partnersAbout SEEKAbout SEEKNewsroomInvestorsWork for SEEKInternational partnersBdjobs (Bangladesh)BrighterMonday (Kenya)Catho (Brazil)Jobberman (Nigeria)JobsDB (SE Asia)JobStreet (SE Asia)Jora (Australia)Jora (Worldwide)OCC Mundial (Mexico)Workana (Latin America)Zhaopin (China)Partner servicesCertsyGradConnectionJora LocalSidekickerGO1FutureLearnEmployment HeroJobAdderContactHelp centreContact usProduct & tech blogSEEK videosSocialFacebookInstagramTwitterYouTubeAustraliaAustraliaHong KongIndonesiaMalaysiaNew ZealandPhilippinesSingaporeThailandPrivacy policyTerms & conditionsProtect yourself online© SEEK. All rights reserved\\n\\n\\n\\n\\n\\n\\n\\n\\n\\n\\n\\n\\n\\n\\n\\n\\n\\n\", metadata={'source': 'https://www.seek.com.au/job/68922342?type=standout#sol=3947ab745533e8751f51dfd6055c802d86c49572', 'title': 'Administrative Officer Job in Fitzroy, Melbourne VIC - SEEK', 'description': \"Join the Faculty of Education & Arts 'Learning & Leadership Enterprise' in this fixed term full time opportunity until 22 Dec 2023. \", 'language': 'en'})]"
      ]
     },
     "execution_count": 14,
     "metadata": {},
     "output_type": "execute_result"
    }
   ],
   "source": [
    "from bs4 import BeautifulSoup\n",
    "import requests\n",
    "\n",
    "url = \"https://en.wikipedia.org/wiki/Python_(programming_language)\"\n",
    "page = requests.get(url)\n",
    "soup = BeautifulSoup(page.text, 'html.parser')\n",
    "\n",
    "text = soup.get_text()"
   ]
  },
  {
   "cell_type": "markdown",
   "metadata": {},
   "source": [
    "Improve by creating template in microsoft word and generating with download link by populating the placeholders\n",
    "Can process multiple jb descriptiosn and iterate over list of lists to create multiple cover letters\n",
    "can select how many versions to generate, max 3\n",
    "rewrite using gpt functions "
   ]
  },
  {
   "cell_type": "markdown",
   "metadata": {},
   "source": []
  }
 ],
 "metadata": {
  "kernelspec": {
   "display_name": "Python 3",
   "language": "python",
   "name": "python3"
  },
  "language_info": {
   "codemirror_mode": {
    "name": "ipython",
    "version": 3
   },
   "file_extension": ".py",
   "mimetype": "text/x-python",
   "name": "python",
   "nbconvert_exporter": "python",
   "pygments_lexer": "ipython3",
   "version": "3.11.0"
  },
  "orig_nbformat": 4
 },
 "nbformat": 4,
 "nbformat_minor": 2
}
