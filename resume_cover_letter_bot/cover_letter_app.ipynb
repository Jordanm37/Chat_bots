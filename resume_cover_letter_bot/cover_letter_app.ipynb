{
 "cells": [
  {
   "cell_type": "markdown",
   "metadata": {},
   "source": [
    "app requires:\n",
    "Upload resume as docx\n",
    "paste job link\n",
    "personal details\n",
    "extra instructions\n",
    "\n",
    "output docx"
   ]
  },
  {
   "cell_type": "code",
   "execution_count": null,
   "metadata": {},
   "outputs": [],
   "source": []
  }
 ],
 "metadata": {
  "language_info": {
   "name": "python"
  },
  "orig_nbformat": 4
 },
 "nbformat": 4,
 "nbformat_minor": 2
}
